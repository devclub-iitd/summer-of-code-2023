{
 "cells": [
  {
   "cell_type": "markdown",
   "id": "96fcd176",
   "metadata": {},
   "source": [
    "# Dataset Description\n",
    "\n",
    "Download the dataset using following API command - `kaggle competitions download -c mercari-price-suggestion-challenge`\n",
    "\n"
   ]
  },
  {
   "cell_type": "code",
   "execution_count": 1,
   "id": "82db9c37",
   "metadata": {},
   "outputs": [],
   "source": [
    "import numpy as np\n",
    "import pandas as pd\n",
    "import matplotlib.pyplot as plt\n",
    "import seaborn as sns"
   ]
  },
  {
   "cell_type": "code",
   "execution_count": 2,
   "id": "7d74c374",
   "metadata": {},
   "outputs": [],
   "source": [
    "import os\n",
    "MERCARI_PATH_TRAIN = os.path.join(os.getcwd(), \"dataset/mercari-price-suggestion-challenge/train.tsv\")\n",
    "MERCARI_PATH_TEST = os.path.join(os.getcwd(), \"dataset/mercari-price-suggestion-challenge/test.tsv\")"
   ]
  },
  {
   "cell_type": "code",
   "execution_count": 3,
   "id": "d1527df8",
   "metadata": {},
   "outputs": [
    {
     "data": {
      "text/html": [
       "<div>\n",
       "<style scoped>\n",
       "    .dataframe tbody tr th:only-of-type {\n",
       "        vertical-align: middle;\n",
       "    }\n",
       "\n",
       "    .dataframe tbody tr th {\n",
       "        vertical-align: top;\n",
       "    }\n",
       "\n",
       "    .dataframe thead th {\n",
       "        text-align: right;\n",
       "    }\n",
       "</style>\n",
       "<table border=\"1\" class=\"dataframe\">\n",
       "  <thead>\n",
       "    <tr style=\"text-align: right;\">\n",
       "      <th></th>\n",
       "      <th>name</th>\n",
       "      <th>item_condition_id</th>\n",
       "      <th>category_name</th>\n",
       "      <th>brand_name</th>\n",
       "      <th>price</th>\n",
       "      <th>shipping</th>\n",
       "      <th>item_description</th>\n",
       "    </tr>\n",
       "  </thead>\n",
       "  <tbody>\n",
       "    <tr>\n",
       "      <th>0</th>\n",
       "      <td>MLB Cincinnati Reds T Shirt Size XL</td>\n",
       "      <td>3</td>\n",
       "      <td>Men/Tops/T-shirts</td>\n",
       "      <td>NaN</td>\n",
       "      <td>10.0</td>\n",
       "      <td>1</td>\n",
       "      <td>No description yet</td>\n",
       "    </tr>\n",
       "    <tr>\n",
       "      <th>1</th>\n",
       "      <td>Razer BlackWidow Chroma Keyboard</td>\n",
       "      <td>3</td>\n",
       "      <td>Electronics/Computers &amp; Tablets/Components &amp; P...</td>\n",
       "      <td>Razer</td>\n",
       "      <td>52.0</td>\n",
       "      <td>0</td>\n",
       "      <td>This keyboard is in great condition and works ...</td>\n",
       "    </tr>\n",
       "    <tr>\n",
       "      <th>2</th>\n",
       "      <td>AVA-VIV Blouse</td>\n",
       "      <td>1</td>\n",
       "      <td>Women/Tops &amp; Blouses/Blouse</td>\n",
       "      <td>Target</td>\n",
       "      <td>10.0</td>\n",
       "      <td>1</td>\n",
       "      <td>Adorable top with a hint of lace and a key hol...</td>\n",
       "    </tr>\n",
       "    <tr>\n",
       "      <th>3</th>\n",
       "      <td>Leather Horse Statues</td>\n",
       "      <td>1</td>\n",
       "      <td>Home/Home Décor/Home Décor Accents</td>\n",
       "      <td>NaN</td>\n",
       "      <td>35.0</td>\n",
       "      <td>1</td>\n",
       "      <td>New with tags. Leather horses. Retail for [rm]...</td>\n",
       "    </tr>\n",
       "    <tr>\n",
       "      <th>4</th>\n",
       "      <td>24K GOLD plated rose</td>\n",
       "      <td>1</td>\n",
       "      <td>Women/Jewelry/Necklaces</td>\n",
       "      <td>NaN</td>\n",
       "      <td>44.0</td>\n",
       "      <td>0</td>\n",
       "      <td>Complete with certificate of authenticity</td>\n",
       "    </tr>\n",
       "  </tbody>\n",
       "</table>\n",
       "</div>"
      ],
      "text/plain": [
       "                                  name  item_condition_id  \\\n",
       "0  MLB Cincinnati Reds T Shirt Size XL                  3   \n",
       "1     Razer BlackWidow Chroma Keyboard                  3   \n",
       "2                       AVA-VIV Blouse                  1   \n",
       "3                Leather Horse Statues                  1   \n",
       "4                 24K GOLD plated rose                  1   \n",
       "\n",
       "                                       category_name brand_name  price  \\\n",
       "0                                  Men/Tops/T-shirts        NaN   10.0   \n",
       "1  Electronics/Computers & Tablets/Components & P...      Razer   52.0   \n",
       "2                        Women/Tops & Blouses/Blouse     Target   10.0   \n",
       "3                 Home/Home Décor/Home Décor Accents        NaN   35.0   \n",
       "4                            Women/Jewelry/Necklaces        NaN   44.0   \n",
       "\n",
       "   shipping                                   item_description  \n",
       "0         1                                 No description yet  \n",
       "1         0  This keyboard is in great condition and works ...  \n",
       "2         1  Adorable top with a hint of lace and a key hol...  \n",
       "3         1  New with tags. Leather horses. Retail for [rm]...  \n",
       "4         0          Complete with certificate of authenticity  "
      ]
     },
     "execution_count": 3,
     "metadata": {},
     "output_type": "execute_result"
    }
   ],
   "source": [
    "data1 = pd.read_csv(MERCARI_PATH_TRAIN, delimiter='\\t')\n",
    "data2 = pd.read_csv(MERCARI_PATH_TEST, delimiter='\\t')\n",
    "\n",
    "data = pd.concat([data1, data2])\n",
    "data = data.drop([\"train_id\", \"test_id\"], axis=1)\n",
    "data = data.reset_index(drop=True)\n",
    "data.head()"
   ]
  },
  {
   "cell_type": "code",
   "execution_count": 4,
   "id": "5d7c36f1",
   "metadata": {},
   "outputs": [
    {
     "data": {
      "text/plain": [
       "(2175894, 7)"
      ]
     },
     "execution_count": 4,
     "metadata": {},
     "output_type": "execute_result"
    }
   ],
   "source": [
    "data.shape"
   ]
  },
  {
   "cell_type": "code",
   "execution_count": 5,
   "id": "ea322787",
   "metadata": {},
   "outputs": [
    {
     "data": {
      "text/plain": [
       "name                      0\n",
       "item_condition_id         0\n",
       "category_name          9385\n",
       "brand_name           928207\n",
       "price                693359\n",
       "shipping                  0\n",
       "item_description          4\n",
       "dtype: int64"
      ]
     },
     "execution_count": 5,
     "metadata": {},
     "output_type": "execute_result"
    }
   ],
   "source": [
    "data.isna().sum()"
   ]
  },
  {
   "cell_type": "markdown",
   "id": "2714b700",
   "metadata": {},
   "source": [
    "NA values for brand name could be for unbranded goods\n",
    "\n",
    "We may also need to train a model where there is no category or item_description provided"
   ]
  },
  {
   "cell_type": "code",
   "execution_count": 6,
   "id": "967b5871",
   "metadata": {},
   "outputs": [
    {
     "data": {
      "text/plain": [
       "85"
      ]
     },
     "execution_count": 6,
     "metadata": {},
     "output_type": "execute_result"
    }
   ],
   "source": [
    "data.duplicated().sum()"
   ]
  },
  {
   "cell_type": "code",
   "execution_count": 7,
   "id": "dee00b0c",
   "metadata": {},
   "outputs": [
    {
     "data": {
      "text/plain": [
       "Bundle                                   3343\n",
       "Reserved                                  696\n",
       "Converse                                  656\n",
       "Dress                                     606\n",
       "BUNDLE                                    599\n",
       "                                         ... \n",
       "Short jumpsuit                              1\n",
       "purple nikes                                1\n",
       "Malibu heat                                 1\n",
       "NEW ** TC LULAROE ** LEOPARD/CHEETAH        1\n",
       "FREESHIP 2 Floral Scrub Tops, medium.       1\n",
       "Name: name, Length: 1750617, dtype: int64"
      ]
     },
     "execution_count": 7,
     "metadata": {},
     "output_type": "execute_result"
    }
   ],
   "source": [
    "data.name.value_counts()"
   ]
  },
  {
   "cell_type": "markdown",
   "id": "159b1566",
   "metadata": {},
   "source": [
    "This column is not categorical and potentially at test time a new name of the product may be given"
   ]
  },
  {
   "cell_type": "code",
   "execution_count": 8,
   "id": "f5cef565",
   "metadata": {},
   "outputs": [
    {
     "data": {
      "text/plain": [
       "1    940630\n",
       "3    633834\n",
       "2    551032\n",
       "4     46815\n",
       "5      3583\n",
       "Name: item_condition_id, dtype: int64"
      ]
     },
     "execution_count": 8,
     "metadata": {},
     "output_type": "execute_result"
    }
   ],
   "source": [
    "data.item_condition_id.value_counts()"
   ]
  },
  {
   "cell_type": "markdown",
   "id": "82ffed05",
   "metadata": {},
   "source": [
    "condition_id is categorical with only 5 values"
   ]
  },
  {
   "cell_type": "code",
   "execution_count": 9,
   "id": "133c1add",
   "metadata": {},
   "outputs": [
    {
     "data": {
      "text/plain": [
       "Women/Athletic Apparel/Pants, Tights, Leggings    88077\n",
       "Women/Tops & Blouses/T-Shirts                     68082\n",
       "Beauty/Makeup/Face                                50352\n",
       "Beauty/Makeup/Lips                                44028\n",
       "Electronics/Video Games & Consoles/Games          39178\n",
       "                                                  ...  \n",
       "Handmade/Toys/Doll Clothes                            1\n",
       "Handmade/Holidays/Patriotic                           1\n",
       "Handmade/Accessories/Cuff                             1\n",
       "Other/Pet Supplies/Pet Food                           1\n",
       "Handmade/Toys/Baby                                    1\n",
       "Name: category_name, Length: 1310, dtype: int64"
      ]
     },
     "execution_count": 9,
     "metadata": {},
     "output_type": "execute_result"
    }
   ],
   "source": [
    "data.category_name.value_counts()"
   ]
  },
  {
   "cell_type": "markdown",
   "id": "8abdb8db",
   "metadata": {},
   "source": [
    "Seems like we have to extract multiple categories from the categorical column and build a huge sparse matrix (consisting only of categories)"
   ]
  },
  {
   "cell_type": "code",
   "execution_count": 10,
   "id": "18070065",
   "metadata": {},
   "outputs": [
    {
     "data": {
      "text/plain": [
       "'\\nnum_cats = set()\\nfor i in range(data.shape[0]):\\n    if not data.loc[i, \\'category_name\\'].is_na():\\n        num_cats.add(len(data.loc[i, \\'category_name\\'].split(\"/\")))\\nprint(\"Distinct number of categories :\", num_cats)\\n\\ndel num_cats\\nnum_cats = {1:0, 2:0, 3:0, 4:0, 5:0}\\nfor i in range(data.shape[0]):\\n    num_cats[len(data.loc[i, \\'category_name\\'].split(\"/\"))] += 1\\nprint(\"number of records with given num of categories\", num_cats)\\n'"
      ]
     },
     "execution_count": 10,
     "metadata": {},
     "output_type": "execute_result"
    }
   ],
   "source": [
    "\"\"\"\n",
    "num_cats = set()\n",
    "for i in range(data.shape[0]):\n",
    "    if not data.loc[i, 'category_name'].is_na():\n",
    "        num_cats.add(len(data.loc[i, 'category_name'].split(\"/\")))\n",
    "print(\"Distinct number of categories :\", num_cats)\n",
    "\n",
    "del num_cats\n",
    "num_cats = {1:0, 2:0, 3:0, 4:0, 5:0}\n",
    "for i in range(data.shape[0]):\n",
    "    num_cats[len(data.loc[i, 'category_name'].split(\"/\"))] += 1\n",
    "print(\"number of records with given num of categories\", num_cats)\n",
    "\"\"\""
   ]
  },
  {
   "cell_type": "markdown",
   "id": "d4877aaf",
   "metadata": {},
   "source": [
    "There are only upto 5 categories per record and majority records have only 3 categories so we'll transform the records to only have first 3 categories (and discard others or keep them empty)"
   ]
  },
  {
   "cell_type": "code",
   "execution_count": 11,
   "id": "fab72b2c",
   "metadata": {},
   "outputs": [
    {
     "data": {
      "text/plain": [
       "Nike                 79277\n",
       "PINK                 79092\n",
       "Victoria's Secret    70508\n",
       "LuLaRoe              45598\n",
       "Apple                25435\n",
       "                     ...  \n",
       "!iT Jeans                1\n",
       "Ware                     1\n",
       "Edelbrock                1\n",
       "Piazza Sempione          1\n",
       "PediaCare                1\n",
       "Name: brand_name, Length: 5289, dtype: int64"
      ]
     },
     "execution_count": 11,
     "metadata": {},
     "output_type": "execute_result"
    }
   ],
   "source": [
    "data.brand_name.value_counts()"
   ]
  },
  {
   "cell_type": "markdown",
   "id": "94af7bff",
   "metadata": {},
   "source": [
    "Only few brand names but the column doesn't seem to be categorical"
   ]
  },
  {
   "cell_type": "code",
   "execution_count": 12,
   "id": "cf3c58f3",
   "metadata": {
    "scrolled": true
   },
   "outputs": [
    {
     "data": {
      "text/plain": [
       "0    1202364\n",
       "1     973530\n",
       "Name: shipping, dtype: int64"
      ]
     },
     "execution_count": 12,
     "metadata": {},
     "output_type": "execute_result"
    }
   ],
   "source": [
    "data.shipping.value_counts()"
   ]
  },
  {
   "cell_type": "markdown",
   "id": "a0f0bc75",
   "metadata": {},
   "source": [
    "Shipping is categorical, whereas price is clearly a float and item description is a string"
   ]
  },
  {
   "cell_type": "markdown",
   "id": "5208ab0a",
   "metadata": {},
   "source": [
    "### Findings :\n",
    "1. item_condition_id, shipping and potentially category_name column could be considered categorical\n",
    "2. all the other columns are plain-text, and can be useful features in predicting price of an item (for eg: apple device might be more expensive than a similar samsung device etc.)"
   ]
  },
  {
   "cell_type": "markdown",
   "id": "b0a15ba4",
   "metadata": {},
   "source": [
    "# EDA\n",
    "\n",
    "## 1. Price Distribution\n",
    "\n",
    "Most of the models work well when target value is normally distributed, so we'll look for common feature transforms that transforms the skewed distribution to normal distribution\n",
    "\n",
    "\n",
    "### 1. No transform"
   ]
  },
  {
   "cell_type": "code",
   "execution_count": 13,
   "id": "82d2f2f1",
   "metadata": {},
   "outputs": [
    {
     "data": {
      "image/png": "[encoded data removed]",
      "text/plain": [
       "<Figure size 1000x300 with 2 Axes>"
      ]
     },
     "metadata": {},
     "output_type": "display_data"
    }
   ],
   "source": [
    "import warnings\n",
    "import scipy.stats as stats\n",
    "warnings.filterwarnings('ignore')\n",
    "plt.figure(figsize=(10,3))\n",
    "plt.subplot(1, 2, 1)\n",
    "sns.distplot(data['price'])\n",
    "plt.title('price distribution')\n",
    "plt.subplot(1, 2, 2)\n",
    "stats.probplot(data['price'], dist=\"norm\", plot=plt)\n",
    "plt.title('price QQ plot')\n",
    "plt.show()"
   ]
  },
  {
   "cell_type": "markdown",
   "id": "1d4e4e70",
   "metadata": {},
   "source": [
    "### 2. log-transform"
   ]
  },
  {
   "cell_type": "code",
   "execution_count": 14,
   "id": "7ff9d4fd",
   "metadata": {},
   "outputs": [
    {
     "data": {
      "image/png": "[encoded data removed]",
      "text/plain": [
       "<Figure size 1000x300 with 2 Axes>"
      ]
     },
     "metadata": {},
     "output_type": "display_data"
    }
   ],
   "source": [
    "plt.figure(figsize=(10,3))\n",
    "plt.subplot(1, 2, 1)\n",
    "sns.distplot(np.log(data['price']+0.00001))\n",
    "plt.title('log price distribution')\n",
    "plt.subplot(1, 2, 2)\n",
    "stats.probplot(np.log(data['price']), dist=\"norm\", plot=plt)\n",
    "plt.title('log price QQ plot')\n",
    "plt.show()"
   ]
  },
  {
   "cell_type": "markdown",
   "id": "fa47c900",
   "metadata": {},
   "source": [
    "### 3. box-cox transform"
   ]
  },
  {
   "cell_type": "code",
   "execution_count": 15,
   "id": "83e7cc01",
   "metadata": {},
   "outputs": [
    {
     "name": "stdout",
     "output_type": "stream",
     "text": [
      "lambda : 8.472135811722177\n"
     ]
    },
    {
     "data": {
      "image/png": "[encoded data removed]",
      "text/plain": [
       "<Figure size 1000x300 with 2 Axes>"
      ]
     },
     "metadata": {},
     "output_type": "display_data"
    }
   ],
   "source": [
    "plt.figure(figsize=(10,3))\n",
    "plt.subplot(1, 2, 1)\n",
    "\n",
    "data['tprice'], lambda_ = stats.boxcox(data['price'] + 0.00001)\n",
    "print('lambda :', lambda_)\n",
    "sns.distplot(data['tprice'])\n",
    "plt.title('box-cox transfrom price distribution')\n",
    "plt.subplot(1, 2, 2)\n",
    "stats.probplot(data['tprice'], dist=\"norm\", plot=plt)\n",
    "plt.title('box-cox transfrom price QQ plot')\n",
    "plt.show()"
   ]
  },
  {
   "cell_type": "markdown",
   "id": "a62bcebc",
   "metadata": {},
   "source": [
    "We'll take the log-transformed price for now"
   ]
  },
  {
   "cell_type": "code",
   "execution_count": 16,
   "id": "05d018dc",
   "metadata": {},
   "outputs": [],
   "source": [
    "data['tprice'] = np.log(data['price']+0.00001)"
   ]
  },
  {
   "cell_type": "markdown",
   "id": "d10cd8d7",
   "metadata": {},
   "source": [
    "## 2. Distribution of other categorical attributes wrt price"
   ]
  },
  {
   "cell_type": "code",
   "execution_count": 17,
   "id": "6ed90305",
   "metadata": {},
   "outputs": [
    {
     "data": {
      "text/plain": [
       "<Axes: xlabel='item_condition_id', ylabel='tprice'>"
      ]
     },
     "execution_count": 17,
     "metadata": {},
     "output_type": "execute_result"
    },
    {
     "data": {
      "image/png": "[encoded data removed]",
      "text/plain": [
       "<Figure size 640x480 with 1 Axes>"
      ]
     },
     "metadata": {},
     "output_type": "display_data"
    }
   ],
   "source": [
    "# distribution of tprice against different item conditions\n",
    "sns.boxplot(x = 'item_condition_id', y = data['tprice'], data = data, palette = sns.color_palette('RdBu',5))"
   ]
  },
  {
   "cell_type": "markdown",
   "id": "a3f382f9",
   "metadata": {},
   "source": [
    "Price distribution is similar across item conditions"
   ]
  },
  {
   "cell_type": "code",
   "execution_count": 18,
   "id": "953b595e",
   "metadata": {},
   "outputs": [
    {
     "data": {
      "text/plain": [
       "<Axes: xlabel='shipping', ylabel='tprice'>"
      ]
     },
     "execution_count": 18,
     "metadata": {},
     "output_type": "execute_result"
    },
    {
     "data": {
      "image/png": "[encoded data removed]",
      "text/plain": [
       "<Figure size 640x480 with 1 Axes>"
      ]
     },
     "metadata": {},
     "output_type": "display_data"
    }
   ],
   "source": [
    "# distribution of tprice against shipping = 0 or 1\n",
    "sns.boxplot(x = 'shipping', y = data['tprice'], data = data, palette = sns.color_palette('RdBu',5))"
   ]
  },
  {
   "cell_type": "markdown",
   "id": "3d0930d9",
   "metadata": {},
   "source": [
    "Distribution is nearly the same except when shipping = 0, price is slightly higher"
   ]
  },
  {
   "cell_type": "markdown",
   "id": "d1f240c0",
   "metadata": {},
   "source": [
    "# Data Pre-processing"
   ]
  },
  {
   "cell_type": "code",
   "execution_count": 19,
   "id": "95fe2e8a",
   "metadata": {},
   "outputs": [],
   "source": [
    "# change the category_name column to have only upto 3 categories, and drop the old category column\n",
    "data[\"category_name\"].fillna(value='missing', inplace=True)\n",
    "data[[\"cat1\", \"cat2\", \"cat3\"]] = data[\"category_name\"].str.split('/', expand=True)[[0, 1, 2]]\n",
    "\n",
    "data[\"item_description\"] = data[\"item_description\"].replace({\"No description yet\":np.nan})\n",
    "data['brand_name'].fillna(value='un-branded', inplace=True)\n",
    "data['item_description'].fillna(value='missing', inplace=True)\n",
    "\n",
    "data = data.drop(\"category_name\", axis=1)"
   ]
  },
  {
   "cell_type": "code",
   "execution_count": 20,
   "id": "747233d8",
   "metadata": {},
   "outputs": [],
   "source": [
    "data[\"cat1\"].fillna(value='missing', inplace=True)\n",
    "data[\"cat2\"].fillna(value='missing', inplace=True)\n",
    "data[\"cat3\"].fillna(value='missing', inplace=True)"
   ]
  },
  {
   "cell_type": "code",
   "execution_count": 21,
   "id": "acb9573d",
   "metadata": {},
   "outputs": [],
   "source": [
    "for brand, v in data['brand_name'].value_counts().items():\n",
    "    if v < 1000:\n",
    "        data.loc[data['brand_name'] == brand, 'brand_name'] = 'others'"
   ]
  },
  {
   "cell_type": "code",
   "execution_count": 22,
   "id": "5bc4c4af",
   "metadata": {},
   "outputs": [],
   "source": [
    "# One-hot encode each sparse category column\n",
    "from sklearn.preprocessing import LabelBinarizer\n",
    "cat_features = [\"cat1\", \"cat2\", \"cat3\", \"brand_name\"]\n",
    "binarized_cols = []\n",
    "\n",
    "for column in cat_features:\n",
    "    binarizer = LabelBinarizer(sparse_output=True)\n",
    "    binarized_col = binarizer.fit_transform(data[column])\n",
    "    binarized_cols.append(binarized_col)"
   ]
  },
  {
   "cell_type": "code",
   "execution_count": 23,
   "id": "3e1a08e0",
   "metadata": {},
   "outputs": [],
   "source": [
    "data = data.drop([\"brand_name\", \"cat1\", \"cat2\", \"cat3\"], axis=1)"
   ]
  },
  {
   "cell_type": "code",
   "execution_count": 25,
   "id": "954fd2b0",
   "metadata": {},
   "outputs": [],
   "source": [
    "data = pd.get_dummies(data=data, columns=['item_condition_id'])\n",
    "data['shipping'] = data['shipping'].astype('uint8')"
   ]
  },
  {
   "cell_type": "markdown",
   "id": "5b901806",
   "metadata": {},
   "source": [
    "Computing TF-IDF for textual features : name and item_description"
   ]
  },
  {
   "cell_type": "code",
   "execution_count": 26,
   "id": "63bf50c2",
   "metadata": {},
   "outputs": [],
   "source": [
    "data['item_description'] = data['item_description'].astype('<U28')\n",
    "data['name'] = data['name'].astype('<U28')"
   ]
  },
  {
   "cell_type": "code",
   "execution_count": 27,
   "id": "2ad60c78",
   "metadata": {},
   "outputs": [],
   "source": [
    "# Handle all the text data\n",
    "from sklearn.feature_extraction.text import TfidfVectorizer, CountVectorizer\n",
    "from nltk.stem import PorterStemmer\n",
    "\n",
    "data['name'] = data['name'].str.replace('\\[rm\\]', '')\n",
    "data['item_description'] = data['item_description'].str.replace('\\[rm\\]', '')\n",
    "\n",
    "data['name'] = data['name'].apply(lambda x: np.char.lower(x))\n",
    "data['item_description'] = data['item_description'].apply(lambda x: np.char.lower(x))\n",
    "\n",
    "data['name'] = data['name'].str.replace(\"'\", \"\")\n",
    "data['item_description'] =  data['item_description'].str.replace(\"'\", \"\")\n",
    "\n",
    "stemmer = PorterStemmer()\n",
    "data['name'] = data['name'].apply(lambda x: stemmer.stem(x))\n",
    "data['item_description'] = data['item_description'].apply(lambda x: stemmer.stem(x))\n",
    "\n",
    "symbols = \"!\\\"#$%&()*+-./:;<=>?@[\\]^_`{|}~\\n\"\n",
    "for s in symbols:\n",
    "    data['name'] = data['name'].str.replace(s, ' ')\n",
    "    data['item_description'] = data['item_description'].str.replace(s, ' ')"
   ]
  },
  {
   "cell_type": "code",
   "execution_count": 28,
   "id": "1814b887",
   "metadata": {},
   "outputs": [],
   "source": [
    "# Create TF-IDF vectorizer\n",
    "vectorized_cols = []\n",
    "tfidf_vectorizer = TfidfVectorizer(min_df=7, max_features=10000)\n",
    "vectorized_col = tfidf_vectorizer.fit_transform(data[\"name\"])\n",
    "vectorized_cols.append(vectorized_col)\n",
    "\n",
    "tfidf_vectorizer = TfidfVectorizer(min_df=15, ngram_range=(1, 2), max_features=40000)\n",
    "vectorized_col = tfidf_vectorizer.fit_transform(data[\"item_description\"])\n",
    "vectorized_cols.append(vectorized_col)\n",
    "\n",
    "data = data.drop([\"name\", \"item_description\"], axis=1)"
   ]
  },
  {
   "cell_type": "code",
   "execution_count": 29,
   "id": "56aeeaad",
   "metadata": {},
   "outputs": [
    {
     "data": {
      "text/html": [
       "<div>\n",
       "<style scoped>\n",
       "    .dataframe tbody tr th:only-of-type {\n",
       "        vertical-align: middle;\n",
       "    }\n",
       "\n",
       "    .dataframe tbody tr th {\n",
       "        vertical-align: top;\n",
       "    }\n",
       "\n",
       "    .dataframe thead th {\n",
       "        text-align: right;\n",
       "    }\n",
       "</style>\n",
       "<table border=\"1\" class=\"dataframe\">\n",
       "  <thead>\n",
       "    <tr style=\"text-align: right;\">\n",
       "      <th></th>\n",
       "      <th>price</th>\n",
       "      <th>shipping</th>\n",
       "      <th>tprice</th>\n",
       "      <th>item_condition_id_1</th>\n",
       "      <th>item_condition_id_2</th>\n",
       "      <th>item_condition_id_3</th>\n",
       "      <th>item_condition_id_4</th>\n",
       "      <th>item_condition_id_5</th>\n",
       "    </tr>\n",
       "  </thead>\n",
       "  <tbody>\n",
       "    <tr>\n",
       "      <th>0</th>\n",
       "      <td>10.0</td>\n",
       "      <td>1</td>\n",
       "      <td>2.302586</td>\n",
       "      <td>0</td>\n",
       "      <td>0</td>\n",
       "      <td>1</td>\n",
       "      <td>0</td>\n",
       "      <td>0</td>\n",
       "    </tr>\n",
       "    <tr>\n",
       "      <th>1</th>\n",
       "      <td>52.0</td>\n",
       "      <td>0</td>\n",
       "      <td>3.951244</td>\n",
       "      <td>0</td>\n",
       "      <td>0</td>\n",
       "      <td>1</td>\n",
       "      <td>0</td>\n",
       "      <td>0</td>\n",
       "    </tr>\n",
       "    <tr>\n",
       "      <th>2</th>\n",
       "      <td>10.0</td>\n",
       "      <td>1</td>\n",
       "      <td>2.302586</td>\n",
       "      <td>1</td>\n",
       "      <td>0</td>\n",
       "      <td>0</td>\n",
       "      <td>0</td>\n",
       "      <td>0</td>\n",
       "    </tr>\n",
       "    <tr>\n",
       "      <th>3</th>\n",
       "      <td>35.0</td>\n",
       "      <td>1</td>\n",
       "      <td>3.555348</td>\n",
       "      <td>1</td>\n",
       "      <td>0</td>\n",
       "      <td>0</td>\n",
       "      <td>0</td>\n",
       "      <td>0</td>\n",
       "    </tr>\n",
       "    <tr>\n",
       "      <th>4</th>\n",
       "      <td>44.0</td>\n",
       "      <td>0</td>\n",
       "      <td>3.784190</td>\n",
       "      <td>1</td>\n",
       "      <td>0</td>\n",
       "      <td>0</td>\n",
       "      <td>0</td>\n",
       "      <td>0</td>\n",
       "    </tr>\n",
       "  </tbody>\n",
       "</table>\n",
       "</div>"
      ],
      "text/plain": [
       "   price  shipping    tprice  item_condition_id_1  item_condition_id_2  \\\n",
       "0   10.0         1  2.302586                    0                    0   \n",
       "1   52.0         0  3.951244                    0                    0   \n",
       "2   10.0         1  2.302586                    1                    0   \n",
       "3   35.0         1  3.555348                    1                    0   \n",
       "4   44.0         0  3.784190                    1                    0   \n",
       "\n",
       "   item_condition_id_3  item_condition_id_4  item_condition_id_5  \n",
       "0                    1                    0                    0  \n",
       "1                    1                    0                    0  \n",
       "2                    0                    0                    0  \n",
       "3                    0                    0                    0  \n",
       "4                    0                    0                    0  "
      ]
     },
     "execution_count": 29,
     "metadata": {},
     "output_type": "execute_result"
    }
   ],
   "source": [
    "data.head()"
   ]
  },
  {
   "cell_type": "code",
   "execution_count": null,
   "id": "78c9d3c8",
   "metadata": {},
   "outputs": [],
   "source": [
    "X = np.hstack((binarized_cols[0], binarized_cols[1], binarized_cols[2], binarized_cols[3],\n",
    "               data[''], , vectorized_cols[0], vectorized_cols[1]))\n",
    "y = data[\"tprice\"]"
   ]
  },
  {
   "cell_type": "code",
   "execution_count": null,
   "id": "e4a6a9a1",
   "metadata": {},
   "outputs": [],
   "source": []
  }
 ],
 "metadata": {
  "kernelspec": {
   "display_name": "Python 3 (ipykernel)",
   "language": "python",
   "name": "python3"
  },
  "language_info": {
   "codemirror_mode": {
    "name": "ipython",
    "version": 3
   },
   "file_extension": ".py",
   "mimetype": "text/x-python",
   "name": "python",
   "nbconvert_exporter": "python",
   "pygments_lexer": "ipython3",
   "version": "3.10.11"
  }
 },
 "nbformat": 4,
 "nbformat_minor": 5
}
