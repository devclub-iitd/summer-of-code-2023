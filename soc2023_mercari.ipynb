{
 "cells": [
  {
   "attachments": {},
   "cell_type": "markdown",
   "id": "96fcd176",
   "metadata": {},
   "source": [
    "# Dataset Description\n",
    "\n",
    "Download the dataset using following API command - `kaggle competitions download -c mercari-price-suggestion-challenge`\n",
    "\n"
   ]
  },
  {
   "cell_type": "code",
   "execution_count": 1,
   "id": "82db9c37",
   "metadata": {},
   "outputs": [],
   "source": [
    "import numpy as np\n",
    "import pandas as pd\n",
    "import matplotlib.pyplot as plt\n",
    "import seaborn as sns"
   ]
  },
  {
   "cell_type": "code",
   "execution_count": 2,
   "id": "7d74c374",
   "metadata": {},
   "outputs": [],
   "source": [
    "import os\n",
    "MERCARI_PATH_TRAIN = os.path.join(os.getcwd(), \"dataset/mercari-price-suggestion-challenge/train.tsv\")\n",
    "MERCARI_PATH_TEST = os.path.join(os.getcwd(), \"dataset/mercari-price-suggestion-challenge/test.tsv\")"
   ]
  },
  {
   "cell_type": "code",
   "execution_count": 3,
   "id": "d1527df8",
   "metadata": {},
   "outputs": [
    {
     "data": {
      "text/html": [
       "<div>\n",
       "<style scoped>\n",
       "    .dataframe tbody tr th:only-of-type {\n",
       "        vertical-align: middle;\n",
       "    }\n",
       "\n",
       "    .dataframe tbody tr th {\n",
       "        vertical-align: top;\n",
       "    }\n",
       "\n",
       "    .dataframe thead th {\n",
       "        text-align: right;\n",
       "    }\n",
       "</style>\n",
       "<table border=\"1\" class=\"dataframe\">\n",
       "  <thead>\n",
       "    <tr style=\"text-align: right;\">\n",
       "      <th></th>\n",
       "      <th>name</th>\n",
       "      <th>item_condition_id</th>\n",
       "      <th>category_name</th>\n",
       "      <th>brand_name</th>\n",
       "      <th>price</th>\n",
       "      <th>shipping</th>\n",
       "      <th>item_description</th>\n",
       "    </tr>\n",
       "  </thead>\n",
       "  <tbody>\n",
       "    <tr>\n",
       "      <th>0</th>\n",
       "      <td>MLB Cincinnati Reds T Shirt Size XL</td>\n",
       "      <td>3</td>\n",
       "      <td>Men/Tops/T-shirts</td>\n",
       "      <td>NaN</td>\n",
       "      <td>10.0</td>\n",
       "      <td>1</td>\n",
       "      <td>No description yet</td>\n",
       "    </tr>\n",
       "    <tr>\n",
       "      <th>1</th>\n",
       "      <td>Razer BlackWidow Chroma Keyboard</td>\n",
       "      <td>3</td>\n",
       "      <td>Electronics/Computers &amp; Tablets/Components &amp; P...</td>\n",
       "      <td>Razer</td>\n",
       "      <td>52.0</td>\n",
       "      <td>0</td>\n",
       "      <td>This keyboard is in great condition and works ...</td>\n",
       "    </tr>\n",
       "    <tr>\n",
       "      <th>2</th>\n",
       "      <td>AVA-VIV Blouse</td>\n",
       "      <td>1</td>\n",
       "      <td>Women/Tops &amp; Blouses/Blouse</td>\n",
       "      <td>Target</td>\n",
       "      <td>10.0</td>\n",
       "      <td>1</td>\n",
       "      <td>Adorable top with a hint of lace and a key hol...</td>\n",
       "    </tr>\n",
       "    <tr>\n",
       "      <th>3</th>\n",
       "      <td>Leather Horse Statues</td>\n",
       "      <td>1</td>\n",
       "      <td>Home/Home Décor/Home Décor Accents</td>\n",
       "      <td>NaN</td>\n",
       "      <td>35.0</td>\n",
       "      <td>1</td>\n",
       "      <td>New with tags. Leather horses. Retail for [rm]...</td>\n",
       "    </tr>\n",
       "    <tr>\n",
       "      <th>4</th>\n",
       "      <td>24K GOLD plated rose</td>\n",
       "      <td>1</td>\n",
       "      <td>Women/Jewelry/Necklaces</td>\n",
       "      <td>NaN</td>\n",
       "      <td>44.0</td>\n",
       "      <td>0</td>\n",
       "      <td>Complete with certificate of authenticity</td>\n",
       "    </tr>\n",
       "  </tbody>\n",
       "</table>\n",
       "</div>"
      ],
      "text/plain": [
       "                                  name  item_condition_id  \\\n",
       "0  MLB Cincinnati Reds T Shirt Size XL                  3   \n",
       "1     Razer BlackWidow Chroma Keyboard                  3   \n",
       "2                       AVA-VIV Blouse                  1   \n",
       "3                Leather Horse Statues                  1   \n",
       "4                 24K GOLD plated rose                  1   \n",
       "\n",
       "                                       category_name brand_name  price  \\\n",
       "0                                  Men/Tops/T-shirts        NaN   10.0   \n",
       "1  Electronics/Computers & Tablets/Components & P...      Razer   52.0   \n",
       "2                        Women/Tops & Blouses/Blouse     Target   10.0   \n",
       "3                 Home/Home Décor/Home Décor Accents        NaN   35.0   \n",
       "4                            Women/Jewelry/Necklaces        NaN   44.0   \n",
       "\n",
       "   shipping                                   item_description  \n",
       "0         1                                 No description yet  \n",
       "1         0  This keyboard is in great condition and works ...  \n",
       "2         1  Adorable top with a hint of lace and a key hol...  \n",
       "3         1  New with tags. Leather horses. Retail for [rm]...  \n",
       "4         0          Complete with certificate of authenticity  "
      ]
     },
     "execution_count": 3,
     "metadata": {},
     "output_type": "execute_result"
    }
   ],
   "source": [
    "data1 = pd.read_csv(MERCARI_PATH_TRAIN, delimiter='\\t')\n",
    "data2 = pd.read_csv(MERCARI_PATH_TEST, delimiter='\\t')\n",
    "\n",
    "data = pd.concat([data1, data2])\n",
    "data = data.drop([\"train_id\", \"test_id\"], axis=1)\n",
    "data = data.reset_index(drop=True)\n",
    "data.head()"
   ]
  },
  {
   "cell_type": "code",
   "execution_count": 4,
   "id": "5d7c36f1",
   "metadata": {},
   "outputs": [
    {
     "data": {
      "text/plain": [
       "(2175894, 7)"
      ]
     },
     "execution_count": 4,
     "metadata": {},
     "output_type": "execute_result"
    }
   ],
   "source": [
    "data.shape"
   ]
  },
  {
   "cell_type": "code",
   "execution_count": 5,
   "id": "ea322787",
   "metadata": {},
   "outputs": [
    {
     "data": {
      "text/plain": [
       "name                      0\n",
       "item_condition_id         0\n",
       "category_name          9385\n",
       "brand_name           928207\n",
       "price                693359\n",
       "shipping                  0\n",
       "item_description          6\n",
       "dtype: int64"
      ]
     },
     "execution_count": 5,
     "metadata": {},
     "output_type": "execute_result"
    }
   ],
   "source": [
    "data.isna().sum()"
   ]
  },
  {
   "attachments": {},
   "cell_type": "markdown",
   "id": "2714b700",
   "metadata": {},
   "source": [
    "NA values for brand name could be for unbranded goods\n",
    "\n",
    "We may also need to train a model where there is no category or item_description provided"
   ]
  },
  {
   "cell_type": "code",
   "execution_count": 6,
   "id": "967b5871",
   "metadata": {},
   "outputs": [
    {
     "data": {
      "text/plain": [
       "85"
      ]
     },
     "execution_count": 6,
     "metadata": {},
     "output_type": "execute_result"
    }
   ],
   "source": [
    "data.duplicated().sum()"
   ]
  },
  {
   "cell_type": "code",
   "execution_count": 7,
   "id": "dee00b0c",
   "metadata": {},
   "outputs": [
    {
     "data": {
      "text/plain": [
       "name\n",
       "Bundle                                   3343\n",
       "Reserved                                  696\n",
       "Converse                                  656\n",
       "Dress                                     606\n",
       "BUNDLE                                    599\n",
       "                                         ... \n",
       "Short jumpsuit                              1\n",
       "purple nikes                                1\n",
       "Malibu heat                                 1\n",
       "NEW ** TC LULAROE ** LEOPARD/CHEETAH        1\n",
       "FREESHIP 2 Floral Scrub Tops, medium.       1\n",
       "Name: count, Length: 1750617, dtype: int64"
      ]
     },
     "execution_count": 7,
     "metadata": {},
     "output_type": "execute_result"
    }
   ],
   "source": [
    "data.name.value_counts()"
   ]
  },
  {
   "attachments": {},
   "cell_type": "markdown",
   "id": "159b1566",
   "metadata": {},
   "source": [
    "This column is not categorical and potentially at test time a new name of the product may be given"
   ]
  },
  {
   "cell_type": "code",
   "execution_count": 8,
   "id": "f5cef565",
   "metadata": {},
   "outputs": [
    {
     "data": {
      "text/plain": [
       "item_condition_id\n",
       "1    940630\n",
       "3    633834\n",
       "2    551032\n",
       "4     46815\n",
       "5      3583\n",
       "Name: count, dtype: int64"
      ]
     },
     "execution_count": 8,
     "metadata": {},
     "output_type": "execute_result"
    }
   ],
   "source": [
    "data.item_condition_id.value_counts()"
   ]
  },
  {
   "attachments": {},
   "cell_type": "markdown",
   "id": "82ffed05",
   "metadata": {},
   "source": [
    "condition_id is categorical with only 5 values"
   ]
  },
  {
   "cell_type": "code",
   "execution_count": 9,
   "id": "133c1add",
   "metadata": {},
   "outputs": [
    {
     "data": {
      "text/plain": [
       "category_name\n",
       "Women/Athletic Apparel/Pants, Tights, Leggings    88077\n",
       "Women/Tops & Blouses/T-Shirts                     68082\n",
       "Beauty/Makeup/Face                                50352\n",
       "Beauty/Makeup/Lips                                44028\n",
       "Electronics/Video Games & Consoles/Games          39178\n",
       "                                                  ...  \n",
       "Handmade/Toys/Doll Clothes                            1\n",
       "Handmade/Holidays/Patriotic                           1\n",
       "Handmade/Accessories/Cuff                             1\n",
       "Other/Pet Supplies/Pet Food                           1\n",
       "Handmade/Toys/Baby                                    1\n",
       "Name: count, Length: 1310, dtype: int64"
      ]
     },
     "execution_count": 9,
     "metadata": {},
     "output_type": "execute_result"
    }
   ],
   "source": [
    "data.category_name.value_counts()"
   ]
  },
  {
   "attachments": {},
   "cell_type": "markdown",
   "id": "8abdb8db",
   "metadata": {},
   "source": [
    "Seems like we have to extract multiple categories from the categorical column and build a huge sparse matrix (consisting only of categories)"
   ]
  },
  {
   "cell_type": "code",
   "execution_count": 10,
   "id": "18070065",
   "metadata": {},
   "outputs": [
    {
     "data": {
      "text/plain": [
       "'\\nnum_cats = set()\\nfor i in range(data.shape[0]):\\n    if not data.loc[i, \\'category_name\\'].is_na():\\n        num_cats.add(len(data.loc[i, \\'category_name\\'].split(\"/\")))\\nprint(\"Distinct number of categories :\", num_cats)\\n\\ndel num_cats\\nnum_cats = {1:0, 2:0, 3:0, 4:0, 5:0}\\nfor i in range(data.shape[0]):\\n    num_cats[len(data.loc[i, \\'category_name\\'].split(\"/\"))] += 1\\nprint(\"number of records with given num of categories\", num_cats)\\n'"
      ]
     },
     "execution_count": 10,
     "metadata": {},
     "output_type": "execute_result"
    }
   ],
   "source": [
    "\"\"\"\n",
    "num_cats = set()\n",
    "for i in range(data.shape[0]):\n",
    "    if not data.loc[i, 'category_name'].is_na():\n",
    "        num_cats.add(len(data.loc[i, 'category_name'].split(\"/\")))\n",
    "print(\"Distinct number of categories :\", num_cats)\n",
    "\n",
    "del num_cats\n",
    "num_cats = {1:0, 2:0, 3:0, 4:0, 5:0}\n",
    "for i in range(data.shape[0]):\n",
    "    num_cats[len(data.loc[i, 'category_name'].split(\"/\"))] += 1\n",
    "print(\"number of records with given num of categories\", num_cats)\n",
    "\"\"\""
   ]
  },
  {
   "attachments": {},
   "cell_type": "markdown",
   "id": "d4877aaf",
   "metadata": {},
   "source": [
    "There are only upto 5 categories per record and majority records have only 3 categories so we'll transform the records to only have first 3 categories (and discard others or keep them empty)"
   ]
  },
  {
   "cell_type": "code",
   "execution_count": 11,
   "id": "fab72b2c",
   "metadata": {},
   "outputs": [
    {
     "data": {
      "text/plain": [
       "brand_name\n",
       "Nike                 79277\n",
       "PINK                 79092\n",
       "Victoria's Secret    70508\n",
       "LuLaRoe              45598\n",
       "Apple                25435\n",
       "                     ...  \n",
       "!iT Jeans                1\n",
       "Ware                     1\n",
       "Edelbrock                1\n",
       "Piazza Sempione          1\n",
       "PediaCare                1\n",
       "Name: count, Length: 5289, dtype: int64"
      ]
     },
     "execution_count": 11,
     "metadata": {},
     "output_type": "execute_result"
    }
   ],
   "source": [
    "data.brand_name.value_counts()"
   ]
  },
  {
   "attachments": {},
   "cell_type": "markdown",
   "id": "94af7bff",
   "metadata": {},
   "source": [
    "Only few brand names but the column doesn't seem to be categorical"
   ]
  },
  {
   "cell_type": "code",
   "execution_count": 12,
   "id": "cf3c58f3",
   "metadata": {
    "scrolled": true
   },
   "outputs": [
    {
     "data": {
      "text/plain": [
       "shipping\n",
       "0    1202364\n",
       "1     973530\n",
       "Name: count, dtype: int64"
      ]
     },
     "execution_count": 12,
     "metadata": {},
     "output_type": "execute_result"
    }
   ],
   "source": [
    "data.shipping.value_counts()"
   ]
  },
  {
   "attachments": {},
   "cell_type": "markdown",
   "id": "a0f0bc75",
   "metadata": {},
   "source": [
    "Shipping is categorical, whereas price is clearly a float and item description is a string"
   ]
  },
  {
   "attachments": {},
   "cell_type": "markdown",
   "id": "5208ab0a",
   "metadata": {},
   "source": [
    "### Findings :\n",
    "1. item_condition_id, shipping and potentially category_name column could be considered categorical\n",
    "2. all the other columns are plain-text, and can be useful features in predicting price of an item (for eg: apple device might be more expensive than a similar samsung device etc.)"
   ]
  },
  {
   "attachments": {},
   "cell_type": "markdown",
   "id": "b0a15ba4",
   "metadata": {},
   "source": [
    "# EDA\n",
    "\n",
    "## 1. Price Distribution\n",
    "\n",
    "Most of the models work well when target value is normally distributed, so we'll look for common feature transforms that transforms the skewed distribution to normal distribution\n",
    "\n",
    "\n",
    "### 1. No transform"
   ]
  },
  {
   "cell_type": "code",
   "execution_count": 13,
   "id": "82d2f2f1",
   "metadata": {},
   "outputs": [
    {
     "data": {
      "image/png": "[encoded data removed]",
      "text/plain": [
       "<Figure size 1000x300 with 2 Axes>"
      ]
     },
     "metadata": {},
     "output_type": "display_data"
    }
   ],
   "source": [
    "import warnings\n",
    "import scipy.stats as stats\n",
    "warnings.filterwarnings('ignore')\n",
    "plt.figure(figsize=(10,3))\n",
    "plt.subplot(1, 2, 1)\n",
    "sns.distplot(data['price'])\n",
    "plt.title('price distribution')\n",
    "plt.subplot(1, 2, 2)\n",
    "stats.probplot(data['price'], dist=\"norm\", plot=plt)\n",
    "plt.title('price QQ plot')\n",
    "plt.show()"
   ]
  },
  {
   "attachments": {},
   "cell_type": "markdown",
   "id": "1d4e4e70",
   "metadata": {},
   "source": [
    "### 2. log-transform"
   ]
  },
  {
   "cell_type": "code",
   "execution_count": 14,
   "id": "7ff9d4fd",
   "metadata": {},
   "outputs": [
    {
     "data": {
      "image/png": "[encoded data removed]",
      "text/plain": [
       "<Figure size 1000x300 with 2 Axes>"
      ]
     },
     "metadata": {},
     "output_type": "display_data"
    }
   ],
   "source": [
    "plt.figure(figsize=(10,3))\n",
    "plt.subplot(1, 2, 1)\n",
    "sns.distplot(np.log(data['price']+0.00001))\n",
    "plt.title('log price distribution')\n",
    "plt.subplot(1, 2, 2)\n",
    "stats.probplot(np.log(data['price']), dist=\"norm\", plot=plt)\n",
    "plt.title('log price QQ plot')\n",
    "plt.show()"
   ]
  },
  {
   "attachments": {},
   "cell_type": "markdown",
   "id": "a62bcebc",
   "metadata": {},
   "source": [
    "We'll take the log-transformed price for now as it looks lot less skewed"
   ]
  },
  {
   "cell_type": "code",
   "execution_count": 15,
   "id": "05d018dc",
   "metadata": {},
   "outputs": [],
   "source": [
    "data['tprice'] = np.log(data['price']+0.00001)"
   ]
  },
  {
   "attachments": {},
   "cell_type": "markdown",
   "id": "d10cd8d7",
   "metadata": {},
   "source": [
    "## 2. Distribution of other categorical attributes wrt price"
   ]
  },
  {
   "cell_type": "code",
   "execution_count": 16,
   "id": "6ed90305",
   "metadata": {},
   "outputs": [
    {
     "data": {
      "text/plain": [
       "<Axes: xlabel='item_condition_id', ylabel='tprice'>"
      ]
     },
     "execution_count": 16,
     "metadata": {},
     "output_type": "execute_result"
    },
    {
     "data": {
      "image/png": "[encoded data removed]",
      "text/plain": [
       "<Figure size 640x480 with 1 Axes>"
      ]
     },
     "metadata": {},
     "output_type": "display_data"
    }
   ],
   "source": [
    "# distribution of tprice against different item conditions\n",
    "sns.boxplot(x = 'item_condition_id', y = data['tprice'], data = data, palette = sns.color_palette('RdBu',5))"
   ]
  },
  {
   "attachments": {},
   "cell_type": "markdown",
   "id": "a3f382f9",
   "metadata": {},
   "source": [
    "Price distribution is similar across item conditions"
   ]
  },
  {
   "cell_type": "code",
   "execution_count": 17,
   "id": "953b595e",
   "metadata": {},
   "outputs": [
    {
     "data": {
      "text/plain": [
       "<Axes: xlabel='shipping', ylabel='tprice'>"
      ]
     },
     "execution_count": 17,
     "metadata": {},
     "output_type": "execute_result"
    },
    {
     "data": {
      "image/png": "[encoded data removed]",
      "text/plain": [
       "<Figure size 640x480 with 1 Axes>"
      ]
     },
     "metadata": {},
     "output_type": "display_data"
    }
   ],
   "source": [
    "# distribution of tprice against shipping = 0 or 1\n",
    "sns.boxplot(x = 'shipping', y = data['tprice'], data = data, palette = sns.color_palette('RdBu',5))"
   ]
  },
  {
   "attachments": {},
   "cell_type": "markdown",
   "id": "3d0930d9",
   "metadata": {},
   "source": [
    "Distribution is nearly the same except when shipping = 0, price is slightly higher"
   ]
  },
  {
   "attachments": {},
   "cell_type": "markdown",
   "id": "d1f240c0",
   "metadata": {},
   "source": [
    "# Data Pre-processing"
   ]
  },
  {
   "cell_type": "code",
   "execution_count": 18,
   "id": "95fe2e8a",
   "metadata": {},
   "outputs": [],
   "source": [
    "# change the category_name column to have only upto 3 categories, and drop the old category column\n",
    "data[\"category_name\"].fillna(value='missing', inplace=True)\n",
    "data[[\"cat1\", \"cat2\", \"cat3\"]] = data[\"category_name\"].str.split('/', expand=True)[[0, 1, 2]]\n",
    "\n",
    "data[\"item_description\"] = data[\"item_description\"].replace({\"No description yet\":np.nan})\n",
    "data['brand_name'].fillna(value='un-branded', inplace=True)\n",
    "data['item_description'].fillna(value='missing', inplace=True)\n",
    "\n",
    "data = data.drop(\"category_name\", axis=1)"
   ]
  },
  {
   "cell_type": "code",
   "execution_count": 19,
   "id": "747233d8",
   "metadata": {},
   "outputs": [],
   "source": [
    "data[\"cat1\"].fillna(value='missing', inplace=True)\n",
    "data[\"cat2\"].fillna(value='missing', inplace=True)\n",
    "data[\"cat3\"].fillna(value='missing', inplace=True)"
   ]
  },
  {
   "cell_type": "code",
   "execution_count": 20,
   "id": "acb9573d",
   "metadata": {},
   "outputs": [],
   "source": [
    "for brand, v in data['brand_name'].value_counts().items():\n",
    "    if v < 1000:\n",
    "        data.loc[data['brand_name'] == brand, 'brand_name'] = 'others'"
   ]
  },
  {
   "cell_type": "code",
   "execution_count": 21,
   "id": "5bc4c4af",
   "metadata": {},
   "outputs": [],
   "source": [
    "# One-hot encode each sparse category column\n",
    "from sklearn.preprocessing import LabelBinarizer\n",
    "cat_features = [\"cat1\", \"cat2\", \"cat3\", \"brand_name\"]\n",
    "binarized_cols = []\n",
    "\n",
    "for column in cat_features:\n",
    "    binarizer = LabelBinarizer(sparse_output=True)\n",
    "    binarized_col = binarizer.fit_transform(data[column])\n",
    "    binarized_cols.append(binarized_col)"
   ]
  },
  {
   "cell_type": "code",
   "execution_count": 22,
   "id": "99e04128",
   "metadata": {},
   "outputs": [],
   "source": [
    "cat_features = [\"item_condition_id\", \"shipping\"]\n",
    "\n",
    "for column in cat_features:\n",
    "    binarizer = LabelBinarizer(sparse_output=False)\n",
    "    binarized_col = binarizer.fit_transform(data[column])\n",
    "    binarized_cols.append(binarized_col)"
   ]
  },
  {
   "cell_type": "code",
   "execution_count": 23,
   "id": "3e1a08e0",
   "metadata": {},
   "outputs": [],
   "source": [
    "data = data.drop([\"brand_name\", \"cat1\", \"cat2\", \"cat3\", \"item_condition_id\", \"shipping\"], axis=1)"
   ]
  },
  {
   "attachments": {},
   "cell_type": "markdown",
   "id": "5b901806",
   "metadata": {},
   "source": [
    "Computing TF-IDF for textual features : name and item_description"
   ]
  },
  {
   "cell_type": "code",
   "execution_count": 24,
   "id": "63bf50c2",
   "metadata": {},
   "outputs": [],
   "source": [
    "data['item_description'] = data['item_description'].astype('<U28')\n",
    "data['name'] = data['name'].astype('<U28')"
   ]
  },
  {
   "cell_type": "code",
   "execution_count": 25,
   "id": "2ad60c78",
   "metadata": {},
   "outputs": [],
   "source": [
    "# Handle all the text data\n",
    "from sklearn.feature_extraction.text import TfidfVectorizer, CountVectorizer\n",
    "from nltk.stem import PorterStemmer\n",
    "\n",
    "data['name'] = data['name'].str.replace('\\[rm\\]', '')\n",
    "data['item_description'] = data['item_description'].str.replace('\\[rm\\]', '')\n",
    "\n",
    "data['name'] = data['name'].apply(lambda x: np.char.lower(x))\n",
    "data['item_description'] = data['item_description'].apply(lambda x: np.char.lower(x))\n",
    "\n",
    "data['name'] = data['name'].str.replace(\"'\", \"\")\n",
    "data['item_description'] =  data['item_description'].str.replace(\"'\", \"\")\n",
    "\n",
    "stemmer = PorterStemmer()\n",
    "data['name'] = data['name'].apply(lambda x: stemmer.stem(x))\n",
    "data['item_description'] = data['item_description'].apply(lambda x: stemmer.stem(x))\n",
    "\n",
    "symbols = \"!\\\"#$%&()*+-./:;<=>?@[\\]^_`{|}~\\n\"\n",
    "for s in symbols:\n",
    "    data['name'] = data['name'].str.replace(s, ' ')\n",
    "    data['item_description'] = data['item_description'].str.replace(s, ' ')"
   ]
  },
  {
   "cell_type": "code",
   "execution_count": 26,
   "id": "1814b887",
   "metadata": {},
   "outputs": [],
   "source": [
    "# Create TF-IDF vectorizer\n",
    "vectorized_cols = []\n",
    "tfidf_vectorizer = TfidfVectorizer(min_df=7, max_features=10000)\n",
    "vectorized_col = tfidf_vectorizer.fit_transform(data[\"name\"])\n",
    "vectorized_cols.append(vectorized_col)\n",
    "\n",
    "tfidf_vectorizer = TfidfVectorizer(min_df=15, ngram_range=(1, 2), max_features=40000)\n",
    "vectorized_col = tfidf_vectorizer.fit_transform(data[\"item_description\"])\n",
    "vectorized_cols.append(vectorized_col)\n",
    "\n",
    "data = data.drop([\"name\", \"item_description\"], axis=1)"
   ]
  },
  {
   "cell_type": "code",
   "execution_count": 27,
   "id": "56aeeaad",
   "metadata": {
    "scrolled": true
   },
   "outputs": [
    {
     "data": {
      "text/html": [
       "<div>\n",
       "<style scoped>\n",
       "    .dataframe tbody tr th:only-of-type {\n",
       "        vertical-align: middle;\n",
       "    }\n",
       "\n",
       "    .dataframe tbody tr th {\n",
       "        vertical-align: top;\n",
       "    }\n",
       "\n",
       "    .dataframe thead th {\n",
       "        text-align: right;\n",
       "    }\n",
       "</style>\n",
       "<table border=\"1\" class=\"dataframe\">\n",
       "  <thead>\n",
       "    <tr style=\"text-align: right;\">\n",
       "      <th></th>\n",
       "      <th>price</th>\n",
       "      <th>tprice</th>\n",
       "    </tr>\n",
       "  </thead>\n",
       "  <tbody>\n",
       "    <tr>\n",
       "      <th>0</th>\n",
       "      <td>10.0</td>\n",
       "      <td>2.302586</td>\n",
       "    </tr>\n",
       "    <tr>\n",
       "      <th>1</th>\n",
       "      <td>52.0</td>\n",
       "      <td>3.951244</td>\n",
       "    </tr>\n",
       "    <tr>\n",
       "      <th>2</th>\n",
       "      <td>10.0</td>\n",
       "      <td>2.302586</td>\n",
       "    </tr>\n",
       "    <tr>\n",
       "      <th>3</th>\n",
       "      <td>35.0</td>\n",
       "      <td>3.555348</td>\n",
       "    </tr>\n",
       "    <tr>\n",
       "      <th>4</th>\n",
       "      <td>44.0</td>\n",
       "      <td>3.784190</td>\n",
       "    </tr>\n",
       "  </tbody>\n",
       "</table>\n",
       "</div>"
      ],
      "text/plain": [
       "   price    tprice\n",
       "0   10.0  2.302586\n",
       "1   52.0  3.951244\n",
       "2   10.0  2.302586\n",
       "3   35.0  3.555348\n",
       "4   44.0  3.784190"
      ]
     },
     "execution_count": 27,
     "metadata": {},
     "output_type": "execute_result"
    }
   ],
   "source": [
    "data.head()"
   ]
  },
  {
   "cell_type": "code",
   "execution_count": 28,
   "id": "78c9d3c8",
   "metadata": {},
   "outputs": [],
   "source": [
    "from scipy.sparse import hstack\n",
    "\n",
    "X = hstack([binarized_cols[0], binarized_cols[1], binarized_cols[2],\n",
    "            binarized_cols[3], binarized_cols[4], binarized_cols[5], \n",
    "            vectorized_cols[0], vectorized_cols[1]]).tocsr()\n",
    "\n",
    "y = data[\"tprice\"]"
   ]
  },
  {
   "cell_type": "code",
   "execution_count": 29,
   "id": "0ce40ab4",
   "metadata": {},
   "outputs": [],
   "source": [
    "# save memory\n",
    "del data, binarized_cols, vectorized_cols"
   ]
  },
  {
   "attachments": {},
   "cell_type": "markdown",
   "id": "2f6218b7",
   "metadata": {},
   "source": [
    "# Model Training\n",
    "\n",
    "1. SGDRegressor\n",
    "2. Random Forest Regressor\n",
    "3. Gradient Boosted Trees (LightGBM)"
   ]
  },
  {
   "cell_type": "code",
   "execution_count": 30,
   "id": "e3187797",
   "metadata": {},
   "outputs": [],
   "source": [
    "# Too many target values are nan, so we replace the nan values with median\n",
    "from sklearn.impute import SimpleImputer\n",
    "\n",
    "imputer = SimpleImputer(strategy='median')\n",
    "y_si = imputer.fit_transform(y.values.reshape(-1, 1)).ravel()"
   ]
  },
  {
   "cell_type": "code",
   "execution_count": 31,
   "id": "259d6184",
   "metadata": {},
   "outputs": [],
   "source": [
    "from sklearn.model_selection import train_test_split\n",
    "\n",
    "X_train, X_test, y_train, y_test = train_test_split(X, y_si, test_size=0.20, random_state=42)"
   ]
  },
  {
   "cell_type": "code",
   "execution_count": 32,
   "id": "5fea53ed",
   "metadata": {},
   "outputs": [],
   "source": [
    "from sklearn.model_selection import RandomizedSearchCV, GridSearchCV\n",
    "from sklearn.metrics import mean_squared_error, r2_score, explained_variance_score\n",
    "\n",
    "def fitreg_randomized_search(reg,\n",
    "                             X_train,\n",
    "                             y_train,\n",
    "                             params,\n",
    "                             cv=5,\n",
    "                             n_iter=10,\n",
    "                             scoring='neg_mean_squared_error',\n",
    "                            verbose=1,\n",
    "                            n_jobs=8):\n",
    "    search = RandomizedSearchCV(estimator=reg,\n",
    "                               param_distributions=params,\n",
    "                               scoring=scoring,\n",
    "                               cv=cv,\n",
    "                               verbose=verbose,\n",
    "                               random_state=42,\n",
    "                               n_iter=n_iter,\n",
    "                               n_jobs=n_jobs)\n",
    "    search.fit(X_train, y_train)\n",
    "    return search.best_estimator_\n",
    "\n",
    "def fitreg_grid_search(reg,\n",
    "                       X_train,\n",
    "                       y_train,\n",
    "                       params,\n",
    "                       cv=5,\n",
    "                       n_iter=10,\n",
    "                       scoring='neg_mean_squared_error',\n",
    "                       verbose=1,\n",
    "                       n_jobs=8):\n",
    "    search = GridSearchCV(estimator=reg,\n",
    "                       param_grid=params,\n",
    "                       scoring=scoring,\n",
    "                       cv=cv,\n",
    "                       verbose=verbose,\n",
    "                       n_iter=n_iter,\n",
    "                       n_jobs=n_jobs)\n",
    "    search.fit(X_train, y_train)\n",
    "    return search.best_estimator_\n",
    "\n",
    "\n",
    "def compute_performance(reg, X_test, y_test):\n",
    "    def map_error(y_true, y_pred):\n",
    "        return np.mean(np.abs((y_true - y_pred) / y_true)) * 100\n",
    "    y_pred = reg.predict(X_test)\n",
    "    rmse = np.sqrt(mean_squared_error(y_test, y_pred))\n",
    "    r2 = r2_score(y_test, y_pred)\n",
    "    evs = explained_variance_score(y_test, y_pred)\n",
    "    mape = map_error(y_test, y_pred)\n",
    "    \n",
    "    return rmse, r2, mape, evs"
   ]
  },
  {
   "attachments": {},
   "cell_type": "markdown",
   "id": "052a1466",
   "metadata": {},
   "source": [
    "## 1. SGDRegressor"
   ]
  },
  {
   "cell_type": "code",
   "execution_count": 34,
   "id": "3cb2b6b7",
   "metadata": {
    "scrolled": true
   },
   "outputs": [
    {
     "name": "stdout",
     "output_type": "stream",
     "text": [
      "Fitting 5 folds for each of 10 candidates, totalling 50 fits\n",
      "[CV] END alpha=0.01, l1_ratio=0.5, learning_rate=adaptive, max_iter=2000, penalty=elasticnet; total time=  21.6s\n",
      "[CV] END alpha=0.01, l1_ratio=0.5, learning_rate=adaptive, max_iter=2000, penalty=elasticnet; total time=  21.1s\n",
      "[CV] END alpha=0.01, l1_ratio=0.5, learning_rate=adaptive, max_iter=2000, penalty=elasticnet; total time=  20.7s\n",
      "[CV] END alpha=0.01, l1_ratio=0.5, learning_rate=adaptive, max_iter=2000, penalty=elasticnet; total time=  20.7s\n",
      "[CV] END alpha=0.01, l1_ratio=0.5, learning_rate=adaptive, max_iter=2000, penalty=elasticnet; total time=  20.7s\n",
      "[CV] END alpha=0.01, l1_ratio=0.15, learning_rate=constant, max_iter=1000, penalty=l2; total time=   3.1s\n",
      "[CV] END alpha=0.01, l1_ratio=0.15, learning_rate=constant, max_iter=1000, penalty=l2; total time=   3.1s\n",
      "[CV] END alpha=0.01, l1_ratio=0.15, learning_rate=constant, max_iter=1000, penalty=l2; total time=   3.1s\n",
      "[CV] END alpha=0.01, l1_ratio=0.15, learning_rate=constant, max_iter=1000, penalty=l2; total time=   3.1s\n",
      "[CV] END alpha=0.01, l1_ratio=0.15, learning_rate=constant, max_iter=1000, penalty=l2; total time=   3.1s\n",
      "[CV] END alpha=0.01, l1_ratio=0.3, learning_rate=constant, max_iter=2000, penalty=elasticnet; total time=   3.9s\n",
      "[CV] END alpha=0.01, l1_ratio=0.3, learning_rate=constant, max_iter=2000, penalty=elasticnet; total time=   3.9s\n",
      "[CV] END alpha=0.01, l1_ratio=0.3, learning_rate=constant, max_iter=2000, penalty=elasticnet; total time=   3.9s\n",
      "[CV] END alpha=0.01, l1_ratio=0.3, learning_rate=constant, max_iter=2000, penalty=elasticnet; total time=   3.9s\n",
      "[CV] END alpha=0.01, l1_ratio=0.3, learning_rate=constant, max_iter=2000, penalty=elasticnet; total time=   3.9s\n",
      "[CV] END alpha=0.001, l1_ratio=0.15, learning_rate=constant, max_iter=1000, penalty=l2; total time=   3.1s\n",
      "[CV] END alpha=0.001, l1_ratio=0.15, learning_rate=constant, max_iter=1000, penalty=l2; total time=   3.1s\n",
      "[CV] END alpha=0.001, l1_ratio=0.15, learning_rate=constant, max_iter=1000, penalty=l2; total time=   3.1s\n",
      "[CV] END alpha=0.001, l1_ratio=0.15, learning_rate=constant, max_iter=1000, penalty=l2; total time=   3.1s\n",
      "[CV] END alpha=0.001, l1_ratio=0.15, learning_rate=constant, max_iter=1000, penalty=l2; total time=   3.1s\n",
      "[CV] END alpha=0.001, l1_ratio=0.5, learning_rate=constant, max_iter=2000, penalty=l2; total time=   3.1s\n",
      "[CV] END alpha=0.001, l1_ratio=0.5, learning_rate=constant, max_iter=2000, penalty=l2; total time=   3.1s\n",
      "[CV] END alpha=0.001, l1_ratio=0.5, learning_rate=constant, max_iter=2000, penalty=l2; total time=   3.1s\n",
      "[CV] END alpha=0.001, l1_ratio=0.5, learning_rate=constant, max_iter=2000, penalty=l2; total time=   3.1s\n",
      "[CV] END alpha=0.001, l1_ratio=0.5, learning_rate=constant, max_iter=2000, penalty=l2; total time=   3.1s\n",
      "[CV] END alpha=0.0001, l1_ratio=0.3, learning_rate=adaptive, max_iter=1000, penalty=elasticnet; total time=  24.1s\n",
      "[CV] END alpha=0.0001, l1_ratio=0.3, learning_rate=adaptive, max_iter=1000, penalty=elasticnet; total time=  24.0s\n",
      "[CV] END alpha=0.0001, l1_ratio=0.3, learning_rate=adaptive, max_iter=1000, penalty=elasticnet; total time=  24.0s\n",
      "[CV] END alpha=0.0001, l1_ratio=0.3, learning_rate=adaptive, max_iter=1000, penalty=elasticnet; total time=  24.1s\n",
      "[CV] END alpha=0.0001, l1_ratio=0.3, learning_rate=adaptive, max_iter=1000, penalty=elasticnet; total time=  24.1s\n",
      "[CV] END alpha=0.001, l1_ratio=0.5, learning_rate=adaptive, max_iter=1000, penalty=elasticnet; total time=  20.7s\n",
      "[CV] END alpha=0.001, l1_ratio=0.5, learning_rate=adaptive, max_iter=1000, penalty=elasticnet; total time=  20.7s\n",
      "[CV] END alpha=0.001, l1_ratio=0.5, learning_rate=adaptive, max_iter=1000, penalty=elasticnet; total time=  20.7s\n",
      "[CV] END alpha=0.001, l1_ratio=0.5, learning_rate=adaptive, max_iter=1000, penalty=elasticnet; total time=  20.7s\n",
      "[CV] END alpha=0.001, l1_ratio=0.5, learning_rate=adaptive, max_iter=1000, penalty=elasticnet; total time=  20.7s\n",
      "[CV] END alpha=0.0001, l1_ratio=0.5, learning_rate=adaptive, max_iter=3000, penalty=l1; total time=  22.4s\n",
      "[CV] END alpha=0.0001, l1_ratio=0.5, learning_rate=adaptive, max_iter=3000, penalty=l1; total time=  22.4s\n",
      "[CV] END alpha=0.0001, l1_ratio=0.5, learning_rate=adaptive, max_iter=3000, penalty=l1; total time=  22.4s\n",
      "[CV] END alpha=0.0001, l1_ratio=0.5, learning_rate=adaptive, max_iter=3000, penalty=l1; total time=  22.4s\n",
      "[CV] END alpha=0.0001, l1_ratio=0.5, learning_rate=adaptive, max_iter=3000, penalty=l1; total time=  22.4s\n",
      "[CV] END alpha=0.001, l1_ratio=0.5, learning_rate=adaptive, max_iter=1000, penalty=l2; total time=  16.8s\n",
      "[CV] END alpha=0.001, l1_ratio=0.5, learning_rate=adaptive, max_iter=1000, penalty=l2; total time=  16.4s\n",
      "[CV] END alpha=0.001, l1_ratio=0.5, learning_rate=adaptive, max_iter=1000, penalty=l2; total time=  16.4s\n",
      "[CV] END alpha=0.001, l1_ratio=0.5, learning_rate=adaptive, max_iter=1000, penalty=l2; total time=  16.4s\n",
      "[CV] END alpha=0.001, l1_ratio=0.5, learning_rate=adaptive, max_iter=1000, penalty=l2; total time=  16.4s\n",
      "[CV] END alpha=0.01, l1_ratio=0.5, learning_rate=constant, max_iter=1000, penalty=l1; total time=   3.9s\n",
      "[CV] END alpha=0.01, l1_ratio=0.5, learning_rate=constant, max_iter=1000, penalty=l1; total time=   3.9s\n",
      "[CV] END alpha=0.01, l1_ratio=0.5, learning_rate=constant, max_iter=1000, penalty=l1; total time=   3.9s\n",
      "[CV] END alpha=0.01, l1_ratio=0.5, learning_rate=constant, max_iter=1000, penalty=l1; total time=   3.9s\n",
      "[CV] END alpha=0.01, l1_ratio=0.5, learning_rate=constant, max_iter=1000, penalty=l1; total time=   3.9s\n"
     ]
    }
   ],
   "source": [
    "from sklearn.linear_model import SGDRegressor\n",
    "\n",
    "param_grid = {\n",
    "    'alpha': [0.0001, 0.001, 0.01],\n",
    "    'penalty': ['l1', 'l2', 'elasticnet'],\n",
    "    'l1_ratio': [0.15, 0.3, 0.5],\n",
    "    'max_iter': [1000, 2000, 3000],\n",
    "    'learning_rate': ['constant', 'adaptive']\n",
    "}\n",
    "\n",
    "sgd_reg = SGDRegressor()\n",
    "sgd_reg = fitreg_randomized_search(sgd_reg, X_train, y_train, param_grid, verbose=2)"
   ]
  },
  {
   "cell_type": "code",
   "execution_count": 35,
   "id": "fb06d5db",
   "metadata": {},
   "outputs": [
    {
     "name": "stdout",
     "output_type": "stream",
     "text": [
      "RMSE : 0.596\n",
      "R2   : 0.292\n",
      "MAPE : 14.804\n",
      "EVS  : 0.292\n"
     ]
    }
   ],
   "source": [
    "# Performance metrics\n",
    "rmse, r2, mape, evs = compute_performance(sgd_reg, X_test, y_test)\n",
    "print(f\"RMSE : {rmse:.3f}\")\n",
    "print(f\"R2   : {r2:.3f}\")\n",
    "print(f\"MAPE : {mape:.3f}\")\n",
    "print(f\"EVS  : {evs:.3f}\")"
   ]
  },
  {
   "attachments": {},
   "cell_type": "markdown",
   "id": "0ff1dfad",
   "metadata": {},
   "source": [
    "## 2. Random Forest Regressor"
   ]
  },
  {
   "cell_type": "code",
   "execution_count": 36,
   "id": "d40046a9",
   "metadata": {
    "scrolled": true
   },
   "outputs": [
    {
     "name": "stdout",
     "output_type": "stream",
     "text": [
      "Fitting 5 folds for each of 10 candidates, totalling 50 fits\n",
      "[CV] END max_depth=None, max_features=auto, min_samples_leaf=4, min_samples_split=10, n_estimators=100; total time=   0.3s\n",
      "[CV] END max_depth=None, max_features=auto, min_samples_leaf=4, min_samples_split=10, n_estimators=100; total time=   0.1s\n",
      "[CV] END max_depth=None, max_features=auto, min_samples_leaf=4, min_samples_split=10, n_estimators=100; total time=   0.1s\n",
      "[CV] END max_depth=None, max_features=auto, min_samples_leaf=4, min_samples_split=10, n_estimators=100; total time=   0.1s\n",
      "[CV] END max_depth=None, max_features=auto, min_samples_leaf=4, min_samples_split=10, n_estimators=100; total time=   0.1s\n",
      "[CV] END max_depth=None, max_features=auto, min_samples_leaf=1, min_samples_split=10, n_estimators=100; total time=   0.1s\n",
      "[CV] END max_depth=None, max_features=auto, min_samples_leaf=1, min_samples_split=10, n_estimators=100; total time=   0.1s\n",
      "[CV] END max_depth=None, max_features=auto, min_samples_leaf=1, min_samples_split=10, n_estimators=100; total time=   0.1s\n",
      "[CV] END max_depth=None, max_features=auto, min_samples_leaf=1, min_samples_split=10, n_estimators=100; total time=   0.1s\n",
      "[CV] END max_depth=None, max_features=auto, min_samples_leaf=1, min_samples_split=10, n_estimators=100; total time=   0.1s\n",
      "[CV] END max_depth=5, max_features=log2, min_samples_leaf=2, min_samples_split=10, n_estimators=300; total time=   6.9s\n",
      "[CV] END max_depth=5, max_features=log2, min_samples_leaf=2, min_samples_split=10, n_estimators=300; total time=   6.7s\n",
      "[CV] END max_depth=5, max_features=log2, min_samples_leaf=2, min_samples_split=10, n_estimators=300; total time=   6.1s\n",
      "[CV] END max_depth=5, max_features=log2, min_samples_leaf=2, min_samples_split=10, n_estimators=300; total time=   5.8s\n",
      "[CV] END max_depth=5, max_features=log2, min_samples_leaf=2, min_samples_split=10, n_estimators=300; total time=   5.9s\n",
      "[CV] END max_depth=10, max_features=log2, min_samples_leaf=2, min_samples_split=10, n_estimators=200; total time=   5.5s\n",
      "[CV] END max_depth=10, max_features=log2, min_samples_leaf=2, min_samples_split=10, n_estimators=200; total time=   5.6s\n",
      "[CV] END max_depth=10, max_features=log2, min_samples_leaf=2, min_samples_split=10, n_estimators=200; total time=   5.5s\n",
      "[CV] END max_depth=10, max_features=log2, min_samples_leaf=2, min_samples_split=10, n_estimators=200; total time=   5.5s\n",
      "[CV] END max_depth=10, max_features=log2, min_samples_leaf=2, min_samples_split=10, n_estimators=200; total time=   5.5s\n",
      "[CV] END max_depth=10, max_features=log2, min_samples_leaf=4, min_samples_split=5, n_estimators=200; total time=   5.6s\n",
      "[CV] END max_depth=10, max_features=log2, min_samples_leaf=4, min_samples_split=5, n_estimators=200; total time=   5.6s\n",
      "[CV] END max_depth=10, max_features=log2, min_samples_leaf=4, min_samples_split=5, n_estimators=200; total time=   5.5s\n",
      "[CV] END max_depth=10, max_features=log2, min_samples_leaf=4, min_samples_split=5, n_estimators=200; total time=   5.5s\n",
      "[CV] END max_depth=10, max_features=log2, min_samples_leaf=4, min_samples_split=5, n_estimators=200; total time=   5.5s\n",
      "[CV] END max_depth=10, max_features=auto, min_samples_leaf=2, min_samples_split=5, n_estimators=200; total time=   0.1s\n",
      "[CV] END max_depth=10, max_features=auto, min_samples_leaf=2, min_samples_split=5, n_estimators=200; total time=   0.1s\n",
      "[CV] END max_depth=10, max_features=auto, min_samples_leaf=2, min_samples_split=5, n_estimators=200; total time=   0.1s\n",
      "[CV] END max_depth=10, max_features=auto, min_samples_leaf=2, min_samples_split=5, n_estimators=200; total time=   0.1s\n",
      "[CV] END max_depth=10, max_features=auto, min_samples_leaf=2, min_samples_split=5, n_estimators=200; total time=   0.1s\n",
      "[CV] END max_depth=10, max_features=sqrt, min_samples_leaf=4, min_samples_split=10, n_estimators=300; total time=  29.2s\n",
      "[CV] END max_depth=10, max_features=sqrt, min_samples_leaf=4, min_samples_split=10, n_estimators=300; total time=  29.1s\n",
      "[CV] END max_depth=10, max_features=sqrt, min_samples_leaf=4, min_samples_split=10, n_estimators=300; total time=  28.6s\n",
      "[CV] END max_depth=10, max_features=sqrt, min_samples_leaf=4, min_samples_split=10, n_estimators=300; total time=  29.3s\n",
      "[CV] END max_depth=10, max_features=sqrt, min_samples_leaf=4, min_samples_split=10, n_estimators=300; total time=  28.8s\n",
      "[CV] END max_depth=5, max_features=log2, min_samples_leaf=2, min_samples_split=10, n_estimators=100; total time=   2.5s\n",
      "[CV] END max_depth=5, max_features=log2, min_samples_leaf=2, min_samples_split=10, n_estimators=100; total time=   2.4s\n",
      "[CV] END max_depth=5, max_features=log2, min_samples_leaf=2, min_samples_split=10, n_estimators=100; total time=   2.4s\n",
      "[CV] END max_depth=5, max_features=log2, min_samples_leaf=2, min_samples_split=10, n_estimators=100; total time=   2.4s\n",
      "[CV] END max_depth=5, max_features=log2, min_samples_leaf=2, min_samples_split=10, n_estimators=100; total time=   2.4s\n",
      "[CV] END max_depth=None, max_features=auto, min_samples_leaf=2, min_samples_split=2, n_estimators=100; total time=   0.1s\n",
      "[CV] END max_depth=None, max_features=auto, min_samples_leaf=2, min_samples_split=2, n_estimators=100; total time=   0.1s\n",
      "[CV] END max_depth=None, max_features=auto, min_samples_leaf=2, min_samples_split=2, n_estimators=100; total time=   0.1s\n",
      "[CV] END max_depth=None, max_features=auto, min_samples_leaf=2, min_samples_split=2, n_estimators=100; total time=   0.1s\n",
      "[CV] END max_depth=None, max_features=auto, min_samples_leaf=2, min_samples_split=2, n_estimators=100; total time=   0.1s\n",
      "[CV] END max_depth=5, max_features=sqrt, min_samples_leaf=1, min_samples_split=5, n_estimators=300; total time=  13.7s\n",
      "[CV] END max_depth=5, max_features=sqrt, min_samples_leaf=1, min_samples_split=5, n_estimators=300; total time=  13.5s\n",
      "[CV] END max_depth=5, max_features=sqrt, min_samples_leaf=1, min_samples_split=5, n_estimators=300; total time=  13.4s\n",
      "[CV] END max_depth=5, max_features=sqrt, min_samples_leaf=1, min_samples_split=5, n_estimators=300; total time=  13.8s\n",
      "[CV] END max_depth=5, max_features=sqrt, min_samples_leaf=1, min_samples_split=5, n_estimators=300; total time=  13.4s\n"
     ]
    }
   ],
   "source": [
    "from sklearn.ensemble import RandomForestRegressor\n",
    "\n",
    "param_grid = {\n",
    "    'n_estimators': [100, 200, 300],\n",
    "    'max_depth': [None, 5, 10],\n",
    "    'min_samples_split': [2, 5, 10],\n",
    "    'min_samples_leaf': [1, 2, 4],\n",
    "    'max_features': ['auto', 'sqrt', 'log2']\n",
    "}\n",
    "\n",
    "rf_reg = RandomForestRegressor(n_jobs=10)\n",
    "rf_reg = fitreg_randomized_search(rf_reg, X_train, y_train, param_grid, verbose=2)"
   ]
  },
  {
   "cell_type": "code",
   "execution_count": 37,
   "id": "8a0552b1",
   "metadata": {},
   "outputs": [
    {
     "name": "stdout",
     "output_type": "stream",
     "text": [
      "RMSE : 0.691\n",
      "R2   : 0.049\n",
      "MAPE : 16.134\n",
      "EVS  : 0.049\n"
     ]
    }
   ],
   "source": [
    "# Performance metrics\n",
    "rmse, r2, mape, evs = compute_performance(rf_reg, X_test, y_test)\n",
    "print(f\"RMSE : {rmse:.3f}\")\n",
    "print(f\"R2   : {r2:.3f}\")\n",
    "print(f\"MAPE : {mape:.3f}\")\n",
    "print(f\"EVS  : {evs:.3f}\")"
   ]
  },
  {
   "attachments": {},
   "cell_type": "markdown",
   "id": "3f1515be",
   "metadata": {},
   "source": [
    "## 3. Gradient boosted trees\n",
    "\n",
    "Make sure to install neccessary deps for running xgboost on GPU\n",
    "\n",
    "For apple silicon chips run\n",
    "\n",
    "brew install cmake libomp\n",
    "\n",
    "conda install -y lightgbm\n",
    "\n",
    "pip install xgboost"
   ]
  },
  {
   "cell_type": "code",
   "execution_count": 38,
   "id": "c71832df",
   "metadata": {
    "scrolled": true
   },
   "outputs": [
    {
     "name": "stdout",
     "output_type": "stream",
     "text": [
      "Fitting 3 folds for each of 10 candidates, totalling 30 fits\n",
      "[CV] END colsample_bytree=0.8, learning_rate=0.0001, max_depth=5, n_estimators=200, reg_alpha=5, reg_lambda=1, subsample=1.0; total time= 4.8min\n",
      "[CV] END colsample_bytree=0.8, learning_rate=0.0001, max_depth=5, n_estimators=200, reg_alpha=5, reg_lambda=1, subsample=1.0; total time= 5.0min\n",
      "[CV] END colsample_bytree=0.8, learning_rate=0.0001, max_depth=5, n_estimators=200, reg_alpha=5, reg_lambda=1, subsample=1.0; total time= 5.0min\n",
      "[CV] END colsample_bytree=0.9, learning_rate=0.01, max_depth=3, n_estimators=300, reg_alpha=5, reg_lambda=5, subsample=0.9; total time= 4.8min\n",
      "[CV] END colsample_bytree=0.9, learning_rate=0.01, max_depth=3, n_estimators=300, reg_alpha=5, reg_lambda=5, subsample=0.9; total time= 4.7min\n",
      "[CV] END colsample_bytree=0.9, learning_rate=0.01, max_depth=3, n_estimators=300, reg_alpha=5, reg_lambda=5, subsample=0.9; total time= 4.8min\n",
      "[CV] END colsample_bytree=0.9, learning_rate=0.1, max_depth=5, n_estimators=300, reg_alpha=5, reg_lambda=1, subsample=1.0; total time= 5.0min\n",
      "[CV] END colsample_bytree=0.9, learning_rate=0.1, max_depth=5, n_estimators=300, reg_alpha=5, reg_lambda=1, subsample=1.0; total time= 7.8min\n",
      "[CV] END colsample_bytree=0.9, learning_rate=0.1, max_depth=5, n_estimators=300, reg_alpha=5, reg_lambda=1, subsample=1.0; total time= 4.8min\n",
      "[CV] END colsample_bytree=0.9, learning_rate=0.1, max_depth=5, n_estimators=200, reg_alpha=1, reg_lambda=5, subsample=0.8; total time= 4.8min\n",
      "[CV] END colsample_bytree=0.9, learning_rate=0.1, max_depth=5, n_estimators=200, reg_alpha=1, reg_lambda=5, subsample=0.8; total time= 4.8min\n",
      "[CV] END colsample_bytree=0.9, learning_rate=0.1, max_depth=5, n_estimators=200, reg_alpha=1, reg_lambda=5, subsample=0.8; total time= 4.7min\n",
      "[CV] END colsample_bytree=0.9, learning_rate=0.001, max_depth=7, n_estimators=100, reg_alpha=5, reg_lambda=0, subsample=0.8; total time= 4.8min\n",
      "[CV] END colsample_bytree=0.9, learning_rate=0.001, max_depth=7, n_estimators=100, reg_alpha=5, reg_lambda=0, subsample=0.8; total time= 4.7min\n",
      "[CV] END colsample_bytree=0.9, learning_rate=0.001, max_depth=7, n_estimators=100, reg_alpha=5, reg_lambda=0, subsample=0.8; total time= 4.3min\n",
      "[CV] END colsample_bytree=1.0, learning_rate=0.1, max_depth=7, n_estimators=300, reg_alpha=1, reg_lambda=0, subsample=0.8; total time= 5.2min\n",
      "[CV] END colsample_bytree=1.0, learning_rate=0.1, max_depth=7, n_estimators=300, reg_alpha=1, reg_lambda=0, subsample=0.8; total time= 5.0min\n",
      "[CV] END colsample_bytree=1.0, learning_rate=0.1, max_depth=7, n_estimators=300, reg_alpha=1, reg_lambda=0, subsample=0.8; total time= 5.2min\n",
      "[CV] END colsample_bytree=0.8, learning_rate=0.01, max_depth=7, n_estimators=300, reg_alpha=0, reg_lambda=5, subsample=0.9; total time= 5.4min\n",
      "[CV] END colsample_bytree=0.8, learning_rate=0.01, max_depth=7, n_estimators=300, reg_alpha=0, reg_lambda=5, subsample=0.9; total time= 5.7min\n",
      "[CV] END colsample_bytree=0.8, learning_rate=0.01, max_depth=7, n_estimators=300, reg_alpha=0, reg_lambda=5, subsample=0.9; total time= 5.4min\n",
      "[CV] END colsample_bytree=0.9, learning_rate=0.01, max_depth=3, n_estimators=100, reg_alpha=5, reg_lambda=1, subsample=1.0; total time= 4.7min\n",
      "[CV] END colsample_bytree=0.9, learning_rate=0.01, max_depth=3, n_estimators=100, reg_alpha=5, reg_lambda=1, subsample=1.0; total time= 4.5min\n",
      "[CV] END colsample_bytree=0.9, learning_rate=0.01, max_depth=3, n_estimators=100, reg_alpha=5, reg_lambda=1, subsample=1.0; total time= 4.5min\n",
      "[CV] END colsample_bytree=0.8, learning_rate=0.01, max_depth=5, n_estimators=100, reg_alpha=0, reg_lambda=5, subsample=0.8; total time= 4.6min\n",
      "[CV] END colsample_bytree=0.8, learning_rate=0.01, max_depth=5, n_estimators=100, reg_alpha=0, reg_lambda=5, subsample=0.8; total time= 4.5min\n",
      "[CV] END colsample_bytree=0.8, learning_rate=0.01, max_depth=5, n_estimators=100, reg_alpha=0, reg_lambda=5, subsample=0.8; total time= 8.1min\n",
      "[CV] END colsample_bytree=0.9, learning_rate=0.001, max_depth=3, n_estimators=100, reg_alpha=5, reg_lambda=5, subsample=0.8; total time= 4.4min\n",
      "[CV] END colsample_bytree=0.9, learning_rate=0.001, max_depth=3, n_estimators=100, reg_alpha=5, reg_lambda=5, subsample=0.8; total time= 4.5min\n",
      "[CV] END colsample_bytree=0.9, learning_rate=0.001, max_depth=3, n_estimators=100, reg_alpha=5, reg_lambda=5, subsample=0.8; total time= 4.6min\n"
     ]
    }
   ],
   "source": [
    "import lightgbm as lgb\n",
    "\n",
    "param_grid = {\n",
    "    'n_estimators': [100, 200, 300],\n",
    "    'max_depth': [3, 5, 7],\n",
    "    'learning_rate': [0.1, 0.01, 0.001, 0.0001],\n",
    "    'subsample': [0.8, 0.9, 1.0],\n",
    "    'colsample_bytree': [0.8, 0.9, 1.0],\n",
    "    'reg_alpha': [0, 1, 5],\n",
    "    'reg_lambda': [0, 1, 5],\n",
    "}\n",
    "\n",
    "lgbm_reg = lgb.LGBMRegressor(n_jobs=10)\n",
    "lgbm_reg = fitreg_randomized_search(lgbm_reg, X_train, y_train, param_grid, verbose=2, cv=3)"
   ]
  },
  {
   "cell_type": "code",
   "execution_count": 39,
   "id": "9d994b29",
   "metadata": {},
   "outputs": [
    {
     "name": "stdout",
     "output_type": "stream",
     "text": [
      "RMSE : 0.597\n",
      "R2   : 0.290\n",
      "MAPE : 14.772\n",
      "EVS  : 0.290\n"
     ]
    }
   ],
   "source": [
    "# Performance metrics\n",
    "rmse, r2, mape, evs = compute_performance(lgbm_reg, X_test, y_test)\n",
    "print(f\"RMSE : {rmse:.3f}\")\n",
    "print(f\"R2   : {r2:.3f}\")\n",
    "print(f\"MAPE : {mape:.3f}\")\n",
    "print(f\"EVS  : {evs:.3f}\")"
   ]
  },
  {
   "attachments": {},
   "cell_type": "markdown",
   "id": "2d990290",
   "metadata": {},
   "source": [
    "We observed that **LinearSGDRegressor** performed the best with the following hyper-parameters, so we'll take this model for final downstream prediction task"
   ]
  },
  {
   "cell_type": "code",
   "execution_count": 63,
   "id": "80255f3b",
   "metadata": {},
   "outputs": [
    {
     "name": "stdout",
     "output_type": "stream",
     "text": [
      "loss=squared_error, penalty=elasticnet,\n",
      "alpha=0.0001, l1_ratio=0.3,\n",
      "max_iter=1000, learning_rate=adaptive\n"
     ]
    }
   ],
   "source": [
    "print(f'loss={sgd_reg.loss}, penalty={sgd_reg.penalty},\\n\\\n",
    "alpha={sgd_reg.alpha}, l1_ratio={sgd_reg.l1_ratio},\\n\\\n",
    "max_iter={sgd_reg.max_iter}, learning_rate={sgd_reg.learning_rate}')"
   ]
  },
  {
   "attachments": {},
   "cell_type": "markdown",
   "id": "b412f792",
   "metadata": {},
   "source": [
    "# Recommender System\n",
    "\n",
    "Because of the nature of the dataset, we cannot provide any form of personalized recommendations to users. So we'll provide recommendations based on what user inputs for the following features, kind of like a search system, recommending users what they ask for\n",
    "* name (*required)\n",
    "* item_description (*required)\n",
    "* category name (c1, c2, c3) (*required)\n",
    "* brand_name\n",
    "* item_condition_id\n",
    "\n",
    "\n",
    "Use NN for top 10 results"
   ]
  },
  {
   "cell_type": "code",
   "execution_count": 36,
   "id": "fcb3e719",
   "metadata": {},
   "outputs": [
    {
     "data": {
      "text/html": [
       "<style>#sk-container-id-2 {color: black;}#sk-container-id-2 pre{padding: 0;}#sk-container-id-2 div.sk-toggleable {background-color: white;}#sk-container-id-2 label.sk-toggleable__label {cursor: pointer;display: block;width: 100%;margin-bottom: 0;padding: 0.3em;box-sizing: border-box;text-align: center;}#sk-container-id-2 label.sk-toggleable__label-arrow:before {content: \"▸\";float: left;margin-right: 0.25em;color: #696969;}#sk-container-id-2 label.sk-toggleable__label-arrow:hover:before {color: black;}#sk-container-id-2 div.sk-estimator:hover label.sk-toggleable__label-arrow:before {color: black;}#sk-container-id-2 div.sk-toggleable__content {max-height: 0;max-width: 0;overflow: hidden;text-align: left;background-color: #f0f8ff;}#sk-container-id-2 div.sk-toggleable__content pre {margin: 0.2em;color: black;border-radius: 0.25em;background-color: #f0f8ff;}#sk-container-id-2 input.sk-toggleable__control:checked~div.sk-toggleable__content {max-height: 200px;max-width: 100%;overflow: auto;}#sk-container-id-2 input.sk-toggleable__control:checked~label.sk-toggleable__label-arrow:before {content: \"▾\";}#sk-container-id-2 div.sk-estimator input.sk-toggleable__control:checked~label.sk-toggleable__label {background-color: #d4ebff;}#sk-container-id-2 div.sk-label input.sk-toggleable__control:checked~label.sk-toggleable__label {background-color: #d4ebff;}#sk-container-id-2 input.sk-hidden--visually {border: 0;clip: rect(1px 1px 1px 1px);clip: rect(1px, 1px, 1px, 1px);height: 1px;margin: -1px;overflow: hidden;padding: 0;position: absolute;width: 1px;}#sk-container-id-2 div.sk-estimator {font-family: monospace;background-color: #f0f8ff;border: 1px dotted black;border-radius: 0.25em;box-sizing: border-box;margin-bottom: 0.5em;}#sk-container-id-2 div.sk-estimator:hover {background-color: #d4ebff;}#sk-container-id-2 div.sk-parallel-item::after {content: \"\";width: 100%;border-bottom: 1px solid gray;flex-grow: 1;}#sk-container-id-2 div.sk-label:hover label.sk-toggleable__label {background-color: #d4ebff;}#sk-container-id-2 div.sk-serial::before {content: \"\";position: absolute;border-left: 1px solid gray;box-sizing: border-box;top: 0;bottom: 0;left: 50%;z-index: 0;}#sk-container-id-2 div.sk-serial {display: flex;flex-direction: column;align-items: center;background-color: white;padding-right: 0.2em;padding-left: 0.2em;position: relative;}#sk-container-id-2 div.sk-item {position: relative;z-index: 1;}#sk-container-id-2 div.sk-parallel {display: flex;align-items: stretch;justify-content: center;background-color: white;position: relative;}#sk-container-id-2 div.sk-item::before, #sk-container-id-2 div.sk-parallel-item::before {content: \"\";position: absolute;border-left: 1px solid gray;box-sizing: border-box;top: 0;bottom: 0;left: 50%;z-index: -1;}#sk-container-id-2 div.sk-parallel-item {display: flex;flex-direction: column;z-index: 1;position: relative;background-color: white;}#sk-container-id-2 div.sk-parallel-item:first-child::after {align-self: flex-end;width: 50%;}#sk-container-id-2 div.sk-parallel-item:last-child::after {align-self: flex-start;width: 50%;}#sk-container-id-2 div.sk-parallel-item:only-child::after {width: 0;}#sk-container-id-2 div.sk-dashed-wrapped {border: 1px dashed gray;margin: 0 0.4em 0.5em 0.4em;box-sizing: border-box;padding-bottom: 0.4em;background-color: white;}#sk-container-id-2 div.sk-label label {font-family: monospace;font-weight: bold;display: inline-block;line-height: 1.2em;}#sk-container-id-2 div.sk-label-container {text-align: center;}#sk-container-id-2 div.sk-container {/* jupyter's `normalize.less` sets `[hidden] { display: none; }` but bootstrap.min.css set `[hidden] { display: none !important; }` so we also need the `!important` here to be able to override the default hidden behavior on the sphinx rendered scikit-learn.org. See: https://github.com/scikit-learn/scikit-learn/issues/21755 */display: inline-block !important;position: relative;}#sk-container-id-2 div.sk-text-repr-fallback {display: none;}</style><div id=\"sk-container-id-2\" class=\"sk-top-container\"><div class=\"sk-text-repr-fallback\"><pre>NearestNeighbors(n_neighbors=10)</pre><b>In a Jupyter environment, please rerun this cell to show the HTML representation or trust the notebook. <br />On GitHub, the HTML representation is unable to render, please try loading this page with nbviewer.org.</b></div><div class=\"sk-container\" hidden><div class=\"sk-item\"><div class=\"sk-estimator sk-toggleable\"><input class=\"sk-toggleable__control sk-hidden--visually\" id=\"sk-estimator-id-2\" type=\"checkbox\" checked><label for=\"sk-estimator-id-2\" class=\"sk-toggleable__label sk-toggleable__label-arrow\">NearestNeighbors</label><div class=\"sk-toggleable__content\"><pre>NearestNeighbors(n_neighbors=10)</pre></div></div></div></div></div>"
      ],
      "text/plain": [
       "NearestNeighbors(n_neighbors=10)"
      ]
     },
     "execution_count": 36,
     "metadata": {},
     "output_type": "execute_result"
    }
   ],
   "source": [
    "from sklearn.neighbors import NearestNeighbors\n",
    "\n",
    "# without brand_name, condition_id\n",
    "nn_1 = NearestNeighbors(n_neighbors=10)\n",
    "nn_1.fit(X_train[:, [6, 7, 0, 1, 2]])\n",
    "\n",
    "# without condition_id\n",
    "nn_2 = NearestNeighbors(n_neighbors=10)\n",
    "nn_2.fit(X_train[:, [6, 7, 0, 1, 2, 3]])\n",
    "\n",
    "# both available\n",
    "nn_3 = NearestNeighbors(n_neighbors=10)\n",
    "nn_3.fit(X_train[:, [6, 7, 0, 1, 2, 3, 4]])"
   ]
  },
  {
   "attachments": {},
   "cell_type": "markdown",
   "id": "c9de9b9b",
   "metadata": {},
   "source": [
    "Storing the created models"
   ]
  },
  {
   "cell_type": "code",
   "execution_count": 37,
   "id": "93cca9e4",
   "metadata": {},
   "outputs": [
    {
     "name": "stdout",
     "output_type": "stream",
     "text": [
      "Requirement already satisfied: joblib in /Users/harshsharma/mambaforge/lib/python3.10/site-packages (1.3.0)\r\n"
     ]
    }
   ],
   "source": [
    "!pip install joblib"
   ]
  },
  {
   "cell_type": "code",
   "execution_count": 39,
   "id": "88575bc4",
   "metadata": {},
   "outputs": [
    {
     "data": {
      "text/plain": [
       "['pretrained_model/nn_3.pkl']"
      ]
     },
     "execution_count": 39,
     "metadata": {},
     "output_type": "execute_result"
    }
   ],
   "source": [
    "import joblib\n",
    "\n",
    "joblib.dump(sgd_reg, 'trained_model/sgd_model.pkl')\n",
    "joblib.dump(nn_1, 'trained_model/nn_1.pkl')\n",
    "joblib.dump(nn_2, 'trained_model/nn_2.pkl')\n",
    "joblib.dump(nn_3, 'trained_model/nn_3.pkl')"
   ]
  },
  {
   "cell_type": "code",
   "execution_count": null,
   "id": "28b0158d",
   "metadata": {},
   "outputs": [],
   "source": []
  }
 ],
 "metadata": {
  "kernelspec": {
   "display_name": "Python 3 (ipykernel)",
   "language": "python",
   "name": "python3"
  },
  "language_info": {
   "codemirror_mode": {
    "name": "ipython",
    "version": 3
   },
   "file_extension": ".py",
   "mimetype": "text/x-python",
   "name": "python",
   "nbconvert_exporter": "python",
   "pygments_lexer": "ipython3",
   "version": "3.10.12"
  }
 },
 "nbformat": 4,
 "nbformat_minor": 5
}
