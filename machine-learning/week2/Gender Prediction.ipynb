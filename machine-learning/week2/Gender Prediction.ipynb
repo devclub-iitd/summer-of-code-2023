{
 "cells": [
  {
   "cell_type": "code",
   "execution_count": 60,
   "id": "19fca70a",
   "metadata": {},
   "outputs": [],
   "source": [
    "import pandas as pd\n",
    "import numpy as np\n",
    "from tensorflow.keras.models import Sequential\n",
    "from tensorflow.keras.layers import Conv2D, MaxPooling2D, Flatten, Dense\n",
    "from tensorflow.keras.preprocessing.image import load_img, img_to_array, smart_resize\n",
    "from sklearn.model_selection import train_test_split\n",
    "from sklearn.preprocessing import LabelEncoder"
   ]
  },
  {
   "cell_type": "code",
   "execution_count": 61,
   "id": "d1470663",
   "metadata": {},
   "outputs": [],
   "source": [
    "# Load the dataset\n",
    "data = pd.read_csv('./data/fashion.csv')\n",
    "\n",
    "# Extract the image paths and gender labels\n",
    "image_paths = data.apply(lambda row: f\"./data/{row['Category']}/{row['Gender']}/Images/images_with_product_ids/{row['Image']}\", axis=1).tolist()\n",
    "labels = data['Gender']"
   ]
  },
  {
   "cell_type": "code",
   "execution_count": 63,
   "id": "412f89ce",
   "metadata": {},
   "outputs": [],
   "source": [
    "# Define the desired image size\n",
    "image_width, image_height = 180, 240"
   ]
  },
  {
   "cell_type": "code",
   "execution_count": 64,
   "id": "5f1f0883",
   "metadata": {},
   "outputs": [],
   "source": [
    "# Load and preprocess the images\n",
    "X = []\n",
    "for image_path in image_paths:\n",
    "    image = load_img(image_path)\n",
    "    image = smart_resize(image, (image_width, image_height))\n",
    "    image = img_to_array(image) / 255.0\n",
    "    X.append(image)\n",
    "X = np.array(X)"
   ]
  },
  {
   "cell_type": "code",
   "execution_count": 65,
   "id": "71519306",
   "metadata": {},
   "outputs": [],
   "source": [
    "# Encode the gender labels\n",
    "label_encoder = LabelEncoder()\n",
    "y = label_encoder.fit_transform(labels)"
   ]
  },
  {
   "cell_type": "code",
   "execution_count": 67,
   "id": "0b0be30f",
   "metadata": {},
   "outputs": [],
   "source": [
    "# Split the dataset into training and test sets\n",
    "X_train, X_test, y_train, y_test = train_test_split(X, y, test_size=0.2, random_state=42)"
   ]
  },
  {
   "cell_type": "code",
   "execution_count": 68,
   "id": "32eb5c74",
   "metadata": {},
   "outputs": [],
   "source": [
    "# Create the neural network model\n",
    "model = Sequential()\n",
    "model.add(Conv2D(32, (3, 3), activation='relu', input_shape=(image_width, image_height, 3)))\n",
    "model.add(MaxPooling2D((2, 2)))\n",
    "model.add(Conv2D(64, (3, 3), activation='relu'))\n",
    "model.add(MaxPooling2D((2, 2)))\n",
    "model.add(Flatten())\n",
    "model.add(Dense(128, activation='relu'))\n",
    "model.add(Dense(4, activation='softmax'))"
   ]
  },
  {
   "cell_type": "code",
   "execution_count": 69,
   "id": "dc2abfe4",
   "metadata": {},
   "outputs": [],
   "source": [
    "# Compile the model\n",
    "model.compile(optimizer='adam', loss='sparse_categorical_crossentropy', metrics=['accuracy'])"
   ]
  },
  {
   "cell_type": "code",
   "execution_count": 70,
   "id": "5c05bf10",
   "metadata": {},
   "outputs": [
    {
     "name": "stdout",
     "output_type": "stream",
     "text": [
      "Epoch 1/10\n",
      "59/59 [==============================] - 83s 1s/step - loss: 1.6576 - accuracy: 0.6955 - val_loss: 0.6230 - val_accuracy: 0.6968\n",
      "Epoch 2/10\n",
      "59/59 [==============================] - 84s 1s/step - loss: 0.3359 - accuracy: 0.8548 - val_loss: 0.4211 - val_accuracy: 0.8323\n",
      "Epoch 3/10\n",
      "59/59 [==============================] - 83s 1s/step - loss: 0.1962 - accuracy: 0.9322 - val_loss: 0.3758 - val_accuracy: 0.8602\n",
      "Epoch 4/10\n",
      "59/59 [==============================] - 84s 1s/step - loss: 0.1256 - accuracy: 0.9570 - val_loss: 0.4540 - val_accuracy: 0.8559\n",
      "Epoch 5/10\n",
      "59/59 [==============================] - 84s 1s/step - loss: 0.1276 - accuracy: 0.9554 - val_loss: 0.4898 - val_accuracy: 0.8452\n",
      "Epoch 6/10\n",
      "59/59 [==============================] - 83s 1s/step - loss: 0.0987 - accuracy: 0.9726 - val_loss: 0.3952 - val_accuracy: 0.8667\n",
      "Epoch 7/10\n",
      "59/59 [==============================] - 83s 1s/step - loss: 0.0462 - accuracy: 0.9882 - val_loss: 0.4467 - val_accuracy: 0.8860\n",
      "Epoch 8/10\n",
      "59/59 [==============================] - 83s 1s/step - loss: 0.0233 - accuracy: 0.9952 - val_loss: 0.5314 - val_accuracy: 0.8581\n",
      "Epoch 9/10\n",
      "59/59 [==============================] - 83s 1s/step - loss: 0.0166 - accuracy: 0.9978 - val_loss: 0.6311 - val_accuracy: 0.8538\n",
      "Epoch 10/10\n",
      "59/59 [==============================] - 83s 1s/step - loss: 0.0143 - accuracy: 0.9962 - val_loss: 0.6021 - val_accuracy: 0.8581\n"
     ]
    },
    {
     "data": {
      "text/plain": [
       "<keras.callbacks.History at 0x25e01056fd0>"
      ]
     },
     "execution_count": 70,
     "metadata": {},
     "output_type": "execute_result"
    }
   ],
   "source": [
    "# Train the model\n",
    "model.fit(X_train, y_train, batch_size=32, epochs=10, validation_split=0.2)"
   ]
  },
  {
   "cell_type": "code",
   "execution_count": 71,
   "id": "2ab4218f",
   "metadata": {},
   "outputs": [
    {
     "name": "stdout",
     "output_type": "stream",
     "text": [
      "19/19 [==============================] - 5s 281ms/step - loss: 0.7678 - accuracy: 0.8711\n",
      "Test Loss: 0.767772376537323\n",
      "Test Accuracy: 0.8711340427398682\n"
     ]
    }
   ],
   "source": [
    "# Evaluate the model\n",
    "loss, accuracy = model.evaluate(X_test, y_test)\n",
    "print(\"Test Loss:\", loss)\n",
    "print(\"Test Accuracy:\", accuracy)"
   ]
  },
  {
   "cell_type": "code",
   "execution_count": 107,
   "id": "f6842ed2",
   "metadata": {},
   "outputs": [
    {
     "name": "stdout",
     "output_type": "stream",
     "text": [
      "19/19 [==============================] - 7s 340ms/step\n"
     ]
    }
   ],
   "source": [
    "# Make predictions\n",
    "predictions = model.predict(X_test)\n",
    "predicted_genders = label_encoder.inverse_transform(np.argmax(predictions, axis=1))"
   ]
  },
  {
   "cell_type": "code",
   "execution_count": 108,
   "id": "e1994a84",
   "metadata": {},
   "outputs": [],
   "source": [
    "## Testing the Image on some random image\n",
    "from tensorflow.keras.preprocessing.image import load_img, img_to_array, smart_resize\n",
    "\n",
    "image_path = \"./download2.webp\"  # Replace with the path to your image\n",
    "image = load_img(image_path)\n",
    "image = smart_resize(image, (image_width, image_height))\n",
    "image = img_to_array(image) / 255.0\n",
    "image = np.expand_dims(image, axis=0)"
   ]
  },
  {
   "cell_type": "code",
   "execution_count": 109,
   "id": "afd80bdc",
   "metadata": {},
   "outputs": [
    {
     "name": "stdout",
     "output_type": "stream",
     "text": [
      "1/1 [==============================] - 0s 44ms/step\n"
     ]
    }
   ],
   "source": [
    "prediction = model.predict(image)\n",
    "predicted_gender = label_encoder.inverse_transform(np.argmax(prediction, axis=1))"
   ]
  },
  {
   "cell_type": "code",
   "execution_count": 110,
   "id": "63b1f9aa",
   "metadata": {},
   "outputs": [
    {
     "name": "stdout",
     "output_type": "stream",
     "text": [
      "1/1 [==============================] - 0s 44ms/step\n",
      "Product Type: Apparel\n",
      "Gender: Girls\n"
     ]
    }
   ],
   "source": [
    "# Make predictions\n",
    "prediction = model.predict(image)\n",
    "predicted_gender = label_encoder.inverse_transform(np.argmax(prediction, axis=1))\n",
    "softmax_probabilities = prediction[0]  # Assuming prediction shape is (1, num_classes)\n",
    "    \n",
    "if predicted_gender in [\"Boys\", \"Girls\"]:\n",
    "    product_type = \"Apparel\"\n",
    "elif predicted_gender in [\"Men\", \"Women\"]:\n",
    "    product_type = \"Footwear\"\n",
    "else:\n",
    "    product_type = \"Unknown\"\n",
    "\n",
    "print(\"Product Type:\", product_type)\n",
    "print(\"Gender:\", predicted_gender[0])"
   ]
  }
 ],
 "metadata": {
  "kernelspec": {
   "display_name": "Python 3 (ipykernel)",
   "language": "python",
   "name": "python3"
  },
  "language_info": {
   "codemirror_mode": {
    "name": "ipython",
    "version": 3
   },
   "file_extension": ".py",
   "mimetype": "text/x-python",
   "name": "python",
   "nbconvert_exporter": "python",
   "pygments_lexer": "ipython3",
   "version": "3.11.3"
  }
 },
 "nbformat": 4,
 "nbformat_minor": 5
}
