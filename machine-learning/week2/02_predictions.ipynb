{
 "cells": [
  {
   "cell_type": "code",
   "execution_count": null,
   "id": "365cefa0",
   "metadata": {
    "scrolled": true
   },
   "outputs": [],
   "source": [
    "import cv2\n",
    "from yolo_predictions import YOLO_pred"
   ]
  },
  {
   "cell_type": "code",
   "execution_count": 2,
   "id": "68547494",
   "metadata": {},
   "outputs": [],
   "source": [
    "yolo=YOLO_pred('./Model2/weights/best.onnx','data.yaml')"
   ]
  },
  {
   "cell_type": "code",
   "execution_count": null,
   "id": "7363368b",
   "metadata": {},
   "outputs": [],
   "source": [
    "img=cv2.imread('./14474517749_600f20185e_c.jpg')\n",
    "cv2.imshow('img',img)\n",
    "cv2.waitKey(0)\n",
    "cv2.destroyAllWindows()"
   ]
  },
  {
   "cell_type": "code",
   "execution_count": null,
   "id": "c10d3bf8",
   "metadata": {},
   "outputs": [],
   "source": [
    "img_pred=yolo.predictions(img)\n",
    "cv2.imshow('prediction image',img_pred)\n",
    "cv2.waitKey(0)\n",
    "cv2.destroyAllWindows()"
   ]
  },
  {
   "cell_type": "code",
   "execution_count": null,
   "id": "f15a16fc",
   "metadata": {},
   "outputs": [],
   "source": []
  }
 ],
 "metadata": {
  "kernelspec": {
   "display_name": "Python 3 (ipykernel)",
   "language": "python",
   "name": "python3"
  },
  "language_info": {
   "codemirror_mode": {
    "name": "ipython",
    "version": 3
   },
   "file_extension": ".py",
   "mimetype": "text/x-python",
   "name": "python",
   "nbconvert_exporter": "python",
   "pygments_lexer": "ipython3",
   "version": "3.11.4"
  }
 },
 "nbformat": 4,
 "nbformat_minor": 5
}
