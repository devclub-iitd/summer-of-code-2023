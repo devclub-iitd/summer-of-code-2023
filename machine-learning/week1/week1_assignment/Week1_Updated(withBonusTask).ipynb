{
  "nbformat": 4,
  "nbformat_minor": 0,
  "metadata": {
    "colab": {
      "provenance": []
    },
    "kernelspec": {
      "name": "python3",
      "display_name": "Python 3"
    },
    "language_info": {
      "name": "python"
    }
  },
  "cells": [
    {
      "cell_type": "markdown",
      "source": [
        "# Mobile Phone Price Prediction"
      ],
      "metadata": {
        "id": "WTJMxmvukZYL"
      }
    },
    {
      "cell_type": "markdown",
      "source": [
        "Algorithms to be used:-\n",
        "\n",
        "1.   Multiple Linear Regression\n",
        "\n",
        "3.   Support Vector Regression(SVR)\n",
        "\n",
        "1.   Decision Tree Regression\n",
        "\n",
        "1.   Random Forest Regression\n",
        "\n",
        "1.   XG Boost\n",
        "\n",
        "1.   CatBoost\n",
        "\n",
        "\n",
        "\n",
        "\n",
        "\n",
        "\n"
      ],
      "metadata": {
        "id": "-zhxnhClkxWC"
      }
    },
    {
      "cell_type": "markdown",
      "source": [
        "### Importing the Libraries"
      ],
      "metadata": {
        "id": "BgNB_VBpl-WF"
      }
    },
    {
      "cell_type": "code",
      "source": [
        "import numpy as np\n",
        "import matplotlib.pyplot as plt\n",
        "import pandas as pd\n",
        "from sklearn.metrics import r2_score"
      ],
      "metadata": {
        "id": "hZysEXNil9t1"
      },
      "execution_count": 8,
      "outputs": []
    },
    {
      "cell_type": "markdown",
      "source": [
        "### Importing the Dataset"
      ],
      "metadata": {
        "id": "bmbBqtccmGGY"
      }
    },
    {
      "cell_type": "code",
      "source": [
        "dataset = pd.read_csv('Mobile phone price.csv')\n",
        "X = dataset.iloc[:, 1:-1].values\n",
        "y = dataset.iloc[:, -1].values\n",
        "y = y.reshape(len(y),1)"
      ],
      "metadata": {
        "id": "96qjJDGvmFfU"
      },
      "execution_count": 9,
      "outputs": []
    },
    {
      "cell_type": "markdown",
      "source": [
        "### Data Preprocessing"
      ],
      "metadata": {
        "id": "oD8Jd-u6mOBK"
      }
    },
    {
      "cell_type": "markdown",
      "source": [
        "### Encoding the Independent Variable"
      ],
      "metadata": {
        "id": "6EVDDJj3mSg8"
      }
    },
    {
      "cell_type": "code",
      "source": [
        "# Create a DataFrame\n",
        "df = pd.DataFrame(X, columns=['Brand', 'Storage', 'RAM', 'Screen Size', 'BatteryCapacity'])\n",
        "\n",
        "# Perform one-hot encoding on the 'Brand' column\n",
        "one_hot_encoded = pd.get_dummies(df['Brand'])\n",
        "\n",
        "# Concatenate the one-hot encoded columns with the original DataFrame\n",
        "df_encoded = pd.concat([df.drop('Brand', axis=1), one_hot_encoded], axis=1)\n",
        "\n",
        "# Print the encoded DataFrame\n",
        "print(df_encoded)"
      ],
      "metadata": {
        "colab": {
          "base_uri": "https://localhost:8080/"
        },
        "id": "L3DHH04vmZVY",
        "outputId": "73804b1e-93aa-4feb-a744-8b9bde2e9d4e"
      },
      "execution_count": 10,
      "outputs": [
        {
          "output_type": "stream",
          "name": "stdout",
          "text": [
            "    Storage RAM Screen Size BatteryCapacity  Apple  Asus  Blackberry  Google  \\\n",
            "0       128   6         6.1            3095      1     0           0       0   \n",
            "1       256  12         6.8            5000      0     0           0       0   \n",
            "2       128   8         6.7            4500      0     0           0       0   \n",
            "3       128   6        6.67            5020      0     0           0       0   \n",
            "4       128   8         6.4            4614      0     0           0       1   \n",
            "..      ...  ..         ...             ...    ...   ...         ...     ...   \n",
            "397     128   8         6.7            4300      0     0           0       0   \n",
            "398     128   6        6.57            4160      0     0           0       0   \n",
            "399     128   6         6.7            3687      1     0           0       0   \n",
            "400     128   8         6.4            4025      0     0           0       0   \n",
            "401     128   6         6.7            4500      0     0           0       0   \n",
            "\n",
            "     Huawei  Motorola  Nokia  OnePlus  Oppo  Realme  Samsung  Sony  Vivo  \\\n",
            "0         0         0      0        0     0       0        0     0     0   \n",
            "1         0         0      0        0     0       0        1     0     0   \n",
            "2         0         0      0        1     0       0        0     0     0   \n",
            "3         0         0      0        0     0       0        0     0     0   \n",
            "4         0         0      0        0     0       0        0     0     0   \n",
            "..      ...       ...    ...      ...   ...     ...      ...   ...   ...   \n",
            "397       0         0      0        0     0       0        1     0     0   \n",
            "398       0         0      0        0     0       0        0     0     0   \n",
            "399       0         0      0        0     0       0        0     0     0   \n",
            "400       0         0      0        0     1       0        0     0     0   \n",
            "401       0         0      0        0     0       0        1     0     0   \n",
            "\n",
            "     Xiaomi  \n",
            "0         0  \n",
            "1         0  \n",
            "2         0  \n",
            "3         1  \n",
            "4         0  \n",
            "..      ...  \n",
            "397       0  \n",
            "398       1  \n",
            "399       0  \n",
            "400       0  \n",
            "401       0  \n",
            "\n",
            "[402 rows x 18 columns]\n"
          ]
        }
      ]
    },
    {
      "cell_type": "markdown",
      "source": [
        "### Splitting the dataset into the Training set and Test set"
      ],
      "metadata": {
        "id": "UuPj1GyEmWZa"
      }
    },
    {
      "cell_type": "code",
      "source": [
        "from sklearn.model_selection import train_test_split\n",
        "X_train, X_test, y_train, y_test = train_test_split(df_encoded, y, test_size = 0.2, random_state = 0)"
      ],
      "metadata": {
        "id": "1Yrt2gmymFit"
      },
      "execution_count": 11,
      "outputs": []
    },
    {
      "cell_type": "markdown",
      "source": [
        "## Multiple Linear Regression"
      ],
      "metadata": {
        "id": "_NFbHdXblgze"
      }
    },
    {
      "cell_type": "markdown",
      "source": [
        "Training the Multiple Linear Regression model on the Training set"
      ],
      "metadata": {
        "id": "xObk8Rl1nU0L"
      }
    },
    {
      "cell_type": "code",
      "execution_count": 12,
      "metadata": {
        "colab": {
          "base_uri": "https://localhost:8080/",
          "height": 75
        },
        "id": "P8Kb881-kPA0",
        "outputId": "17e1c65b-380d-4dab-883d-4142fd002873"
      },
      "outputs": [
        {
          "output_type": "execute_result",
          "data": {
            "text/plain": [
              "LinearRegression()"
            ],
            "text/html": [
              "<style>#sk-container-id-2 {color: black;background-color: white;}#sk-container-id-2 pre{padding: 0;}#sk-container-id-2 div.sk-toggleable {background-color: white;}#sk-container-id-2 label.sk-toggleable__label {cursor: pointer;display: block;width: 100%;margin-bottom: 0;padding: 0.3em;box-sizing: border-box;text-align: center;}#sk-container-id-2 label.sk-toggleable__label-arrow:before {content: \"▸\";float: left;margin-right: 0.25em;color: #696969;}#sk-container-id-2 label.sk-toggleable__label-arrow:hover:before {color: black;}#sk-container-id-2 div.sk-estimator:hover label.sk-toggleable__label-arrow:before {color: black;}#sk-container-id-2 div.sk-toggleable__content {max-height: 0;max-width: 0;overflow: hidden;text-align: left;background-color: #f0f8ff;}#sk-container-id-2 div.sk-toggleable__content pre {margin: 0.2em;color: black;border-radius: 0.25em;background-color: #f0f8ff;}#sk-container-id-2 input.sk-toggleable__control:checked~div.sk-toggleable__content {max-height: 200px;max-width: 100%;overflow: auto;}#sk-container-id-2 input.sk-toggleable__control:checked~label.sk-toggleable__label-arrow:before {content: \"▾\";}#sk-container-id-2 div.sk-estimator input.sk-toggleable__control:checked~label.sk-toggleable__label {background-color: #d4ebff;}#sk-container-id-2 div.sk-label input.sk-toggleable__control:checked~label.sk-toggleable__label {background-color: #d4ebff;}#sk-container-id-2 input.sk-hidden--visually {border: 0;clip: rect(1px 1px 1px 1px);clip: rect(1px, 1px, 1px, 1px);height: 1px;margin: -1px;overflow: hidden;padding: 0;position: absolute;width: 1px;}#sk-container-id-2 div.sk-estimator {font-family: monospace;background-color: #f0f8ff;border: 1px dotted black;border-radius: 0.25em;box-sizing: border-box;margin-bottom: 0.5em;}#sk-container-id-2 div.sk-estimator:hover {background-color: #d4ebff;}#sk-container-id-2 div.sk-parallel-item::after {content: \"\";width: 100%;border-bottom: 1px solid gray;flex-grow: 1;}#sk-container-id-2 div.sk-label:hover label.sk-toggleable__label {background-color: #d4ebff;}#sk-container-id-2 div.sk-serial::before {content: \"\";position: absolute;border-left: 1px solid gray;box-sizing: border-box;top: 0;bottom: 0;left: 50%;z-index: 0;}#sk-container-id-2 div.sk-serial {display: flex;flex-direction: column;align-items: center;background-color: white;padding-right: 0.2em;padding-left: 0.2em;position: relative;}#sk-container-id-2 div.sk-item {position: relative;z-index: 1;}#sk-container-id-2 div.sk-parallel {display: flex;align-items: stretch;justify-content: center;background-color: white;position: relative;}#sk-container-id-2 div.sk-item::before, #sk-container-id-2 div.sk-parallel-item::before {content: \"\";position: absolute;border-left: 1px solid gray;box-sizing: border-box;top: 0;bottom: 0;left: 50%;z-index: -1;}#sk-container-id-2 div.sk-parallel-item {display: flex;flex-direction: column;z-index: 1;position: relative;background-color: white;}#sk-container-id-2 div.sk-parallel-item:first-child::after {align-self: flex-end;width: 50%;}#sk-container-id-2 div.sk-parallel-item:last-child::after {align-self: flex-start;width: 50%;}#sk-container-id-2 div.sk-parallel-item:only-child::after {width: 0;}#sk-container-id-2 div.sk-dashed-wrapped {border: 1px dashed gray;margin: 0 0.4em 0.5em 0.4em;box-sizing: border-box;padding-bottom: 0.4em;background-color: white;}#sk-container-id-2 div.sk-label label {font-family: monospace;font-weight: bold;display: inline-block;line-height: 1.2em;}#sk-container-id-2 div.sk-label-container {text-align: center;}#sk-container-id-2 div.sk-container {/* jupyter's `normalize.less` sets `[hidden] { display: none; }` but bootstrap.min.css set `[hidden] { display: none !important; }` so we also need the `!important` here to be able to override the default hidden behavior on the sphinx rendered scikit-learn.org. See: https://github.com/scikit-learn/scikit-learn/issues/21755 */display: inline-block !important;position: relative;}#sk-container-id-2 div.sk-text-repr-fallback {display: none;}</style><div id=\"sk-container-id-2\" class=\"sk-top-container\"><div class=\"sk-text-repr-fallback\"><pre>LinearRegression()</pre><b>In a Jupyter environment, please rerun this cell to show the HTML representation or trust the notebook. <br />On GitHub, the HTML representation is unable to render, please try loading this page with nbviewer.org.</b></div><div class=\"sk-container\" hidden><div class=\"sk-item\"><div class=\"sk-estimator sk-toggleable\"><input class=\"sk-toggleable__control sk-hidden--visually\" id=\"sk-estimator-id-2\" type=\"checkbox\" checked><label for=\"sk-estimator-id-2\" class=\"sk-toggleable__label sk-toggleable__label-arrow\">LinearRegression</label><div class=\"sk-toggleable__content\"><pre>LinearRegression()</pre></div></div></div></div></div>"
            ]
          },
          "metadata": {},
          "execution_count": 12
        }
      ],
      "source": [
        "from sklearn.linear_model import LinearRegression\n",
        "regressor_lr = LinearRegression()\n",
        "regressor_lr.fit(X_train,y_train)"
      ]
    },
    {
      "cell_type": "markdown",
      "source": [
        "Predicting the Test Set Results"
      ],
      "metadata": {
        "id": "-IoeJnxdmmvr"
      }
    },
    {
      "cell_type": "code",
      "source": [
        "y_pred_lr = regressor_lr.predict(X_test)\n",
        "np.set_printoptions(precision=2)\n",
        "print(np.concatenate((y_pred_lr.reshape(len(y_pred_lr),1), y_test.reshape(len(y_test),1)),1))"
      ],
      "metadata": {
        "colab": {
          "base_uri": "https://localhost:8080/"
        },
        "id": "rhkJPH7Zmrl3",
        "outputId": "bb3a4614-4337-44fa-80d0-1c3a4bd49d22"
      },
      "execution_count": 13,
      "outputs": [
        {
          "output_type": "stream",
          "name": "stdout",
          "text": [
            "[[ 319.44  269.  ]\n",
            " [ 646.76 1049.  ]\n",
            " [ 596.94  429.  ]\n",
            " [ 540.28  799.  ]\n",
            " [ 481.    449.  ]\n",
            " [ 669.23  749.  ]\n",
            " [ 274.15  299.  ]\n",
            " [ 452.84  449.  ]\n",
            " [  78.98  169.  ]\n",
            " [ 703.86  499.  ]\n",
            " [ 517.29  399.  ]\n",
            " [ 915.17  999.  ]\n",
            " [ 127.92  149.  ]\n",
            " [ 104.18  109.  ]\n",
            " [ 439.69  329.  ]\n",
            " [ 865.3  1099.  ]\n",
            " [1052.06 1099.  ]\n",
            " [ 128.96  189.  ]\n",
            " [ 297.16  279.  ]\n",
            " [ 481.    469.  ]\n",
            " [ 127.92  139.  ]\n",
            " [ 489.33  329.  ]\n",
            " [ 174.38  149.  ]\n",
            " [ 692.84  329.  ]\n",
            " [ 439.69  369.  ]\n",
            " [ 739.25  699.  ]\n",
            " [ 571.37  309.  ]\n",
            " [ 366.7   329.  ]\n",
            " [  -8.04  149.  ]\n",
            " [ 793.77  599.  ]\n",
            " [  26.13  149.  ]\n",
            " [ 442.97  329.  ]\n",
            " [ 439.69  399.  ]\n",
            " [ 342.57  249.  ]\n",
            " [ 947.69  969.  ]\n",
            " [ 200.14  229.  ]\n",
            " [ 127.92  139.  ]\n",
            " [ 292.05  299.  ]\n",
            " [ 381.29  339.  ]\n",
            " [ 641.61  659.  ]\n",
            " [ 268.38  249.  ]\n",
            " [ 308.61  279.  ]\n",
            " [  56.34  169.  ]\n",
            " [ 878.51  999.  ]\n",
            " [ 983.88 1199.  ]\n",
            " [ 481.    449.  ]\n",
            " [ 496.54  449.  ]\n",
            " [ 481.    459.  ]\n",
            " [ 401.14  499.  ]\n",
            " [ 427.28  349.  ]\n",
            " [ 264.72  199.  ]\n",
            " [ 191.65  249.  ]\n",
            " [ 739.25  699.  ]\n",
            " [ 381.29  299.  ]\n",
            " [ 837.78  799.  ]\n",
            " [ 532.13  649.  ]\n",
            " [ 151.41  149.  ]\n",
            " [ 104.18   99.  ]\n",
            " [  82.31  169.  ]\n",
            " [ 416.89  329.  ]\n",
            " [ 174.38  139.  ]\n",
            " [ 597.37  699.  ]\n",
            " [ -12.62   99.  ]\n",
            " [ 196.76  179.  ]\n",
            " [ 803.51  799.  ]\n",
            " [  -7.51   99.  ]\n",
            " [ 310.33  279.  ]\n",
            " [ 194.89  199.  ]\n",
            " [ 547.97  729.  ]\n",
            " [ 814.77  799.  ]\n",
            " [ 416.67  499.  ]\n",
            " [ 332.61  249.  ]\n",
            " [ 319.44  219.  ]\n",
            " [ 332.61  249.  ]\n",
            " [ 308.61  249.  ]\n",
            " [ 675.25  499.  ]\n",
            " [ 229.36  179.  ]\n",
            " [ 229.36  219.  ]\n",
            " [ 840.54 1199.  ]\n",
            " [ 126.1   149.  ]\n",
            " [ 532.13  399.  ]]\n"
          ]
        }
      ]
    },
    {
      "cell_type": "markdown",
      "source": [
        "Evaluating the Model Performance"
      ],
      "metadata": {
        "id": "osnig6iKmrxB"
      }
    },
    {
      "cell_type": "code",
      "source": [
        "r2_score(y_test, y_pred_lr)"
      ],
      "metadata": {
        "colab": {
          "base_uri": "https://localhost:8080/"
        },
        "id": "eRm3CHNcmvJr",
        "outputId": "e57874c2-cb5d-49b1-a3e4-cb589bd02f4d"
      },
      "execution_count": 14,
      "outputs": [
        {
          "output_type": "execute_result",
          "data": {
            "text/plain": [
              "0.8248399239708818"
            ]
          },
          "metadata": {},
          "execution_count": 14
        }
      ]
    },
    {
      "cell_type": "markdown",
      "source": [
        "## Support Vector Regression(SVR)"
      ],
      "metadata": {
        "id": "4tzDqOZnpFEx"
      }
    },
    {
      "cell_type": "markdown",
      "source": [
        "Training the Support Vector Regression model on the Training set"
      ],
      "metadata": {
        "id": "0LFWz_pNpbSM"
      }
    },
    {
      "cell_type": "code",
      "source": [
        "from sklearn.preprocessing import StandardScaler\n",
        "sc_X = StandardScaler()\n",
        "sc_y = StandardScaler()\n",
        "X_train_sc = sc_X.fit_transform(X_train)\n",
        "y_train_sc = sc_y.fit_transform(y_train)\n",
        "from sklearn.svm import SVR\n",
        "regressor_svr = SVR(kernel = 'rbf')\n",
        "regressor_svr.fit(X_train_sc, y_train_sc)"
      ],
      "metadata": {
        "colab": {
          "base_uri": "https://localhost:8080/",
          "height": 130
        },
        "id": "sgU3wQ7WpZqi",
        "outputId": "89e01631-48cf-456d-905a-0c187e375b0a"
      },
      "execution_count": 24,
      "outputs": [
        {
          "output_type": "stream",
          "name": "stderr",
          "text": [
            "/usr/local/lib/python3.10/dist-packages/sklearn/utils/validation.py:1143: DataConversionWarning: A column-vector y was passed when a 1d array was expected. Please change the shape of y to (n_samples, ), for example using ravel().\n",
            "  y = column_or_1d(y, warn=True)\n"
          ]
        },
        {
          "output_type": "execute_result",
          "data": {
            "text/plain": [
              "SVR()"
            ],
            "text/html": [
              "<style>#sk-container-id-6 {color: black;background-color: white;}#sk-container-id-6 pre{padding: 0;}#sk-container-id-6 div.sk-toggleable {background-color: white;}#sk-container-id-6 label.sk-toggleable__label {cursor: pointer;display: block;width: 100%;margin-bottom: 0;padding: 0.3em;box-sizing: border-box;text-align: center;}#sk-container-id-6 label.sk-toggleable__label-arrow:before {content: \"▸\";float: left;margin-right: 0.25em;color: #696969;}#sk-container-id-6 label.sk-toggleable__label-arrow:hover:before {color: black;}#sk-container-id-6 div.sk-estimator:hover label.sk-toggleable__label-arrow:before {color: black;}#sk-container-id-6 div.sk-toggleable__content {max-height: 0;max-width: 0;overflow: hidden;text-align: left;background-color: #f0f8ff;}#sk-container-id-6 div.sk-toggleable__content pre {margin: 0.2em;color: black;border-radius: 0.25em;background-color: #f0f8ff;}#sk-container-id-6 input.sk-toggleable__control:checked~div.sk-toggleable__content {max-height: 200px;max-width: 100%;overflow: auto;}#sk-container-id-6 input.sk-toggleable__control:checked~label.sk-toggleable__label-arrow:before {content: \"▾\";}#sk-container-id-6 div.sk-estimator input.sk-toggleable__control:checked~label.sk-toggleable__label {background-color: #d4ebff;}#sk-container-id-6 div.sk-label input.sk-toggleable__control:checked~label.sk-toggleable__label {background-color: #d4ebff;}#sk-container-id-6 input.sk-hidden--visually {border: 0;clip: rect(1px 1px 1px 1px);clip: rect(1px, 1px, 1px, 1px);height: 1px;margin: -1px;overflow: hidden;padding: 0;position: absolute;width: 1px;}#sk-container-id-6 div.sk-estimator {font-family: monospace;background-color: #f0f8ff;border: 1px dotted black;border-radius: 0.25em;box-sizing: border-box;margin-bottom: 0.5em;}#sk-container-id-6 div.sk-estimator:hover {background-color: #d4ebff;}#sk-container-id-6 div.sk-parallel-item::after {content: \"\";width: 100%;border-bottom: 1px solid gray;flex-grow: 1;}#sk-container-id-6 div.sk-label:hover label.sk-toggleable__label {background-color: #d4ebff;}#sk-container-id-6 div.sk-serial::before {content: \"\";position: absolute;border-left: 1px solid gray;box-sizing: border-box;top: 0;bottom: 0;left: 50%;z-index: 0;}#sk-container-id-6 div.sk-serial {display: flex;flex-direction: column;align-items: center;background-color: white;padding-right: 0.2em;padding-left: 0.2em;position: relative;}#sk-container-id-6 div.sk-item {position: relative;z-index: 1;}#sk-container-id-6 div.sk-parallel {display: flex;align-items: stretch;justify-content: center;background-color: white;position: relative;}#sk-container-id-6 div.sk-item::before, #sk-container-id-6 div.sk-parallel-item::before {content: \"\";position: absolute;border-left: 1px solid gray;box-sizing: border-box;top: 0;bottom: 0;left: 50%;z-index: -1;}#sk-container-id-6 div.sk-parallel-item {display: flex;flex-direction: column;z-index: 1;position: relative;background-color: white;}#sk-container-id-6 div.sk-parallel-item:first-child::after {align-self: flex-end;width: 50%;}#sk-container-id-6 div.sk-parallel-item:last-child::after {align-self: flex-start;width: 50%;}#sk-container-id-6 div.sk-parallel-item:only-child::after {width: 0;}#sk-container-id-6 div.sk-dashed-wrapped {border: 1px dashed gray;margin: 0 0.4em 0.5em 0.4em;box-sizing: border-box;padding-bottom: 0.4em;background-color: white;}#sk-container-id-6 div.sk-label label {font-family: monospace;font-weight: bold;display: inline-block;line-height: 1.2em;}#sk-container-id-6 div.sk-label-container {text-align: center;}#sk-container-id-6 div.sk-container {/* jupyter's `normalize.less` sets `[hidden] { display: none; }` but bootstrap.min.css set `[hidden] { display: none !important; }` so we also need the `!important` here to be able to override the default hidden behavior on the sphinx rendered scikit-learn.org. See: https://github.com/scikit-learn/scikit-learn/issues/21755 */display: inline-block !important;position: relative;}#sk-container-id-6 div.sk-text-repr-fallback {display: none;}</style><div id=\"sk-container-id-6\" class=\"sk-top-container\"><div class=\"sk-text-repr-fallback\"><pre>SVR()</pre><b>In a Jupyter environment, please rerun this cell to show the HTML representation or trust the notebook. <br />On GitHub, the HTML representation is unable to render, please try loading this page with nbviewer.org.</b></div><div class=\"sk-container\" hidden><div class=\"sk-item\"><div class=\"sk-estimator sk-toggleable\"><input class=\"sk-toggleable__control sk-hidden--visually\" id=\"sk-estimator-id-6\" type=\"checkbox\" checked><label for=\"sk-estimator-id-6\" class=\"sk-toggleable__label sk-toggleable__label-arrow\">SVR</label><div class=\"sk-toggleable__content\"><pre>SVR()</pre></div></div></div></div></div>"
            ]
          },
          "metadata": {},
          "execution_count": 24
        }
      ]
    },
    {
      "cell_type": "markdown",
      "source": [
        "Predicting the Test Set Results"
      ],
      "metadata": {
        "id": "76WxUNyup0Pd"
      }
    },
    {
      "cell_type": "code",
      "source": [
        "y_pred_svr = sc_y.inverse_transform(regressor_svr.predict(sc_X.transform(X_test)).reshape(-1,1))\n",
        "np.set_printoptions(precision=2)\n",
        "print(np.concatenate((y_pred_svr.reshape(len(y_pred_svr),1), y_test.reshape(len(y_test),1)),1))"
      ],
      "metadata": {
        "colab": {
          "base_uri": "https://localhost:8080/"
        },
        "id": "eDFHLNn-p0fc",
        "outputId": "de4e54a5-f143-429f-c75b-a7bbc662d965"
      },
      "execution_count": 25,
      "outputs": [
        {
          "output_type": "stream",
          "name": "stdout",
          "text": [
            "[[ 240.53  269.  ]\n",
            " [ 756.36 1049.  ]\n",
            " [ 636.96  429.  ]\n",
            " [ 642.59  799.  ]\n",
            " [ 477.85  449.  ]\n",
            " [ 708.86  749.  ]\n",
            " [ 259.44  299.  ]\n",
            " [ 391.49  449.  ]\n",
            " [ 197.08  169.  ]\n",
            " [ 731.57  499.  ]\n",
            " [ 521.75  399.  ]\n",
            " [ 854.69  999.  ]\n",
            " [ 140.    149.  ]\n",
            " [ 136.69  109.  ]\n",
            " [ 330.88  329.  ]\n",
            " [ 970.21 1099.  ]\n",
            " [1073.03 1099.  ]\n",
            " [ 173.63  189.  ]\n",
            " [ 278.1   279.  ]\n",
            " [ 477.85  469.  ]\n",
            " [ 140.    139.  ]\n",
            " [ 523.56  329.  ]\n",
            " [ 128.79  149.  ]\n",
            " [ 623.18  329.  ]\n",
            " [ 330.88  369.  ]\n",
            " [ 727.84  699.  ]\n",
            " [ 598.99  309.  ]\n",
            " [ 345.45  329.  ]\n",
            " [ 167.87  149.  ]\n",
            " [ 772.58  599.  ]\n",
            " [ 163.49  149.  ]\n",
            " [ 388.43  329.  ]\n",
            " [ 330.88  399.  ]\n",
            " [ 290.42  249.  ]\n",
            " [ 902.33  969.  ]\n",
            " [ 187.62  229.  ]\n",
            " [ 140.    139.  ]\n",
            " [ 273.6   299.  ]\n",
            " [ 292.37  339.  ]\n",
            " [ 599.96  659.  ]\n",
            " [ 223.57  249.  ]\n",
            " [ 236.76  279.  ]\n",
            " [ 167.68  169.  ]\n",
            " [1120.07  999.  ]\n",
            " [1184.62 1199.  ]\n",
            " [ 477.85  449.  ]\n",
            " [ 475.75  449.  ]\n",
            " [ 477.85  459.  ]\n",
            " [ 342.87  499.  ]\n",
            " [ 372.81  349.  ]\n",
            " [ 183.88  199.  ]\n",
            " [ 208.22  249.  ]\n",
            " [ 727.84  699.  ]\n",
            " [ 292.37  299.  ]\n",
            " [ 839.02  799.  ]\n",
            " [ 551.31  649.  ]\n",
            " [ 239.89  149.  ]\n",
            " [ 136.69   99.  ]\n",
            " [ 150.14  169.  ]\n",
            " [ 434.83  329.  ]\n",
            " [ 128.79  139.  ]\n",
            " [ 555.74  699.  ]\n",
            " [ 127.8    99.  ]\n",
            " [ 212.27  179.  ]\n",
            " [ 703.03  799.  ]\n",
            " [ 130.31   99.  ]\n",
            " [ 275.71  279.  ]\n",
            " [ 227.21  199.  ]\n",
            " [ 553.16  729.  ]\n",
            " [ 770.16  799.  ]\n",
            " [ 370.    499.  ]\n",
            " [ 278.59  249.  ]\n",
            " [ 240.53  219.  ]\n",
            " [ 278.59  249.  ]\n",
            " [ 236.76  249.  ]\n",
            " [ 622.3   499.  ]\n",
            " [ 209.87  179.  ]\n",
            " [ 209.87  219.  ]\n",
            " [ 853.17 1199.  ]\n",
            " [ 162.41  149.  ]\n",
            " [ 551.31  399.  ]]\n"
          ]
        }
      ]
    },
    {
      "cell_type": "markdown",
      "source": [
        "Evaluating the Model Performance"
      ],
      "metadata": {
        "id": "0k6aeZJBp0ou"
      }
    },
    {
      "cell_type": "code",
      "source": [
        "r2_score(y_test, y_pred_svr)"
      ],
      "metadata": {
        "colab": {
          "base_uri": "https://localhost:8080/"
        },
        "id": "OURh7V12p0yX",
        "outputId": "1c0a9e28-de0f-4d91-e060-bb647578b5e9"
      },
      "execution_count": 26,
      "outputs": [
        {
          "output_type": "execute_result",
          "data": {
            "text/plain": [
              "0.8724007522232643"
            ]
          },
          "metadata": {},
          "execution_count": 26
        }
      ]
    },
    {
      "cell_type": "markdown",
      "source": [
        "## Decision Tree Regression"
      ],
      "metadata": {
        "id": "0IOHO5c3nEps"
      }
    },
    {
      "cell_type": "markdown",
      "source": [
        "Training the Decision Tree Regression model on the Training set"
      ],
      "metadata": {
        "id": "WZE_kyzTniIH"
      }
    },
    {
      "cell_type": "code",
      "source": [
        "from sklearn.tree import DecisionTreeRegressor\n",
        "regressor_dtr = DecisionTreeRegressor(random_state = 0)\n",
        "regressor_dtr.fit(X_train, y_train)"
      ],
      "metadata": {
        "colab": {
          "base_uri": "https://localhost:8080/",
          "height": 75
        },
        "id": "2_Fnkv7onMnT",
        "outputId": "76853aca-4d74-4171-e516-68e45f78883c"
      },
      "execution_count": 15,
      "outputs": [
        {
          "output_type": "execute_result",
          "data": {
            "text/plain": [
              "DecisionTreeRegressor(random_state=0)"
            ],
            "text/html": [
              "<style>#sk-container-id-3 {color: black;background-color: white;}#sk-container-id-3 pre{padding: 0;}#sk-container-id-3 div.sk-toggleable {background-color: white;}#sk-container-id-3 label.sk-toggleable__label {cursor: pointer;display: block;width: 100%;margin-bottom: 0;padding: 0.3em;box-sizing: border-box;text-align: center;}#sk-container-id-3 label.sk-toggleable__label-arrow:before {content: \"▸\";float: left;margin-right: 0.25em;color: #696969;}#sk-container-id-3 label.sk-toggleable__label-arrow:hover:before {color: black;}#sk-container-id-3 div.sk-estimator:hover label.sk-toggleable__label-arrow:before {color: black;}#sk-container-id-3 div.sk-toggleable__content {max-height: 0;max-width: 0;overflow: hidden;text-align: left;background-color: #f0f8ff;}#sk-container-id-3 div.sk-toggleable__content pre {margin: 0.2em;color: black;border-radius: 0.25em;background-color: #f0f8ff;}#sk-container-id-3 input.sk-toggleable__control:checked~div.sk-toggleable__content {max-height: 200px;max-width: 100%;overflow: auto;}#sk-container-id-3 input.sk-toggleable__control:checked~label.sk-toggleable__label-arrow:before {content: \"▾\";}#sk-container-id-3 div.sk-estimator input.sk-toggleable__control:checked~label.sk-toggleable__label {background-color: #d4ebff;}#sk-container-id-3 div.sk-label input.sk-toggleable__control:checked~label.sk-toggleable__label {background-color: #d4ebff;}#sk-container-id-3 input.sk-hidden--visually {border: 0;clip: rect(1px 1px 1px 1px);clip: rect(1px, 1px, 1px, 1px);height: 1px;margin: -1px;overflow: hidden;padding: 0;position: absolute;width: 1px;}#sk-container-id-3 div.sk-estimator {font-family: monospace;background-color: #f0f8ff;border: 1px dotted black;border-radius: 0.25em;box-sizing: border-box;margin-bottom: 0.5em;}#sk-container-id-3 div.sk-estimator:hover {background-color: #d4ebff;}#sk-container-id-3 div.sk-parallel-item::after {content: \"\";width: 100%;border-bottom: 1px solid gray;flex-grow: 1;}#sk-container-id-3 div.sk-label:hover label.sk-toggleable__label {background-color: #d4ebff;}#sk-container-id-3 div.sk-serial::before {content: \"\";position: absolute;border-left: 1px solid gray;box-sizing: border-box;top: 0;bottom: 0;left: 50%;z-index: 0;}#sk-container-id-3 div.sk-serial {display: flex;flex-direction: column;align-items: center;background-color: white;padding-right: 0.2em;padding-left: 0.2em;position: relative;}#sk-container-id-3 div.sk-item {position: relative;z-index: 1;}#sk-container-id-3 div.sk-parallel {display: flex;align-items: stretch;justify-content: center;background-color: white;position: relative;}#sk-container-id-3 div.sk-item::before, #sk-container-id-3 div.sk-parallel-item::before {content: \"\";position: absolute;border-left: 1px solid gray;box-sizing: border-box;top: 0;bottom: 0;left: 50%;z-index: -1;}#sk-container-id-3 div.sk-parallel-item {display: flex;flex-direction: column;z-index: 1;position: relative;background-color: white;}#sk-container-id-3 div.sk-parallel-item:first-child::after {align-self: flex-end;width: 50%;}#sk-container-id-3 div.sk-parallel-item:last-child::after {align-self: flex-start;width: 50%;}#sk-container-id-3 div.sk-parallel-item:only-child::after {width: 0;}#sk-container-id-3 div.sk-dashed-wrapped {border: 1px dashed gray;margin: 0 0.4em 0.5em 0.4em;box-sizing: border-box;padding-bottom: 0.4em;background-color: white;}#sk-container-id-3 div.sk-label label {font-family: monospace;font-weight: bold;display: inline-block;line-height: 1.2em;}#sk-container-id-3 div.sk-label-container {text-align: center;}#sk-container-id-3 div.sk-container {/* jupyter's `normalize.less` sets `[hidden] { display: none; }` but bootstrap.min.css set `[hidden] { display: none !important; }` so we also need the `!important` here to be able to override the default hidden behavior on the sphinx rendered scikit-learn.org. See: https://github.com/scikit-learn/scikit-learn/issues/21755 */display: inline-block !important;position: relative;}#sk-container-id-3 div.sk-text-repr-fallback {display: none;}</style><div id=\"sk-container-id-3\" class=\"sk-top-container\"><div class=\"sk-text-repr-fallback\"><pre>DecisionTreeRegressor(random_state=0)</pre><b>In a Jupyter environment, please rerun this cell to show the HTML representation or trust the notebook. <br />On GitHub, the HTML representation is unable to render, please try loading this page with nbviewer.org.</b></div><div class=\"sk-container\" hidden><div class=\"sk-item\"><div class=\"sk-estimator sk-toggleable\"><input class=\"sk-toggleable__control sk-hidden--visually\" id=\"sk-estimator-id-3\" type=\"checkbox\" checked><label for=\"sk-estimator-id-3\" class=\"sk-toggleable__label sk-toggleable__label-arrow\">DecisionTreeRegressor</label><div class=\"sk-toggleable__content\"><pre>DecisionTreeRegressor(random_state=0)</pre></div></div></div></div></div>"
            ]
          },
          "metadata": {},
          "execution_count": 15
        }
      ]
    },
    {
      "cell_type": "markdown",
      "source": [
        "Predicting the Test Set Results"
      ],
      "metadata": {
        "id": "k5A4zLmGnmEt"
      }
    },
    {
      "cell_type": "code",
      "source": [
        "y_pred_dtr = regressor_dtr.predict(X_test)\n",
        "np.set_printoptions(precision=2)\n",
        "print(np.concatenate((y_pred_dtr.reshape(len(y_pred_dtr),1), y_test.reshape(len(y_test),1)),1))"
      ],
      "metadata": {
        "colab": {
          "base_uri": "https://localhost:8080/"
        },
        "id": "wnsM-NWNnsrn",
        "outputId": "cd83c667-b6be-422d-a4b0-cdb9fb7406ad"
      },
      "execution_count": 16,
      "outputs": [
        {
          "output_type": "stream",
          "name": "stdout",
          "text": [
            "[[ 259.    269.  ]\n",
            " [ 699.   1049.  ]\n",
            " [ 429.    429.  ]\n",
            " [ 799.    799.  ]\n",
            " [ 542.75  449.  ]\n",
            " [1199.    749.  ]\n",
            " [ 299.    299.  ]\n",
            " [ 542.75  449.  ]\n",
            " [ 129.    169.  ]\n",
            " [ 699.    499.  ]\n",
            " [ 399.    399.  ]\n",
            " [ 799.    999.  ]\n",
            " [ 141.5   149.  ]\n",
            " [  99.    109.  ]\n",
            " [ 314.    329.  ]\n",
            " [ 699.   1099.  ]\n",
            " [1099.   1099.  ]\n",
            " [ 199.    189.  ]\n",
            " [ 259.    279.  ]\n",
            " [ 542.75  469.  ]\n",
            " [ 141.5   139.  ]\n",
            " [ 749.    329.  ]\n",
            " [ 139.    149.  ]\n",
            " [ 349.    329.  ]\n",
            " [ 314.    369.  ]\n",
            " [ 699.    699.  ]\n",
            " [ 314.    309.  ]\n",
            " [ 374.    329.  ]\n",
            " [ 144.    149.  ]\n",
            " [ 749.    599.  ]\n",
            " [ 149.    149.  ]\n",
            " [ 329.    329.  ]\n",
            " [ 314.    399.  ]\n",
            " [ 290.25  249.  ]\n",
            " [ 969.    969.  ]\n",
            " [ 179.    229.  ]\n",
            " [ 141.5   139.  ]\n",
            " [ 265.25  299.  ]\n",
            " [ 271.5   339.  ]\n",
            " [ 549.    659.  ]\n",
            " [ 249.    249.  ]\n",
            " [ 289.    279.  ]\n",
            " [ 149.    169.  ]\n",
            " [1099.    999.  ]\n",
            " [1199.   1199.  ]\n",
            " [ 542.75  449.  ]\n",
            " [ 449.    449.  ]\n",
            " [ 542.75  459.  ]\n",
            " [ 399.    499.  ]\n",
            " [1099.    349.  ]\n",
            " [ 175.    199.  ]\n",
            " [ 229.    249.  ]\n",
            " [ 699.    699.  ]\n",
            " [ 271.5   299.  ]\n",
            " [ 799.    799.  ]\n",
            " [ 624.    649.  ]\n",
            " [ 149.    149.  ]\n",
            " [  99.     99.  ]\n",
            " [ 179.    169.  ]\n",
            " [ 399.    329.  ]\n",
            " [ 139.    139.  ]\n",
            " [ 699.    699.  ]\n",
            " [  99.     99.  ]\n",
            " [ 229.    179.  ]\n",
            " [ 699.    799.  ]\n",
            " [ 169.     99.  ]\n",
            " [ 199.    279.  ]\n",
            " [ 199.    199.  ]\n",
            " [ 739.    729.  ]\n",
            " [ 799.    799.  ]\n",
            " [ 387.    499.  ]\n",
            " [ 275.    249.  ]\n",
            " [ 259.    219.  ]\n",
            " [ 275.    249.  ]\n",
            " [ 289.    249.  ]\n",
            " [ 532.33  499.  ]\n",
            " [ 199.    179.  ]\n",
            " [ 199.    219.  ]\n",
            " [ 969.   1199.  ]\n",
            " [ 149.    149.  ]\n",
            " [ 624.    399.  ]]\n"
          ]
        }
      ]
    },
    {
      "cell_type": "markdown",
      "source": [
        "Evaluating the Model Performance"
      ],
      "metadata": {
        "id": "QX7hJkqOn8Gd"
      }
    },
    {
      "cell_type": "code",
      "source": [
        "r2_score(y_test, y_pred_dtr)"
      ],
      "metadata": {
        "colab": {
          "base_uri": "https://localhost:8080/"
        },
        "id": "Vwf4oaz1n_Qq",
        "outputId": "a5ac1d16-aa57-4a31-cb33-05f7d8f6bb97"
      },
      "execution_count": 17,
      "outputs": [
        {
          "output_type": "execute_result",
          "data": {
            "text/plain": [
              "0.765485413518684"
            ]
          },
          "metadata": {},
          "execution_count": 17
        }
      ]
    },
    {
      "cell_type": "markdown",
      "source": [
        "##Random Forest Regression"
      ],
      "metadata": {
        "id": "JVMf8KgZoOs-"
      }
    },
    {
      "cell_type": "markdown",
      "source": [
        "Training the Random Forest Regression model on the Training set"
      ],
      "metadata": {
        "id": "1xFZQ_vVofWt"
      }
    },
    {
      "cell_type": "code",
      "source": [
        "from sklearn.ensemble import RandomForestRegressor\n",
        "regressor_rfr = RandomForestRegressor(n_estimators=10,random_state=0)\n",
        "regressor_rfr.fit(X_train,y_train)"
      ],
      "metadata": {
        "colab": {
          "base_uri": "https://localhost:8080/",
          "height": 130
        },
        "id": "eftKjyThomsP",
        "outputId": "aea89a7a-182f-40bc-ef36-c1021f9851dd"
      },
      "execution_count": 18,
      "outputs": [
        {
          "output_type": "stream",
          "name": "stderr",
          "text": [
            "<ipython-input-18-a5742cecf00e>:3: DataConversionWarning: A column-vector y was passed when a 1d array was expected. Please change the shape of y to (n_samples,), for example using ravel().\n",
            "  regressor_rfr.fit(X_train,y_train)\n"
          ]
        },
        {
          "output_type": "execute_result",
          "data": {
            "text/plain": [
              "RandomForestRegressor(n_estimators=10, random_state=0)"
            ],
            "text/html": [
              "<style>#sk-container-id-4 {color: black;background-color: white;}#sk-container-id-4 pre{padding: 0;}#sk-container-id-4 div.sk-toggleable {background-color: white;}#sk-container-id-4 label.sk-toggleable__label {cursor: pointer;display: block;width: 100%;margin-bottom: 0;padding: 0.3em;box-sizing: border-box;text-align: center;}#sk-container-id-4 label.sk-toggleable__label-arrow:before {content: \"▸\";float: left;margin-right: 0.25em;color: #696969;}#sk-container-id-4 label.sk-toggleable__label-arrow:hover:before {color: black;}#sk-container-id-4 div.sk-estimator:hover label.sk-toggleable__label-arrow:before {color: black;}#sk-container-id-4 div.sk-toggleable__content {max-height: 0;max-width: 0;overflow: hidden;text-align: left;background-color: #f0f8ff;}#sk-container-id-4 div.sk-toggleable__content pre {margin: 0.2em;color: black;border-radius: 0.25em;background-color: #f0f8ff;}#sk-container-id-4 input.sk-toggleable__control:checked~div.sk-toggleable__content {max-height: 200px;max-width: 100%;overflow: auto;}#sk-container-id-4 input.sk-toggleable__control:checked~label.sk-toggleable__label-arrow:before {content: \"▾\";}#sk-container-id-4 div.sk-estimator input.sk-toggleable__control:checked~label.sk-toggleable__label {background-color: #d4ebff;}#sk-container-id-4 div.sk-label input.sk-toggleable__control:checked~label.sk-toggleable__label {background-color: #d4ebff;}#sk-container-id-4 input.sk-hidden--visually {border: 0;clip: rect(1px 1px 1px 1px);clip: rect(1px, 1px, 1px, 1px);height: 1px;margin: -1px;overflow: hidden;padding: 0;position: absolute;width: 1px;}#sk-container-id-4 div.sk-estimator {font-family: monospace;background-color: #f0f8ff;border: 1px dotted black;border-radius: 0.25em;box-sizing: border-box;margin-bottom: 0.5em;}#sk-container-id-4 div.sk-estimator:hover {background-color: #d4ebff;}#sk-container-id-4 div.sk-parallel-item::after {content: \"\";width: 100%;border-bottom: 1px solid gray;flex-grow: 1;}#sk-container-id-4 div.sk-label:hover label.sk-toggleable__label {background-color: #d4ebff;}#sk-container-id-4 div.sk-serial::before {content: \"\";position: absolute;border-left: 1px solid gray;box-sizing: border-box;top: 0;bottom: 0;left: 50%;z-index: 0;}#sk-container-id-4 div.sk-serial {display: flex;flex-direction: column;align-items: center;background-color: white;padding-right: 0.2em;padding-left: 0.2em;position: relative;}#sk-container-id-4 div.sk-item {position: relative;z-index: 1;}#sk-container-id-4 div.sk-parallel {display: flex;align-items: stretch;justify-content: center;background-color: white;position: relative;}#sk-container-id-4 div.sk-item::before, #sk-container-id-4 div.sk-parallel-item::before {content: \"\";position: absolute;border-left: 1px solid gray;box-sizing: border-box;top: 0;bottom: 0;left: 50%;z-index: -1;}#sk-container-id-4 div.sk-parallel-item {display: flex;flex-direction: column;z-index: 1;position: relative;background-color: white;}#sk-container-id-4 div.sk-parallel-item:first-child::after {align-self: flex-end;width: 50%;}#sk-container-id-4 div.sk-parallel-item:last-child::after {align-self: flex-start;width: 50%;}#sk-container-id-4 div.sk-parallel-item:only-child::after {width: 0;}#sk-container-id-4 div.sk-dashed-wrapped {border: 1px dashed gray;margin: 0 0.4em 0.5em 0.4em;box-sizing: border-box;padding-bottom: 0.4em;background-color: white;}#sk-container-id-4 div.sk-label label {font-family: monospace;font-weight: bold;display: inline-block;line-height: 1.2em;}#sk-container-id-4 div.sk-label-container {text-align: center;}#sk-container-id-4 div.sk-container {/* jupyter's `normalize.less` sets `[hidden] { display: none; }` but bootstrap.min.css set `[hidden] { display: none !important; }` so we also need the `!important` here to be able to override the default hidden behavior on the sphinx rendered scikit-learn.org. See: https://github.com/scikit-learn/scikit-learn/issues/21755 */display: inline-block !important;position: relative;}#sk-container-id-4 div.sk-text-repr-fallback {display: none;}</style><div id=\"sk-container-id-4\" class=\"sk-top-container\"><div class=\"sk-text-repr-fallback\"><pre>RandomForestRegressor(n_estimators=10, random_state=0)</pre><b>In a Jupyter environment, please rerun this cell to show the HTML representation or trust the notebook. <br />On GitHub, the HTML representation is unable to render, please try loading this page with nbviewer.org.</b></div><div class=\"sk-container\" hidden><div class=\"sk-item\"><div class=\"sk-estimator sk-toggleable\"><input class=\"sk-toggleable__control sk-hidden--visually\" id=\"sk-estimator-id-4\" type=\"checkbox\" checked><label for=\"sk-estimator-id-4\" class=\"sk-toggleable__label sk-toggleable__label-arrow\">RandomForestRegressor</label><div class=\"sk-toggleable__content\"><pre>RandomForestRegressor(n_estimators=10, random_state=0)</pre></div></div></div></div></div>"
            ]
          },
          "metadata": {},
          "execution_count": 18
        }
      ]
    },
    {
      "cell_type": "markdown",
      "source": [
        "Predicting the Test Set Results"
      ],
      "metadata": {
        "id": "aXHBHNCPos09"
      }
    },
    {
      "cell_type": "code",
      "source": [
        "y_pred_rfr = regressor_rfr.predict(X_test)\n",
        "np.set_printoptions(precision=2)\n",
        "print(np.concatenate((y_pred_rfr.reshape(len(y_pred_rfr),1), y_test.reshape(len(y_test),1)),1))"
      ],
      "metadata": {
        "colab": {
          "base_uri": "https://localhost:8080/"
        },
        "id": "g9p1blW8otE8",
        "outputId": "3c8a2119-3126-46aa-edf5-ad3bff2ae4d7"
      },
      "execution_count": 19,
      "outputs": [
        {
          "output_type": "stream",
          "name": "stdout",
          "text": [
            "[[ 265.93  269.  ]\n",
            " [ 584.5  1049.  ]\n",
            " [ 435.    429.  ]\n",
            " [ 758.    799.  ]\n",
            " [ 544.31  449.  ]\n",
            " [1199.    749.  ]\n",
            " [ 285.47  299.  ]\n",
            " [ 546.5   449.  ]\n",
            " [ 109.1   169.  ]\n",
            " [ 759.    499.  ]\n",
            " [ 510.27  399.  ]\n",
            " [ 819.    999.  ]\n",
            " [ 137.87  149.  ]\n",
            " [ 107.    109.  ]\n",
            " [ 310.17  329.  ]\n",
            " [ 855.67 1099.  ]\n",
            " [1049.   1099.  ]\n",
            " [ 191.52  189.  ]\n",
            " [ 259.2   279.  ]\n",
            " [ 544.31  469.  ]\n",
            " [ 137.87  139.  ]\n",
            " [ 568.    329.  ]\n",
            " [ 129.2   149.  ]\n",
            " [ 381.    329.  ]\n",
            " [ 310.17  369.  ]\n",
            " [ 789.    699.  ]\n",
            " [ 312.    309.  ]\n",
            " [ 375.58  329.  ]\n",
            " [ 143.39  149.  ]\n",
            " [ 714.    599.  ]\n",
            " [ 149.5   149.  ]\n",
            " [ 376.61  329.  ]\n",
            " [ 310.17  399.  ]\n",
            " [ 288.52  249.  ]\n",
            " [ 921.    969.  ]\n",
            " [ 183.    229.  ]\n",
            " [ 137.87  139.  ]\n",
            " [ 271.48  299.  ]\n",
            " [ 267.6   339.  ]\n",
            " [ 582.64  659.  ]\n",
            " [ 247.08  249.  ]\n",
            " [ 280.67  279.  ]\n",
            " [ 159.32  169.  ]\n",
            " [1010.    999.  ]\n",
            " [1199.   1199.  ]\n",
            " [ 544.31  449.  ]\n",
            " [ 449.    449.  ]\n",
            " [ 544.31  459.  ]\n",
            " [ 399.71  499.  ]\n",
            " [ 652.46  349.  ]\n",
            " [ 176.63  199.  ]\n",
            " [ 222.67  249.  ]\n",
            " [ 789.    699.  ]\n",
            " [ 267.6   299.  ]\n",
            " [ 843.58  799.  ]\n",
            " [ 618.33  649.  ]\n",
            " [ 158.    149.  ]\n",
            " [ 107.     99.  ]\n",
            " [ 187.5   169.  ]\n",
            " [ 489.92  329.  ]\n",
            " [ 129.2   139.  ]\n",
            " [ 709.    699.  ]\n",
            " [ 105.     99.  ]\n",
            " [ 218.5   179.  ]\n",
            " [ 549.    799.  ]\n",
            " [ 137.83   99.  ]\n",
            " [ 174.05  279.  ]\n",
            " [ 209.    199.  ]\n",
            " [ 739.67  729.  ]\n",
            " [ 779.    799.  ]\n",
            " [ 381.15  499.  ]\n",
            " [ 272.23  249.  ]\n",
            " [ 265.93  219.  ]\n",
            " [ 272.23  249.  ]\n",
            " [ 280.67  249.  ]\n",
            " [ 532.33  499.  ]\n",
            " [ 280.    179.  ]\n",
            " [ 280.    219.  ]\n",
            " [ 902.33 1199.  ]\n",
            " [ 154.92  149.  ]\n",
            " [ 618.33  399.  ]]\n"
          ]
        }
      ]
    },
    {
      "cell_type": "markdown",
      "source": [
        "Evaluating the Model Performance"
      ],
      "metadata": {
        "id": "6ypQbSoVotYq"
      }
    },
    {
      "cell_type": "code",
      "source": [
        "r2_score(y_test, y_pred_rfr)"
      ],
      "metadata": {
        "colab": {
          "base_uri": "https://localhost:8080/"
        },
        "id": "-GOqr1NCotks",
        "outputId": "54e3ac82-e2ba-4864-ee99-3f65c9e5beba"
      },
      "execution_count": 20,
      "outputs": [
        {
          "output_type": "execute_result",
          "data": {
            "text/plain": [
              "0.8300258999069569"
            ]
          },
          "metadata": {},
          "execution_count": 20
        }
      ]
    },
    {
      "cell_type": "markdown",
      "source": [
        "##XGBoost"
      ],
      "metadata": {
        "id": "JDdzmLj8rpgL"
      }
    },
    {
      "cell_type": "markdown",
      "source": [
        "Training the XGBoost Regression model on the Training set"
      ],
      "metadata": {
        "id": "FrWAMM_9ruwW"
      }
    },
    {
      "cell_type": "code",
      "source": [
        "from xgboost import XGBRegressor\n",
        "regressor_xb = XGBRegressor()\n",
        "regressor_xb.fit(X_train_sc, y_train_sc)"
      ],
      "metadata": {
        "colab": {
          "base_uri": "https://localhost:8080/",
          "height": 248
        },
        "id": "EfC8U2JurrSo",
        "outputId": "e9880673-44a5-4ea4-c124-60f98ae08c17"
      },
      "execution_count": 34,
      "outputs": [
        {
          "output_type": "execute_result",
          "data": {
            "text/plain": [
              "XGBRegressor(base_score=None, booster=None, callbacks=None,\n",
              "             colsample_bylevel=None, colsample_bynode=None,\n",
              "             colsample_bytree=None, early_stopping_rounds=None,\n",
              "             enable_categorical=False, eval_metric=None, feature_types=None,\n",
              "             gamma=None, gpu_id=None, grow_policy=None, importance_type=None,\n",
              "             interaction_constraints=None, learning_rate=None, max_bin=None,\n",
              "             max_cat_threshold=None, max_cat_to_onehot=None,\n",
              "             max_delta_step=None, max_depth=None, max_leaves=None,\n",
              "             min_child_weight=None, missing=nan, monotone_constraints=None,\n",
              "             n_estimators=100, n_jobs=None, num_parallel_tree=None,\n",
              "             predictor=None, random_state=None, ...)"
            ],
            "text/html": [
              "<style>#sk-container-id-7 {color: black;background-color: white;}#sk-container-id-7 pre{padding: 0;}#sk-container-id-7 div.sk-toggleable {background-color: white;}#sk-container-id-7 label.sk-toggleable__label {cursor: pointer;display: block;width: 100%;margin-bottom: 0;padding: 0.3em;box-sizing: border-box;text-align: center;}#sk-container-id-7 label.sk-toggleable__label-arrow:before {content: \"▸\";float: left;margin-right: 0.25em;color: #696969;}#sk-container-id-7 label.sk-toggleable__label-arrow:hover:before {color: black;}#sk-container-id-7 div.sk-estimator:hover label.sk-toggleable__label-arrow:before {color: black;}#sk-container-id-7 div.sk-toggleable__content {max-height: 0;max-width: 0;overflow: hidden;text-align: left;background-color: #f0f8ff;}#sk-container-id-7 div.sk-toggleable__content pre {margin: 0.2em;color: black;border-radius: 0.25em;background-color: #f0f8ff;}#sk-container-id-7 input.sk-toggleable__control:checked~div.sk-toggleable__content {max-height: 200px;max-width: 100%;overflow: auto;}#sk-container-id-7 input.sk-toggleable__control:checked~label.sk-toggleable__label-arrow:before {content: \"▾\";}#sk-container-id-7 div.sk-estimator input.sk-toggleable__control:checked~label.sk-toggleable__label {background-color: #d4ebff;}#sk-container-id-7 div.sk-label input.sk-toggleable__control:checked~label.sk-toggleable__label {background-color: #d4ebff;}#sk-container-id-7 input.sk-hidden--visually {border: 0;clip: rect(1px 1px 1px 1px);clip: rect(1px, 1px, 1px, 1px);height: 1px;margin: -1px;overflow: hidden;padding: 0;position: absolute;width: 1px;}#sk-container-id-7 div.sk-estimator {font-family: monospace;background-color: #f0f8ff;border: 1px dotted black;border-radius: 0.25em;box-sizing: border-box;margin-bottom: 0.5em;}#sk-container-id-7 div.sk-estimator:hover {background-color: #d4ebff;}#sk-container-id-7 div.sk-parallel-item::after {content: \"\";width: 100%;border-bottom: 1px solid gray;flex-grow: 1;}#sk-container-id-7 div.sk-label:hover label.sk-toggleable__label {background-color: #d4ebff;}#sk-container-id-7 div.sk-serial::before {content: \"\";position: absolute;border-left: 1px solid gray;box-sizing: border-box;top: 0;bottom: 0;left: 50%;z-index: 0;}#sk-container-id-7 div.sk-serial {display: flex;flex-direction: column;align-items: center;background-color: white;padding-right: 0.2em;padding-left: 0.2em;position: relative;}#sk-container-id-7 div.sk-item {position: relative;z-index: 1;}#sk-container-id-7 div.sk-parallel {display: flex;align-items: stretch;justify-content: center;background-color: white;position: relative;}#sk-container-id-7 div.sk-item::before, #sk-container-id-7 div.sk-parallel-item::before {content: \"\";position: absolute;border-left: 1px solid gray;box-sizing: border-box;top: 0;bottom: 0;left: 50%;z-index: -1;}#sk-container-id-7 div.sk-parallel-item {display: flex;flex-direction: column;z-index: 1;position: relative;background-color: white;}#sk-container-id-7 div.sk-parallel-item:first-child::after {align-self: flex-end;width: 50%;}#sk-container-id-7 div.sk-parallel-item:last-child::after {align-self: flex-start;width: 50%;}#sk-container-id-7 div.sk-parallel-item:only-child::after {width: 0;}#sk-container-id-7 div.sk-dashed-wrapped {border: 1px dashed gray;margin: 0 0.4em 0.5em 0.4em;box-sizing: border-box;padding-bottom: 0.4em;background-color: white;}#sk-container-id-7 div.sk-label label {font-family: monospace;font-weight: bold;display: inline-block;line-height: 1.2em;}#sk-container-id-7 div.sk-label-container {text-align: center;}#sk-container-id-7 div.sk-container {/* jupyter's `normalize.less` sets `[hidden] { display: none; }` but bootstrap.min.css set `[hidden] { display: none !important; }` so we also need the `!important` here to be able to override the default hidden behavior on the sphinx rendered scikit-learn.org. See: https://github.com/scikit-learn/scikit-learn/issues/21755 */display: inline-block !important;position: relative;}#sk-container-id-7 div.sk-text-repr-fallback {display: none;}</style><div id=\"sk-container-id-7\" class=\"sk-top-container\"><div class=\"sk-text-repr-fallback\"><pre>XGBRegressor(base_score=None, booster=None, callbacks=None,\n",
              "             colsample_bylevel=None, colsample_bynode=None,\n",
              "             colsample_bytree=None, early_stopping_rounds=None,\n",
              "             enable_categorical=False, eval_metric=None, feature_types=None,\n",
              "             gamma=None, gpu_id=None, grow_policy=None, importance_type=None,\n",
              "             interaction_constraints=None, learning_rate=None, max_bin=None,\n",
              "             max_cat_threshold=None, max_cat_to_onehot=None,\n",
              "             max_delta_step=None, max_depth=None, max_leaves=None,\n",
              "             min_child_weight=None, missing=nan, monotone_constraints=None,\n",
              "             n_estimators=100, n_jobs=None, num_parallel_tree=None,\n",
              "             predictor=None, random_state=None, ...)</pre><b>In a Jupyter environment, please rerun this cell to show the HTML representation or trust the notebook. <br />On GitHub, the HTML representation is unable to render, please try loading this page with nbviewer.org.</b></div><div class=\"sk-container\" hidden><div class=\"sk-item\"><div class=\"sk-estimator sk-toggleable\"><input class=\"sk-toggleable__control sk-hidden--visually\" id=\"sk-estimator-id-7\" type=\"checkbox\" checked><label for=\"sk-estimator-id-7\" class=\"sk-toggleable__label sk-toggleable__label-arrow\">XGBRegressor</label><div class=\"sk-toggleable__content\"><pre>XGBRegressor(base_score=None, booster=None, callbacks=None,\n",
              "             colsample_bylevel=None, colsample_bynode=None,\n",
              "             colsample_bytree=None, early_stopping_rounds=None,\n",
              "             enable_categorical=False, eval_metric=None, feature_types=None,\n",
              "             gamma=None, gpu_id=None, grow_policy=None, importance_type=None,\n",
              "             interaction_constraints=None, learning_rate=None, max_bin=None,\n",
              "             max_cat_threshold=None, max_cat_to_onehot=None,\n",
              "             max_delta_step=None, max_depth=None, max_leaves=None,\n",
              "             min_child_weight=None, missing=nan, monotone_constraints=None,\n",
              "             n_estimators=100, n_jobs=None, num_parallel_tree=None,\n",
              "             predictor=None, random_state=None, ...)</pre></div></div></div></div></div>"
            ]
          },
          "metadata": {},
          "execution_count": 34
        }
      ]
    },
    {
      "cell_type": "markdown",
      "source": [
        "Predicting the Test Set Results"
      ],
      "metadata": {
        "id": "7Xv3W7-Arppu"
      }
    },
    {
      "cell_type": "code",
      "source": [
        "y_pred_xb = sc_y.inverse_transform(regressor_xb.predict(sc_X.transform(X_test)).reshape(-1,1))\n",
        "np.set_printoptions(precision=2)\n",
        "print(np.concatenate((y_pred_xb.reshape(len(y_pred_xb),1), y_test.reshape(len(y_test),1)),1))"
      ],
      "metadata": {
        "colab": {
          "base_uri": "https://localhost:8080/"
        },
        "id": "JRn_twaMrqBI",
        "outputId": "849abb09-252b-45d2-e9f8-c9f387b86c48"
      },
      "execution_count": 35,
      "outputs": [
        {
          "output_type": "stream",
          "name": "stdout",
          "text": [
            "[[ 259.61  269.  ]\n",
            " [ 736.3  1049.  ]\n",
            " [ 713.22  429.  ]\n",
            " [ 798.59  799.  ]\n",
            " [ 542.12  449.  ]\n",
            " [1136.87  749.  ]\n",
            " [ 293.22  299.  ]\n",
            " [ 530.71  449.  ]\n",
            " [ 164.71  169.  ]\n",
            " [ 808.03  499.  ]\n",
            " [ 402.65  399.  ]\n",
            " [ 800.99  999.  ]\n",
            " [ 144.27  149.  ]\n",
            " [ 102.2   109.  ]\n",
            " [ 311.02  329.  ]\n",
            " [ 742.69 1099.  ]\n",
            " [1095.68 1099.  ]\n",
            " [ 193.85  189.  ]\n",
            " [ 264.94  279.  ]\n",
            " [ 542.12  469.  ]\n",
            " [ 144.27  139.  ]\n",
            " [ 512.05  329.  ]\n",
            " [ 135.94  149.  ]\n",
            " [ 354.04  329.  ]\n",
            " [ 311.02  369.  ]\n",
            " [ 699.39  699.  ]\n",
            " [ 369.14  309.  ]\n",
            " [ 373.8   329.  ]\n",
            " [ 144.66  149.  ]\n",
            " [ 754.69  599.  ]\n",
            " [ 148.89  149.  ]\n",
            " [ 335.39  329.  ]\n",
            " [ 311.02  399.  ]\n",
            " [ 290.26  249.  ]\n",
            " [ 961.88  969.  ]\n",
            " [ 189.57  229.  ]\n",
            " [ 144.27  139.  ]\n",
            " [ 265.66  299.  ]\n",
            " [ 271.63  339.  ]\n",
            " [ 552.18  659.  ]\n",
            " [ 212.93  249.  ]\n",
            " [ 280.39  279.  ]\n",
            " [ 155.19  169.  ]\n",
            " [ 964.52  999.  ]\n",
            " [1199.45 1199.  ]\n",
            " [ 542.12  449.  ]\n",
            " [ 448.33  449.  ]\n",
            " [ 542.12  459.  ]\n",
            " [ 388.19  499.  ]\n",
            " [ 478.87  349.  ]\n",
            " [ 175.75  199.  ]\n",
            " [ 222.51  249.  ]\n",
            " [ 699.39  699.  ]\n",
            " [ 271.63  299.  ]\n",
            " [ 784.49  799.  ]\n",
            " [ 624.69  649.  ]\n",
            " [ 215.5   149.  ]\n",
            " [ 102.2    99.  ]\n",
            " [ 179.16  169.  ]\n",
            " [ 366.41  329.  ]\n",
            " [ 135.94  139.  ]\n",
            " [ 698.54  699.  ]\n",
            " [  99.04   99.  ]\n",
            " [ 222.37  179.  ]\n",
            " [ 698.57  799.  ]\n",
            " [ 101.49   99.  ]\n",
            " [ 188.28  279.  ]\n",
            " [ 205.92  199.  ]\n",
            " [ 738.14  729.  ]\n",
            " [ 799.06  799.  ]\n",
            " [ 386.47  499.  ]\n",
            " [ 275.87  249.  ]\n",
            " [ 259.61  219.  ]\n",
            " [ 275.87  249.  ]\n",
            " [ 280.39  249.  ]\n",
            " [ 533.72  499.  ]\n",
            " [ 203.01  179.  ]\n",
            " [ 203.01  219.  ]\n",
            " [ 980.46 1199.  ]\n",
            " [ 146.72  149.  ]\n",
            " [ 624.69  399.  ]]\n"
          ]
        }
      ]
    },
    {
      "cell_type": "markdown",
      "source": [
        "Evaluating the Model Performance"
      ],
      "metadata": {
        "id": "_YUlzB1Orr9m"
      }
    },
    {
      "cell_type": "code",
      "source": [
        "r2_score(y_test, y_pred_xb)"
      ],
      "metadata": {
        "colab": {
          "base_uri": "https://localhost:8080/"
        },
        "id": "lklIakTOrsIS",
        "outputId": "f499599c-a716-49d1-80f8-5cbcbe8524ab"
      },
      "execution_count": 36,
      "outputs": [
        {
          "output_type": "execute_result",
          "data": {
            "text/plain": [
              "0.8658795639073378"
            ]
          },
          "metadata": {},
          "execution_count": 36
        }
      ]
    },
    {
      "cell_type": "markdown",
      "source": [
        "## CatBoost"
      ],
      "metadata": {
        "id": "vq9RP7BxpFM1"
      }
    },
    {
      "cell_type": "code",
      "source": [
        "!pip install catboost"
      ],
      "metadata": {
        "colab": {
          "base_uri": "https://localhost:8080/"
        },
        "id": "htt9jZCspFk0",
        "outputId": "f9609b6e-0ab0-426e-af20-6ebdd6b46e4b"
      },
      "execution_count": 27,
      "outputs": [
        {
          "output_type": "stream",
          "name": "stdout",
          "text": [
            "Collecting catboost\n",
            "  Downloading catboost-1.2-cp310-cp310-manylinux2014_x86_64.whl (98.6 MB)\n",
            "\u001b[2K     \u001b[90m━━━━━━━━━━━━━━━━━━━━━━━━━━━━━━━━━━━━━━━━\u001b[0m \u001b[32m98.6/98.6 MB\u001b[0m \u001b[31m6.3 MB/s\u001b[0m eta \u001b[36m0:00:00\u001b[0m\n",
            "\u001b[?25hRequirement already satisfied: graphviz in /usr/local/lib/python3.10/dist-packages (from catboost) (0.20.1)\n",
            "Requirement already satisfied: matplotlib in /usr/local/lib/python3.10/dist-packages (from catboost) (3.7.1)\n",
            "Requirement already satisfied: numpy>=1.16.0 in /usr/local/lib/python3.10/dist-packages (from catboost) (1.22.4)\n",
            "Requirement already satisfied: pandas>=0.24 in /usr/local/lib/python3.10/dist-packages (from catboost) (1.5.3)\n",
            "Requirement already satisfied: scipy in /usr/local/lib/python3.10/dist-packages (from catboost) (1.10.1)\n",
            "Requirement already satisfied: plotly in /usr/local/lib/python3.10/dist-packages (from catboost) (5.13.1)\n",
            "Requirement already satisfied: six in /usr/local/lib/python3.10/dist-packages (from catboost) (1.16.0)\n",
            "Requirement already satisfied: python-dateutil>=2.8.1 in /usr/local/lib/python3.10/dist-packages (from pandas>=0.24->catboost) (2.8.2)\n",
            "Requirement already satisfied: pytz>=2020.1 in /usr/local/lib/python3.10/dist-packages (from pandas>=0.24->catboost) (2022.7.1)\n",
            "Requirement already satisfied: contourpy>=1.0.1 in /usr/local/lib/python3.10/dist-packages (from matplotlib->catboost) (1.1.0)\n",
            "Requirement already satisfied: cycler>=0.10 in /usr/local/lib/python3.10/dist-packages (from matplotlib->catboost) (0.11.0)\n",
            "Requirement already satisfied: fonttools>=4.22.0 in /usr/local/lib/python3.10/dist-packages (from matplotlib->catboost) (4.41.0)\n",
            "Requirement already satisfied: kiwisolver>=1.0.1 in /usr/local/lib/python3.10/dist-packages (from matplotlib->catboost) (1.4.4)\n",
            "Requirement already satisfied: packaging>=20.0 in /usr/local/lib/python3.10/dist-packages (from matplotlib->catboost) (23.1)\n",
            "Requirement already satisfied: pillow>=6.2.0 in /usr/local/lib/python3.10/dist-packages (from matplotlib->catboost) (8.4.0)\n",
            "Requirement already satisfied: pyparsing>=2.3.1 in /usr/local/lib/python3.10/dist-packages (from matplotlib->catboost) (3.1.0)\n",
            "Requirement already satisfied: tenacity>=6.2.0 in /usr/local/lib/python3.10/dist-packages (from plotly->catboost) (8.2.2)\n",
            "Installing collected packages: catboost\n",
            "Successfully installed catboost-1.2\n"
          ]
        }
      ]
    },
    {
      "cell_type": "markdown",
      "source": [
        "Training the CatBoost Regression model on the Training set"
      ],
      "metadata": {
        "id": "Qav4oBsypFxS"
      }
    },
    {
      "cell_type": "code",
      "source": [
        "from catboost import CatBoostRegressor\n",
        "regressor_cb = CatBoostRegressor()\n",
        "regressor_cb.fit(X_train, y_train)"
      ],
      "metadata": {
        "colab": {
          "base_uri": "https://localhost:8080/"
        },
        "id": "2uNoMaQjpF9R",
        "outputId": "1fd3046c-c6e4-4a5c-8e8d-f01c1c9ea4b1"
      },
      "execution_count": 28,
      "outputs": [
        {
          "output_type": "stream",
          "name": "stdout",
          "text": [
            "Learning rate set to 0.034214\n",
            "0:\tlearn: 284.1055873\ttotal: 51.1ms\tremaining: 51s\n",
            "1:\tlearn: 278.5935783\ttotal: 51.7ms\tremaining: 25.8s\n",
            "2:\tlearn: 273.3744487\ttotal: 52.2ms\tremaining: 17.4s\n",
            "3:\tlearn: 268.8266114\ttotal: 52.6ms\tremaining: 13.1s\n",
            "4:\tlearn: 264.2770364\ttotal: 53.1ms\tremaining: 10.6s\n",
            "5:\tlearn: 260.7089206\ttotal: 54.6ms\tremaining: 9.04s\n",
            "6:\tlearn: 256.1362090\ttotal: 55.4ms\tremaining: 7.86s\n",
            "7:\tlearn: 251.5871896\ttotal: 56.2ms\tremaining: 6.97s\n",
            "8:\tlearn: 247.4928918\ttotal: 57.3ms\tremaining: 6.31s\n",
            "9:\tlearn: 243.5232260\ttotal: 58.3ms\tremaining: 5.77s\n",
            "10:\tlearn: 239.2959325\ttotal: 59.2ms\tremaining: 5.33s\n",
            "11:\tlearn: 235.4198282\ttotal: 60.1ms\tremaining: 4.95s\n",
            "12:\tlearn: 231.4558334\ttotal: 61.2ms\tremaining: 4.65s\n",
            "13:\tlearn: 227.5443991\ttotal: 62.3ms\tremaining: 4.38s\n",
            "14:\tlearn: 223.7470204\ttotal: 63.3ms\tremaining: 4.16s\n",
            "15:\tlearn: 219.9096768\ttotal: 64.4ms\tremaining: 3.96s\n",
            "16:\tlearn: 217.2887974\ttotal: 65.1ms\tremaining: 3.77s\n",
            "17:\tlearn: 214.1675301\ttotal: 65.7ms\tremaining: 3.58s\n",
            "18:\tlearn: 211.1549967\ttotal: 66.4ms\tremaining: 3.43s\n",
            "19:\tlearn: 207.8528556\ttotal: 67.2ms\tremaining: 3.29s\n",
            "20:\tlearn: 204.9813917\ttotal: 68.4ms\tremaining: 3.19s\n",
            "21:\tlearn: 202.2292173\ttotal: 69.3ms\tremaining: 3.08s\n",
            "22:\tlearn: 200.4131295\ttotal: 69.8ms\tremaining: 2.97s\n",
            "23:\tlearn: 197.5258073\ttotal: 70.5ms\tremaining: 2.87s\n",
            "24:\tlearn: 194.8735868\ttotal: 71.8ms\tremaining: 2.8s\n",
            "25:\tlearn: 192.6096275\ttotal: 72.9ms\tremaining: 2.73s\n",
            "26:\tlearn: 189.7791532\ttotal: 74ms\tremaining: 2.67s\n",
            "27:\tlearn: 187.4155621\ttotal: 75ms\tremaining: 2.6s\n",
            "28:\tlearn: 185.0468723\ttotal: 75.9ms\tremaining: 2.54s\n",
            "29:\tlearn: 183.0201498\ttotal: 77ms\tremaining: 2.49s\n",
            "30:\tlearn: 180.9150808\ttotal: 78.1ms\tremaining: 2.44s\n",
            "31:\tlearn: 178.4840018\ttotal: 81.9ms\tremaining: 2.48s\n",
            "32:\tlearn: 176.1403428\ttotal: 82.9ms\tremaining: 2.43s\n",
            "33:\tlearn: 173.9671162\ttotal: 84ms\tremaining: 2.38s\n",
            "34:\tlearn: 171.8537259\ttotal: 84.9ms\tremaining: 2.34s\n",
            "35:\tlearn: 169.7150120\ttotal: 85.8ms\tremaining: 2.3s\n",
            "36:\tlearn: 168.0631850\ttotal: 86.9ms\tremaining: 2.26s\n",
            "37:\tlearn: 166.1209422\ttotal: 89.3ms\tremaining: 2.26s\n",
            "38:\tlearn: 164.5747267\ttotal: 90ms\tremaining: 2.22s\n",
            "39:\tlearn: 162.4790415\ttotal: 91.1ms\tremaining: 2.19s\n",
            "40:\tlearn: 160.9377907\ttotal: 92.1ms\tremaining: 2.15s\n",
            "41:\tlearn: 159.0463360\ttotal: 93.1ms\tremaining: 2.12s\n",
            "42:\tlearn: 157.5017855\ttotal: 94.1ms\tremaining: 2.1s\n",
            "43:\tlearn: 155.7879481\ttotal: 95.2ms\tremaining: 2.07s\n",
            "44:\tlearn: 154.3594808\ttotal: 96.2ms\tremaining: 2.04s\n",
            "45:\tlearn: 152.9377482\ttotal: 97.2ms\tremaining: 2.02s\n",
            "46:\tlearn: 151.2835614\ttotal: 98.2ms\tremaining: 1.99s\n",
            "47:\tlearn: 149.7275903\ttotal: 99.3ms\tremaining: 1.97s\n",
            "48:\tlearn: 148.4318752\ttotal: 100ms\tremaining: 1.95s\n",
            "49:\tlearn: 146.8472972\ttotal: 101ms\tremaining: 1.93s\n",
            "50:\tlearn: 145.2677680\ttotal: 103ms\tremaining: 1.91s\n",
            "51:\tlearn: 144.0855201\ttotal: 104ms\tremaining: 1.89s\n",
            "52:\tlearn: 142.8507308\ttotal: 105ms\tremaining: 1.87s\n",
            "53:\tlearn: 141.7464074\ttotal: 106ms\tremaining: 1.86s\n",
            "54:\tlearn: 140.5441535\ttotal: 107ms\tremaining: 1.84s\n",
            "55:\tlearn: 139.3552507\ttotal: 108ms\tremaining: 1.82s\n",
            "56:\tlearn: 138.1553896\ttotal: 109ms\tremaining: 1.81s\n",
            "57:\tlearn: 136.9790198\ttotal: 110ms\tremaining: 1.79s\n",
            "58:\tlearn: 135.9224773\ttotal: 111ms\tremaining: 1.78s\n",
            "59:\tlearn: 134.9130185\ttotal: 113ms\tremaining: 1.76s\n",
            "60:\tlearn: 133.9635168\ttotal: 114ms\tremaining: 1.75s\n",
            "61:\tlearn: 132.9288255\ttotal: 115ms\tremaining: 1.74s\n",
            "62:\tlearn: 132.0225884\ttotal: 116ms\tremaining: 1.72s\n",
            "63:\tlearn: 130.9716651\ttotal: 117ms\tremaining: 1.71s\n",
            "64:\tlearn: 129.9297563\ttotal: 118ms\tremaining: 1.69s\n",
            "65:\tlearn: 128.7832862\ttotal: 119ms\tremaining: 1.68s\n",
            "66:\tlearn: 127.8045221\ttotal: 123ms\tremaining: 1.72s\n",
            "67:\tlearn: 126.9196482\ttotal: 124ms\tremaining: 1.7s\n",
            "68:\tlearn: 125.9527472\ttotal: 125ms\tremaining: 1.69s\n",
            "69:\tlearn: 125.0762658\ttotal: 127ms\tremaining: 1.69s\n",
            "70:\tlearn: 124.2539966\ttotal: 128ms\tremaining: 1.68s\n",
            "71:\tlearn: 123.5927658\ttotal: 129ms\tremaining: 1.67s\n",
            "72:\tlearn: 122.7243062\ttotal: 130ms\tremaining: 1.66s\n",
            "73:\tlearn: 121.6151832\ttotal: 131ms\tremaining: 1.64s\n",
            "74:\tlearn: 120.9792368\ttotal: 132ms\tremaining: 1.63s\n",
            "75:\tlearn: 120.1749762\ttotal: 133ms\tremaining: 1.62s\n",
            "76:\tlearn: 119.5396319\ttotal: 134ms\tremaining: 1.61s\n",
            "77:\tlearn: 118.7041335\ttotal: 135ms\tremaining: 1.6s\n",
            "78:\tlearn: 117.9636535\ttotal: 136ms\tremaining: 1.59s\n",
            "79:\tlearn: 117.2353609\ttotal: 138ms\tremaining: 1.58s\n",
            "80:\tlearn: 116.4939744\ttotal: 138ms\tremaining: 1.57s\n",
            "81:\tlearn: 115.7833926\ttotal: 139ms\tremaining: 1.56s\n",
            "82:\tlearn: 115.2486788\ttotal: 140ms\tremaining: 1.55s\n",
            "83:\tlearn: 114.3246370\ttotal: 141ms\tremaining: 1.54s\n",
            "84:\tlearn: 113.7074223\ttotal: 142ms\tremaining: 1.53s\n",
            "85:\tlearn: 113.3492351\ttotal: 143ms\tremaining: 1.52s\n",
            "86:\tlearn: 112.8108357\ttotal: 144ms\tremaining: 1.51s\n",
            "87:\tlearn: 112.3420855\ttotal: 145ms\tremaining: 1.5s\n",
            "88:\tlearn: 111.6015962\ttotal: 146ms\tremaining: 1.49s\n",
            "89:\tlearn: 110.8208282\ttotal: 147ms\tremaining: 1.48s\n",
            "90:\tlearn: 110.3887706\ttotal: 148ms\tremaining: 1.48s\n",
            "91:\tlearn: 109.6937730\ttotal: 149ms\tremaining: 1.47s\n",
            "92:\tlearn: 108.9124435\ttotal: 150ms\tremaining: 1.46s\n",
            "93:\tlearn: 108.2647159\ttotal: 151ms\tremaining: 1.45s\n",
            "94:\tlearn: 107.5387649\ttotal: 152ms\tremaining: 1.44s\n",
            "95:\tlearn: 107.0408156\ttotal: 152ms\tremaining: 1.44s\n",
            "96:\tlearn: 106.4531735\ttotal: 153ms\tremaining: 1.43s\n",
            "97:\tlearn: 105.9933163\ttotal: 155ms\tremaining: 1.43s\n",
            "98:\tlearn: 105.4850192\ttotal: 156ms\tremaining: 1.42s\n",
            "99:\tlearn: 105.1204754\ttotal: 157ms\tremaining: 1.41s\n",
            "100:\tlearn: 104.7524868\ttotal: 158ms\tremaining: 1.4s\n",
            "101:\tlearn: 104.0397834\ttotal: 158ms\tremaining: 1.4s\n",
            "102:\tlearn: 103.5984233\ttotal: 159ms\tremaining: 1.39s\n",
            "103:\tlearn: 103.2323283\ttotal: 160ms\tremaining: 1.38s\n",
            "104:\tlearn: 102.6975488\ttotal: 161ms\tremaining: 1.37s\n",
            "105:\tlearn: 102.2645351\ttotal: 162ms\tremaining: 1.37s\n",
            "106:\tlearn: 101.7600966\ttotal: 163ms\tremaining: 1.36s\n",
            "107:\tlearn: 101.3491201\ttotal: 164ms\tremaining: 1.35s\n",
            "108:\tlearn: 100.9530315\ttotal: 165ms\tremaining: 1.35s\n",
            "109:\tlearn: 100.6156411\ttotal: 166ms\tremaining: 1.34s\n",
            "110:\tlearn: 100.1656616\ttotal: 167ms\tremaining: 1.33s\n",
            "111:\tlearn: 99.8461526\ttotal: 168ms\tremaining: 1.33s\n",
            "112:\tlearn: 99.3089451\ttotal: 169ms\tremaining: 1.32s\n",
            "113:\tlearn: 99.0244356\ttotal: 170ms\tremaining: 1.32s\n",
            "114:\tlearn: 98.6190005\ttotal: 170ms\tremaining: 1.31s\n",
            "115:\tlearn: 98.1474962\ttotal: 171ms\tremaining: 1.3s\n",
            "116:\tlearn: 97.8955884\ttotal: 172ms\tremaining: 1.3s\n",
            "117:\tlearn: 97.5225882\ttotal: 173ms\tremaining: 1.29s\n",
            "118:\tlearn: 97.3147710\ttotal: 174ms\tremaining: 1.29s\n",
            "119:\tlearn: 96.9705352\ttotal: 175ms\tremaining: 1.28s\n",
            "120:\tlearn: 96.6074792\ttotal: 188ms\tremaining: 1.36s\n",
            "121:\tlearn: 96.2379449\ttotal: 189ms\tremaining: 1.36s\n",
            "122:\tlearn: 96.0747826\ttotal: 190ms\tremaining: 1.35s\n",
            "123:\tlearn: 95.7683486\ttotal: 191ms\tremaining: 1.35s\n",
            "124:\tlearn: 95.4460097\ttotal: 192ms\tremaining: 1.34s\n",
            "125:\tlearn: 94.9860080\ttotal: 193ms\tremaining: 1.34s\n",
            "126:\tlearn: 94.5921430\ttotal: 194ms\tremaining: 1.33s\n",
            "127:\tlearn: 94.1130145\ttotal: 195ms\tremaining: 1.33s\n",
            "128:\tlearn: 93.7496925\ttotal: 196ms\tremaining: 1.32s\n",
            "129:\tlearn: 93.4079918\ttotal: 197ms\tremaining: 1.32s\n",
            "130:\tlearn: 93.0829123\ttotal: 198ms\tremaining: 1.31s\n",
            "131:\tlearn: 92.7165368\ttotal: 199ms\tremaining: 1.3s\n",
            "132:\tlearn: 92.3940098\ttotal: 200ms\tremaining: 1.3s\n",
            "133:\tlearn: 92.0304312\ttotal: 200ms\tremaining: 1.29s\n",
            "134:\tlearn: 91.6620195\ttotal: 201ms\tremaining: 1.29s\n",
            "135:\tlearn: 91.2770952\ttotal: 203ms\tremaining: 1.29s\n",
            "136:\tlearn: 91.0232888\ttotal: 203ms\tremaining: 1.28s\n",
            "137:\tlearn: 90.7690341\ttotal: 204ms\tremaining: 1.28s\n",
            "138:\tlearn: 90.3529785\ttotal: 205ms\tremaining: 1.27s\n",
            "139:\tlearn: 89.9841515\ttotal: 206ms\tremaining: 1.27s\n",
            "140:\tlearn: 89.6487566\ttotal: 207ms\tremaining: 1.26s\n",
            "141:\tlearn: 89.4473638\ttotal: 208ms\tremaining: 1.26s\n",
            "142:\tlearn: 89.3427664\ttotal: 209ms\tremaining: 1.25s\n",
            "143:\tlearn: 89.2335880\ttotal: 210ms\tremaining: 1.25s\n",
            "144:\tlearn: 89.0424668\ttotal: 211ms\tremaining: 1.24s\n",
            "145:\tlearn: 88.9444511\ttotal: 211ms\tremaining: 1.24s\n",
            "146:\tlearn: 88.6644308\ttotal: 212ms\tremaining: 1.23s\n",
            "147:\tlearn: 88.4553949\ttotal: 213ms\tremaining: 1.23s\n",
            "148:\tlearn: 88.1591930\ttotal: 214ms\tremaining: 1.22s\n",
            "149:\tlearn: 87.8526260\ttotal: 215ms\tremaining: 1.22s\n",
            "150:\tlearn: 87.6239148\ttotal: 216ms\tremaining: 1.21s\n",
            "151:\tlearn: 87.4246021\ttotal: 217ms\tremaining: 1.21s\n",
            "152:\tlearn: 87.2131157\ttotal: 218ms\tremaining: 1.21s\n",
            "153:\tlearn: 87.0691749\ttotal: 220ms\tremaining: 1.21s\n",
            "154:\tlearn: 86.6892944\ttotal: 221ms\tremaining: 1.2s\n",
            "155:\tlearn: 86.4128328\ttotal: 222ms\tremaining: 1.2s\n",
            "156:\tlearn: 86.1144738\ttotal: 223ms\tremaining: 1.2s\n",
            "157:\tlearn: 85.9180860\ttotal: 228ms\tremaining: 1.21s\n",
            "158:\tlearn: 85.6607975\ttotal: 230ms\tremaining: 1.21s\n",
            "159:\tlearn: 85.4283970\ttotal: 232ms\tremaining: 1.22s\n",
            "160:\tlearn: 85.2981745\ttotal: 245ms\tremaining: 1.28s\n",
            "161:\tlearn: 85.0156463\ttotal: 251ms\tremaining: 1.3s\n",
            "162:\tlearn: 84.7589340\ttotal: 251ms\tremaining: 1.29s\n",
            "163:\tlearn: 84.6108077\ttotal: 253ms\tremaining: 1.29s\n",
            "164:\tlearn: 84.3429472\ttotal: 253ms\tremaining: 1.28s\n",
            "165:\tlearn: 84.0242836\ttotal: 254ms\tremaining: 1.28s\n",
            "166:\tlearn: 83.8817253\ttotal: 255ms\tremaining: 1.27s\n",
            "167:\tlearn: 83.6194375\ttotal: 256ms\tremaining: 1.27s\n",
            "168:\tlearn: 83.4254287\ttotal: 257ms\tremaining: 1.26s\n",
            "169:\tlearn: 83.2711857\ttotal: 258ms\tremaining: 1.26s\n",
            "170:\tlearn: 83.0574379\ttotal: 259ms\tremaining: 1.25s\n",
            "171:\tlearn: 82.9296507\ttotal: 260ms\tremaining: 1.25s\n",
            "172:\tlearn: 82.6460905\ttotal: 261ms\tremaining: 1.25s\n",
            "173:\tlearn: 82.3177585\ttotal: 262ms\tremaining: 1.24s\n",
            "174:\tlearn: 82.2243759\ttotal: 263ms\tremaining: 1.24s\n",
            "175:\tlearn: 82.0590355\ttotal: 263ms\tremaining: 1.23s\n",
            "176:\tlearn: 81.9128944\ttotal: 265ms\tremaining: 1.23s\n",
            "177:\tlearn: 81.6858629\ttotal: 266ms\tremaining: 1.23s\n",
            "178:\tlearn: 81.4276636\ttotal: 267ms\tremaining: 1.22s\n",
            "179:\tlearn: 81.3190068\ttotal: 268ms\tremaining: 1.22s\n",
            "180:\tlearn: 81.1785590\ttotal: 269ms\tremaining: 1.22s\n",
            "181:\tlearn: 80.9398181\ttotal: 270ms\tremaining: 1.21s\n",
            "182:\tlearn: 80.6522373\ttotal: 271ms\tremaining: 1.21s\n",
            "183:\tlearn: 80.1755180\ttotal: 272ms\tremaining: 1.21s\n",
            "184:\tlearn: 79.9582693\ttotal: 273ms\tremaining: 1.2s\n",
            "185:\tlearn: 79.8222476\ttotal: 275ms\tremaining: 1.2s\n",
            "186:\tlearn: 79.7153179\ttotal: 276ms\tremaining: 1.2s\n",
            "187:\tlearn: 79.5890106\ttotal: 277ms\tremaining: 1.2s\n",
            "188:\tlearn: 79.3746152\ttotal: 278ms\tremaining: 1.19s\n",
            "189:\tlearn: 79.0928530\ttotal: 280ms\tremaining: 1.19s\n",
            "190:\tlearn: 78.6275338\ttotal: 285ms\tremaining: 1.21s\n",
            "191:\tlearn: 78.4068877\ttotal: 287ms\tremaining: 1.21s\n",
            "192:\tlearn: 78.1010189\ttotal: 288ms\tremaining: 1.2s\n",
            "193:\tlearn: 77.9756183\ttotal: 288ms\tremaining: 1.2s\n",
            "194:\tlearn: 77.8338515\ttotal: 289ms\tremaining: 1.19s\n",
            "195:\tlearn: 77.6452460\ttotal: 290ms\tremaining: 1.19s\n",
            "196:\tlearn: 77.5325623\ttotal: 292ms\tremaining: 1.19s\n",
            "197:\tlearn: 77.3295264\ttotal: 294ms\tremaining: 1.19s\n",
            "198:\tlearn: 77.2166386\ttotal: 295ms\tremaining: 1.19s\n",
            "199:\tlearn: 77.1115718\ttotal: 299ms\tremaining: 1.19s\n",
            "200:\tlearn: 77.0026932\ttotal: 299ms\tremaining: 1.19s\n",
            "201:\tlearn: 76.8390455\ttotal: 300ms\tremaining: 1.19s\n",
            "202:\tlearn: 76.4903254\ttotal: 301ms\tremaining: 1.18s\n",
            "203:\tlearn: 76.2650677\ttotal: 302ms\tremaining: 1.18s\n",
            "204:\tlearn: 76.1462800\ttotal: 303ms\tremaining: 1.18s\n",
            "205:\tlearn: 75.9109578\ttotal: 304ms\tremaining: 1.17s\n",
            "206:\tlearn: 75.7958589\ttotal: 305ms\tremaining: 1.17s\n",
            "207:\tlearn: 75.7112199\ttotal: 306ms\tremaining: 1.17s\n",
            "208:\tlearn: 75.4956873\ttotal: 307ms\tremaining: 1.16s\n",
            "209:\tlearn: 75.1133280\ttotal: 308ms\tremaining: 1.16s\n",
            "210:\tlearn: 75.0133422\ttotal: 309ms\tremaining: 1.16s\n",
            "211:\tlearn: 74.6779808\ttotal: 316ms\tremaining: 1.18s\n",
            "212:\tlearn: 74.5067517\ttotal: 318ms\tremaining: 1.17s\n",
            "213:\tlearn: 74.3992180\ttotal: 318ms\tremaining: 1.17s\n",
            "214:\tlearn: 74.2031960\ttotal: 319ms\tremaining: 1.17s\n",
            "215:\tlearn: 74.1215246\ttotal: 320ms\tremaining: 1.16s\n",
            "216:\tlearn: 73.9582530\ttotal: 321ms\tremaining: 1.16s\n",
            "217:\tlearn: 73.8717087\ttotal: 322ms\tremaining: 1.16s\n",
            "218:\tlearn: 73.7743734\ttotal: 323ms\tremaining: 1.15s\n",
            "219:\tlearn: 73.6481448\ttotal: 324ms\tremaining: 1.15s\n",
            "220:\tlearn: 73.5636250\ttotal: 325ms\tremaining: 1.15s\n",
            "221:\tlearn: 73.4667305\ttotal: 326ms\tremaining: 1.14s\n",
            "222:\tlearn: 73.1778236\ttotal: 333ms\tremaining: 1.16s\n",
            "223:\tlearn: 73.1165696\ttotal: 334ms\tremaining: 1.16s\n",
            "224:\tlearn: 72.9653770\ttotal: 335ms\tremaining: 1.15s\n",
            "225:\tlearn: 72.8745672\ttotal: 336ms\tremaining: 1.15s\n",
            "226:\tlearn: 72.7511324\ttotal: 337ms\tremaining: 1.15s\n",
            "227:\tlearn: 72.3116634\ttotal: 338ms\tremaining: 1.14s\n",
            "228:\tlearn: 72.2389729\ttotal: 339ms\tremaining: 1.14s\n",
            "229:\tlearn: 72.0434580\ttotal: 340ms\tremaining: 1.14s\n",
            "230:\tlearn: 71.8690522\ttotal: 341ms\tremaining: 1.13s\n",
            "231:\tlearn: 71.5475182\ttotal: 341ms\tremaining: 1.13s\n",
            "232:\tlearn: 71.3112793\ttotal: 341ms\tremaining: 1.12s\n",
            "233:\tlearn: 71.1803914\ttotal: 342ms\tremaining: 1.12s\n",
            "234:\tlearn: 70.9545696\ttotal: 342ms\tremaining: 1.11s\n",
            "235:\tlearn: 70.6635791\ttotal: 343ms\tremaining: 1.11s\n",
            "236:\tlearn: 70.5801134\ttotal: 343ms\tremaining: 1.1s\n",
            "237:\tlearn: 70.4986649\ttotal: 343ms\tremaining: 1.1s\n",
            "238:\tlearn: 70.3111475\ttotal: 344ms\tremaining: 1.09s\n",
            "239:\tlearn: 70.1970664\ttotal: 344ms\tremaining: 1.09s\n",
            "240:\tlearn: 70.0523905\ttotal: 344ms\tremaining: 1.08s\n",
            "241:\tlearn: 69.9294945\ttotal: 345ms\tremaining: 1.08s\n",
            "242:\tlearn: 69.8140762\ttotal: 345ms\tremaining: 1.07s\n",
            "243:\tlearn: 69.5310356\ttotal: 345ms\tremaining: 1.07s\n",
            "244:\tlearn: 69.4197014\ttotal: 346ms\tremaining: 1.06s\n",
            "245:\tlearn: 69.3162753\ttotal: 346ms\tremaining: 1.06s\n",
            "246:\tlearn: 69.0636805\ttotal: 346ms\tremaining: 1.05s\n",
            "247:\tlearn: 68.9812809\ttotal: 347ms\tremaining: 1.05s\n",
            "248:\tlearn: 68.9120340\ttotal: 347ms\tremaining: 1.05s\n",
            "249:\tlearn: 68.8426033\ttotal: 348ms\tremaining: 1.04s\n",
            "250:\tlearn: 68.7343496\ttotal: 348ms\tremaining: 1.04s\n",
            "251:\tlearn: 68.6045433\ttotal: 348ms\tremaining: 1.03s\n",
            "252:\tlearn: 68.3319775\ttotal: 349ms\tremaining: 1.03s\n",
            "253:\tlearn: 68.1505152\ttotal: 349ms\tremaining: 1.02s\n",
            "254:\tlearn: 67.9804323\ttotal: 349ms\tremaining: 1.02s\n",
            "255:\tlearn: 67.8897152\ttotal: 350ms\tremaining: 1.01s\n",
            "256:\tlearn: 67.7898800\ttotal: 350ms\tremaining: 1.01s\n",
            "257:\tlearn: 67.6335482\ttotal: 351ms\tremaining: 1.01s\n",
            "258:\tlearn: 67.5536270\ttotal: 351ms\tremaining: 1s\n",
            "259:\tlearn: 67.4571419\ttotal: 352ms\tremaining: 1s\n",
            "260:\tlearn: 67.3131810\ttotal: 352ms\tremaining: 997ms\n",
            "261:\tlearn: 67.1431338\ttotal: 352ms\tremaining: 993ms\n",
            "262:\tlearn: 67.0038529\ttotal: 353ms\tremaining: 989ms\n",
            "263:\tlearn: 66.9129690\ttotal: 353ms\tremaining: 984ms\n",
            "264:\tlearn: 66.7507860\ttotal: 353ms\tremaining: 980ms\n",
            "265:\tlearn: 66.6607622\ttotal: 354ms\tremaining: 976ms\n",
            "266:\tlearn: 66.5736602\ttotal: 354ms\tremaining: 972ms\n",
            "267:\tlearn: 66.4700207\ttotal: 354ms\tremaining: 968ms\n",
            "268:\tlearn: 66.4070032\ttotal: 355ms\tremaining: 964ms\n",
            "269:\tlearn: 66.2982342\ttotal: 355ms\tremaining: 960ms\n",
            "270:\tlearn: 66.1313834\ttotal: 355ms\tremaining: 956ms\n",
            "271:\tlearn: 66.0812281\ttotal: 356ms\tremaining: 952ms\n",
            "272:\tlearn: 65.9987101\ttotal: 356ms\tremaining: 948ms\n",
            "273:\tlearn: 65.9188738\ttotal: 356ms\tremaining: 944ms\n",
            "274:\tlearn: 65.8396895\ttotal: 357ms\tremaining: 941ms\n",
            "275:\tlearn: 65.6007306\ttotal: 357ms\tremaining: 937ms\n",
            "276:\tlearn: 65.5251552\ttotal: 358ms\tremaining: 934ms\n",
            "277:\tlearn: 65.4413467\ttotal: 358ms\tremaining: 930ms\n",
            "278:\tlearn: 65.3658542\ttotal: 358ms\tremaining: 926ms\n",
            "279:\tlearn: 65.2259116\ttotal: 359ms\tremaining: 922ms\n",
            "280:\tlearn: 65.1441554\ttotal: 359ms\tremaining: 919ms\n",
            "281:\tlearn: 65.0051805\ttotal: 360ms\tremaining: 915ms\n",
            "282:\tlearn: 64.7824844\ttotal: 360ms\tremaining: 912ms\n",
            "283:\tlearn: 64.7273673\ttotal: 360ms\tremaining: 908ms\n",
            "284:\tlearn: 64.6243831\ttotal: 361ms\tremaining: 905ms\n",
            "285:\tlearn: 64.5043444\ttotal: 361ms\tremaining: 901ms\n",
            "286:\tlearn: 64.4268385\ttotal: 361ms\tremaining: 897ms\n",
            "287:\tlearn: 64.2147692\ttotal: 362ms\tremaining: 894ms\n",
            "288:\tlearn: 64.0647342\ttotal: 362ms\tremaining: 890ms\n",
            "289:\tlearn: 63.9443802\ttotal: 362ms\tremaining: 887ms\n",
            "290:\tlearn: 63.7146431\ttotal: 362ms\tremaining: 883ms\n",
            "291:\tlearn: 63.6462550\ttotal: 363ms\tremaining: 880ms\n",
            "292:\tlearn: 63.5511034\ttotal: 363ms\tremaining: 877ms\n",
            "293:\tlearn: 63.4848691\ttotal: 364ms\tremaining: 874ms\n",
            "294:\tlearn: 63.4335543\ttotal: 364ms\tremaining: 870ms\n",
            "295:\tlearn: 63.3916087\ttotal: 365ms\tremaining: 867ms\n",
            "296:\tlearn: 63.2924208\ttotal: 365ms\tremaining: 864ms\n",
            "297:\tlearn: 63.2424365\ttotal: 365ms\tremaining: 861ms\n",
            "298:\tlearn: 63.1333307\ttotal: 366ms\tremaining: 857ms\n",
            "299:\tlearn: 62.9812551\ttotal: 366ms\tremaining: 854ms\n",
            "300:\tlearn: 62.9145507\ttotal: 373ms\tremaining: 866ms\n",
            "301:\tlearn: 62.7939470\ttotal: 373ms\tremaining: 863ms\n",
            "302:\tlearn: 62.6579823\ttotal: 374ms\tremaining: 860ms\n",
            "303:\tlearn: 62.5813511\ttotal: 374ms\tremaining: 856ms\n",
            "304:\tlearn: 62.5187604\ttotal: 374ms\tremaining: 853ms\n",
            "305:\tlearn: 62.4117334\ttotal: 375ms\tremaining: 850ms\n",
            "306:\tlearn: 62.2972649\ttotal: 375ms\tremaining: 846ms\n",
            "307:\tlearn: 62.1881184\ttotal: 375ms\tremaining: 843ms\n",
            "308:\tlearn: 61.9851532\ttotal: 376ms\tremaining: 840ms\n",
            "309:\tlearn: 61.7982271\ttotal: 376ms\tremaining: 837ms\n",
            "310:\tlearn: 61.6454741\ttotal: 376ms\tremaining: 834ms\n",
            "311:\tlearn: 61.5685641\ttotal: 377ms\tremaining: 830ms\n",
            "312:\tlearn: 61.4366009\ttotal: 377ms\tremaining: 827ms\n",
            "313:\tlearn: 61.3084836\ttotal: 377ms\tremaining: 824ms\n",
            "314:\tlearn: 61.2645394\ttotal: 378ms\tremaining: 821ms\n",
            "315:\tlearn: 61.1776115\ttotal: 378ms\tremaining: 818ms\n",
            "316:\tlearn: 61.1299791\ttotal: 380ms\tremaining: 819ms\n",
            "317:\tlearn: 60.8809875\ttotal: 380ms\tremaining: 816ms\n",
            "318:\tlearn: 60.8137042\ttotal: 381ms\tremaining: 812ms\n",
            "319:\tlearn: 60.7485234\ttotal: 385ms\tremaining: 819ms\n",
            "320:\tlearn: 60.6853660\ttotal: 386ms\tremaining: 816ms\n",
            "321:\tlearn: 60.6241565\ttotal: 386ms\tremaining: 813ms\n",
            "322:\tlearn: 60.5331150\ttotal: 387ms\tremaining: 810ms\n",
            "323:\tlearn: 60.4740989\ttotal: 387ms\tremaining: 808ms\n",
            "324:\tlearn: 60.3845024\ttotal: 388ms\tremaining: 805ms\n",
            "325:\tlearn: 60.3521163\ttotal: 388ms\tremaining: 802ms\n",
            "326:\tlearn: 60.3015215\ttotal: 389ms\tremaining: 802ms\n",
            "327:\tlearn: 60.2498751\ttotal: 390ms\tremaining: 799ms\n",
            "328:\tlearn: 60.1467880\ttotal: 390ms\tremaining: 796ms\n",
            "329:\tlearn: 59.9723083\ttotal: 390ms\tremaining: 793ms\n",
            "330:\tlearn: 59.8515726\ttotal: 391ms\tremaining: 790ms\n",
            "331:\tlearn: 59.7960672\ttotal: 391ms\tremaining: 787ms\n",
            "332:\tlearn: 59.7428704\ttotal: 397ms\tremaining: 794ms\n",
            "333:\tlearn: 59.7171613\ttotal: 397ms\tremaining: 791ms\n",
            "334:\tlearn: 59.6763507\ttotal: 397ms\tremaining: 788ms\n",
            "335:\tlearn: 59.6366049\ttotal: 398ms\tremaining: 786ms\n",
            "336:\tlearn: 59.5313481\ttotal: 398ms\tremaining: 783ms\n",
            "337:\tlearn: 59.4783124\ttotal: 398ms\tremaining: 780ms\n",
            "338:\tlearn: 59.3621872\ttotal: 403ms\tremaining: 787ms\n",
            "339:\tlearn: 59.3285450\ttotal: 404ms\tremaining: 784ms\n",
            "340:\tlearn: 59.2767039\ttotal: 404ms\tremaining: 781ms\n",
            "341:\tlearn: 59.1791668\ttotal: 404ms\tremaining: 778ms\n",
            "342:\tlearn: 59.1170254\ttotal: 405ms\tremaining: 775ms\n",
            "343:\tlearn: 58.9322174\ttotal: 405ms\tremaining: 772ms\n",
            "344:\tlearn: 58.8945109\ttotal: 405ms\tremaining: 770ms\n",
            "345:\tlearn: 58.8298392\ttotal: 406ms\tremaining: 767ms\n",
            "346:\tlearn: 58.7363504\ttotal: 406ms\tremaining: 764ms\n",
            "347:\tlearn: 58.7007065\ttotal: 406ms\tremaining: 761ms\n",
            "348:\tlearn: 58.6510738\ttotal: 407ms\tremaining: 759ms\n",
            "349:\tlearn: 58.6017882\ttotal: 407ms\tremaining: 756ms\n",
            "350:\tlearn: 58.5758710\ttotal: 407ms\tremaining: 753ms\n",
            "351:\tlearn: 58.5220505\ttotal: 408ms\tremaining: 750ms\n",
            "352:\tlearn: 58.4602165\ttotal: 410ms\tremaining: 752ms\n",
            "353:\tlearn: 58.4332014\ttotal: 411ms\tremaining: 750ms\n",
            "354:\tlearn: 58.3306601\ttotal: 412ms\tremaining: 748ms\n",
            "355:\tlearn: 58.3024470\ttotal: 412ms\tremaining: 746ms\n",
            "356:\tlearn: 58.2683083\ttotal: 413ms\tremaining: 744ms\n",
            "357:\tlearn: 58.1319233\ttotal: 414ms\tremaining: 742ms\n",
            "358:\tlearn: 57.9288111\ttotal: 415ms\tremaining: 741ms\n",
            "359:\tlearn: 57.8756275\ttotal: 416ms\tremaining: 740ms\n",
            "360:\tlearn: 57.6658807\ttotal: 417ms\tremaining: 739ms\n",
            "361:\tlearn: 57.5195403\ttotal: 419ms\tremaining: 739ms\n",
            "362:\tlearn: 57.4833353\ttotal: 421ms\tremaining: 739ms\n",
            "363:\tlearn: 57.4362727\ttotal: 424ms\tremaining: 741ms\n",
            "364:\tlearn: 57.2865760\ttotal: 426ms\tremaining: 741ms\n",
            "365:\tlearn: 57.2422812\ttotal: 427ms\tremaining: 739ms\n",
            "366:\tlearn: 57.1840794\ttotal: 428ms\tremaining: 738ms\n",
            "367:\tlearn: 57.0635233\ttotal: 429ms\tremaining: 738ms\n",
            "368:\tlearn: 56.9099411\ttotal: 435ms\tremaining: 744ms\n",
            "369:\tlearn: 56.8753469\ttotal: 436ms\tremaining: 742ms\n",
            "370:\tlearn: 56.7858885\ttotal: 437ms\tremaining: 740ms\n",
            "371:\tlearn: 56.7432948\ttotal: 437ms\tremaining: 738ms\n",
            "372:\tlearn: 56.7017838\ttotal: 438ms\tremaining: 736ms\n",
            "373:\tlearn: 56.6287242\ttotal: 439ms\tremaining: 735ms\n",
            "374:\tlearn: 56.5240481\ttotal: 440ms\tremaining: 734ms\n",
            "375:\tlearn: 56.4837930\ttotal: 441ms\tremaining: 733ms\n",
            "376:\tlearn: 56.3065132\ttotal: 443ms\tremaining: 731ms\n",
            "377:\tlearn: 56.1664115\ttotal: 452ms\tremaining: 743ms\n",
            "378:\tlearn: 56.1167337\ttotal: 452ms\tremaining: 741ms\n",
            "379:\tlearn: 56.0559911\ttotal: 459ms\tremaining: 750ms\n",
            "380:\tlearn: 55.9728027\ttotal: 460ms\tremaining: 748ms\n",
            "381:\tlearn: 55.8931677\ttotal: 461ms\tremaining: 745ms\n",
            "382:\tlearn: 55.7445769\ttotal: 462ms\tremaining: 744ms\n",
            "383:\tlearn: 55.7077633\ttotal: 463ms\tremaining: 743ms\n",
            "384:\tlearn: 55.5900815\ttotal: 464ms\tremaining: 741ms\n",
            "385:\tlearn: 55.5077446\ttotal: 465ms\tremaining: 740ms\n",
            "386:\tlearn: 55.4708766\ttotal: 471ms\tremaining: 746ms\n",
            "387:\tlearn: 55.3710710\ttotal: 472ms\tremaining: 744ms\n",
            "388:\tlearn: 55.3022102\ttotal: 473ms\tremaining: 742ms\n",
            "389:\tlearn: 55.1257811\ttotal: 473ms\tremaining: 740ms\n",
            "390:\tlearn: 55.0774484\ttotal: 474ms\tremaining: 738ms\n",
            "391:\tlearn: 55.0585167\ttotal: 475ms\tremaining: 736ms\n",
            "392:\tlearn: 55.0090419\ttotal: 476ms\tremaining: 735ms\n",
            "393:\tlearn: 54.9691023\ttotal: 477ms\tremaining: 733ms\n",
            "394:\tlearn: 54.9341060\ttotal: 478ms\tremaining: 732ms\n",
            "395:\tlearn: 54.7675855\ttotal: 479ms\tremaining: 731ms\n",
            "396:\tlearn: 54.7060832\ttotal: 485ms\tremaining: 736ms\n",
            "397:\tlearn: 54.5964742\ttotal: 485ms\tremaining: 734ms\n",
            "398:\tlearn: 54.5321788\ttotal: 486ms\tremaining: 731ms\n",
            "399:\tlearn: 54.4652989\ttotal: 486ms\tremaining: 729ms\n",
            "400:\tlearn: 54.4170191\ttotal: 487ms\tremaining: 727ms\n",
            "401:\tlearn: 54.3435844\ttotal: 489ms\tremaining: 727ms\n",
            "402:\tlearn: 54.3110486\ttotal: 489ms\tremaining: 725ms\n",
            "403:\tlearn: 54.1970192\ttotal: 491ms\tremaining: 724ms\n",
            "404:\tlearn: 54.1620310\ttotal: 492ms\tremaining: 723ms\n",
            "405:\tlearn: 54.1063111\ttotal: 493ms\tremaining: 722ms\n",
            "406:\tlearn: 54.0316596\ttotal: 494ms\tremaining: 720ms\n",
            "407:\tlearn: 53.9282939\ttotal: 498ms\tremaining: 723ms\n",
            "408:\tlearn: 53.8691551\ttotal: 499ms\tremaining: 721ms\n",
            "409:\tlearn: 53.8277596\ttotal: 500ms\tremaining: 720ms\n",
            "410:\tlearn: 53.6905041\ttotal: 502ms\tremaining: 719ms\n",
            "411:\tlearn: 53.5895048\ttotal: 503ms\tremaining: 718ms\n",
            "412:\tlearn: 53.4927058\ttotal: 508ms\tremaining: 722ms\n",
            "413:\tlearn: 53.4401866\ttotal: 508ms\tremaining: 720ms\n",
            "414:\tlearn: 53.3205904\ttotal: 509ms\tremaining: 718ms\n",
            "415:\tlearn: 53.2922941\ttotal: 510ms\tremaining: 716ms\n",
            "416:\tlearn: 53.2622167\ttotal: 511ms\tremaining: 714ms\n",
            "417:\tlearn: 53.1357478\ttotal: 512ms\tremaining: 713ms\n",
            "418:\tlearn: 53.0846628\ttotal: 513ms\tremaining: 711ms\n",
            "419:\tlearn: 53.0605050\ttotal: 514ms\tremaining: 710ms\n",
            "420:\tlearn: 53.0220603\ttotal: 516ms\tremaining: 710ms\n",
            "421:\tlearn: 52.9718449\ttotal: 518ms\tremaining: 709ms\n",
            "422:\tlearn: 52.9195997\ttotal: 523ms\tremaining: 714ms\n",
            "423:\tlearn: 52.8710316\ttotal: 524ms\tremaining: 712ms\n",
            "424:\tlearn: 52.7297016\ttotal: 525ms\tremaining: 710ms\n",
            "425:\tlearn: 52.6963009\ttotal: 525ms\tremaining: 708ms\n",
            "426:\tlearn: 52.6431398\ttotal: 526ms\tremaining: 706ms\n",
            "427:\tlearn: 52.6186594\ttotal: 527ms\tremaining: 704ms\n",
            "428:\tlearn: 52.5806757\ttotal: 528ms\tremaining: 702ms\n",
            "429:\tlearn: 52.5462870\ttotal: 529ms\tremaining: 701ms\n",
            "430:\tlearn: 52.3817417\ttotal: 530ms\tremaining: 700ms\n",
            "431:\tlearn: 52.2426694\ttotal: 531ms\tremaining: 698ms\n",
            "432:\tlearn: 52.2262807\ttotal: 532ms\tremaining: 697ms\n",
            "433:\tlearn: 52.1641559\ttotal: 538ms\tremaining: 702ms\n",
            "434:\tlearn: 52.1394510\ttotal: 539ms\tremaining: 700ms\n",
            "435:\tlearn: 52.1226703\ttotal: 539ms\tremaining: 698ms\n",
            "436:\tlearn: 52.0328694\ttotal: 540ms\tremaining: 696ms\n",
            "437:\tlearn: 51.9328420\ttotal: 541ms\tremaining: 694ms\n",
            "438:\tlearn: 51.8973996\ttotal: 542ms\tremaining: 692ms\n",
            "439:\tlearn: 51.7511203\ttotal: 543ms\tremaining: 691ms\n",
            "440:\tlearn: 51.7174237\ttotal: 544ms\tremaining: 690ms\n",
            "441:\tlearn: 51.5969917\ttotal: 545ms\tremaining: 688ms\n",
            "442:\tlearn: 51.5630492\ttotal: 547ms\tremaining: 687ms\n",
            "443:\tlearn: 51.5169060\ttotal: 558ms\tremaining: 699ms\n",
            "444:\tlearn: 51.4880205\ttotal: 558ms\tremaining: 697ms\n",
            "445:\tlearn: 51.3823648\ttotal: 560ms\tremaining: 696ms\n",
            "446:\tlearn: 51.3257449\ttotal: 561ms\tremaining: 693ms\n",
            "447:\tlearn: 51.2831474\ttotal: 561ms\tremaining: 691ms\n",
            "448:\tlearn: 51.2556176\ttotal: 562ms\tremaining: 689ms\n",
            "449:\tlearn: 51.2193849\ttotal: 562ms\tremaining: 687ms\n",
            "450:\tlearn: 51.0944582\ttotal: 563ms\tremaining: 685ms\n",
            "451:\tlearn: 51.0692578\ttotal: 563ms\tremaining: 683ms\n",
            "452:\tlearn: 51.0459374\ttotal: 564ms\tremaining: 681ms\n",
            "453:\tlearn: 50.9148606\ttotal: 565ms\tremaining: 679ms\n",
            "454:\tlearn: 50.8547847\ttotal: 565ms\tremaining: 677ms\n",
            "455:\tlearn: 50.8154608\ttotal: 566ms\tremaining: 675ms\n",
            "456:\tlearn: 50.7335538\ttotal: 566ms\tremaining: 673ms\n",
            "457:\tlearn: 50.7081926\ttotal: 567ms\tremaining: 671ms\n",
            "458:\tlearn: 50.6520829\ttotal: 568ms\tremaining: 669ms\n",
            "459:\tlearn: 50.5798130\ttotal: 568ms\tremaining: 667ms\n",
            "460:\tlearn: 50.5499572\ttotal: 569ms\tremaining: 665ms\n",
            "461:\tlearn: 50.4967425\ttotal: 572ms\tremaining: 666ms\n",
            "462:\tlearn: 50.4371354\ttotal: 577ms\tremaining: 669ms\n",
            "463:\tlearn: 50.4124212\ttotal: 579ms\tremaining: 669ms\n",
            "464:\tlearn: 50.3563030\ttotal: 579ms\tremaining: 667ms\n",
            "465:\tlearn: 50.2821941\ttotal: 585ms\tremaining: 671ms\n",
            "466:\tlearn: 50.2404868\ttotal: 586ms\tremaining: 669ms\n",
            "467:\tlearn: 50.1711920\ttotal: 586ms\tremaining: 667ms\n",
            "468:\tlearn: 50.1310869\ttotal: 587ms\tremaining: 665ms\n",
            "469:\tlearn: 50.0863391\ttotal: 588ms\tremaining: 663ms\n",
            "470:\tlearn: 50.0553019\ttotal: 588ms\tremaining: 661ms\n",
            "471:\tlearn: 50.0170176\ttotal: 589ms\tremaining: 659ms\n",
            "472:\tlearn: 50.0000259\ttotal: 589ms\tremaining: 657ms\n",
            "473:\tlearn: 49.9509608\ttotal: 595ms\tremaining: 661ms\n",
            "474:\tlearn: 49.9279081\ttotal: 596ms\tremaining: 659ms\n",
            "475:\tlearn: 49.8239747\ttotal: 596ms\tremaining: 657ms\n",
            "476:\tlearn: 49.8007364\ttotal: 597ms\tremaining: 655ms\n",
            "477:\tlearn: 49.7029109\ttotal: 598ms\tremaining: 653ms\n",
            "478:\tlearn: 49.6029033\ttotal: 598ms\tremaining: 651ms\n",
            "479:\tlearn: 49.5672867\ttotal: 599ms\tremaining: 649ms\n",
            "480:\tlearn: 49.5463768\ttotal: 601ms\tremaining: 649ms\n",
            "481:\tlearn: 49.5091110\ttotal: 605ms\tremaining: 650ms\n",
            "482:\tlearn: 49.4694114\ttotal: 605ms\tremaining: 648ms\n",
            "483:\tlearn: 49.4271508\ttotal: 606ms\tremaining: 646ms\n",
            "484:\tlearn: 49.4095490\ttotal: 606ms\tremaining: 644ms\n",
            "485:\tlearn: 49.3749198\ttotal: 607ms\tremaining: 642ms\n",
            "486:\tlearn: 49.3216232\ttotal: 608ms\tremaining: 640ms\n",
            "487:\tlearn: 49.2683751\ttotal: 608ms\tremaining: 638ms\n",
            "488:\tlearn: 49.2499629\ttotal: 615ms\tremaining: 642ms\n",
            "489:\tlearn: 49.1250122\ttotal: 615ms\tremaining: 640ms\n",
            "490:\tlearn: 49.1118193\ttotal: 616ms\tremaining: 638ms\n",
            "491:\tlearn: 49.0028728\ttotal: 616ms\tremaining: 636ms\n",
            "492:\tlearn: 48.9498216\ttotal: 617ms\tremaining: 634ms\n",
            "493:\tlearn: 48.9287390\ttotal: 617ms\tremaining: 632ms\n",
            "494:\tlearn: 48.8919587\ttotal: 618ms\tremaining: 630ms\n",
            "495:\tlearn: 48.8061659\ttotal: 621ms\tremaining: 631ms\n",
            "496:\tlearn: 48.7786659\ttotal: 621ms\tremaining: 629ms\n",
            "497:\tlearn: 48.7417588\ttotal: 622ms\tremaining: 627ms\n",
            "498:\tlearn: 48.6735879\ttotal: 622ms\tremaining: 625ms\n",
            "499:\tlearn: 48.6030923\ttotal: 627ms\tremaining: 627ms\n",
            "500:\tlearn: 48.5637448\ttotal: 631ms\tremaining: 628ms\n",
            "501:\tlearn: 48.5398944\ttotal: 631ms\tremaining: 626ms\n",
            "502:\tlearn: 48.5007681\ttotal: 632ms\tremaining: 624ms\n",
            "503:\tlearn: 48.4398191\ttotal: 633ms\tremaining: 622ms\n",
            "504:\tlearn: 48.3917370\ttotal: 633ms\tremaining: 621ms\n",
            "505:\tlearn: 48.3730798\ttotal: 634ms\tremaining: 619ms\n",
            "506:\tlearn: 48.3600650\ttotal: 634ms\tremaining: 617ms\n",
            "507:\tlearn: 48.3262739\ttotal: 635ms\tremaining: 615ms\n",
            "508:\tlearn: 48.2770569\ttotal: 641ms\tremaining: 619ms\n",
            "509:\tlearn: 48.2325022\ttotal: 642ms\tremaining: 617ms\n",
            "510:\tlearn: 48.2165175\ttotal: 643ms\tremaining: 615ms\n",
            "511:\tlearn: 48.1980846\ttotal: 643ms\tremaining: 613ms\n",
            "512:\tlearn: 48.0909270\ttotal: 644ms\tremaining: 611ms\n",
            "513:\tlearn: 48.0328667\ttotal: 644ms\tremaining: 609ms\n",
            "514:\tlearn: 47.9903348\ttotal: 645ms\tremaining: 607ms\n",
            "515:\tlearn: 47.9724236\ttotal: 651ms\tremaining: 611ms\n",
            "516:\tlearn: 47.9557879\ttotal: 652ms\tremaining: 609ms\n",
            "517:\tlearn: 47.9246789\ttotal: 653ms\tremaining: 607ms\n",
            "518:\tlearn: 47.8221599\ttotal: 653ms\tremaining: 605ms\n",
            "519:\tlearn: 47.7586096\ttotal: 654ms\tremaining: 604ms\n",
            "520:\tlearn: 47.7262262\ttotal: 655ms\tremaining: 602ms\n",
            "521:\tlearn: 47.6838581\ttotal: 655ms\tremaining: 600ms\n",
            "522:\tlearn: 47.6498338\ttotal: 656ms\tremaining: 598ms\n",
            "523:\tlearn: 47.6195460\ttotal: 662ms\tremaining: 601ms\n",
            "524:\tlearn: 47.5891242\ttotal: 662ms\tremaining: 599ms\n",
            "525:\tlearn: 47.5727241\ttotal: 663ms\tremaining: 597ms\n",
            "526:\tlearn: 47.4911631\ttotal: 663ms\tremaining: 595ms\n",
            "527:\tlearn: 47.4336403\ttotal: 664ms\tremaining: 594ms\n",
            "528:\tlearn: 47.3816456\ttotal: 665ms\tremaining: 592ms\n",
            "529:\tlearn: 47.3711330\ttotal: 665ms\tremaining: 590ms\n",
            "530:\tlearn: 47.3414709\ttotal: 666ms\tremaining: 588ms\n",
            "531:\tlearn: 47.2666790\ttotal: 666ms\tremaining: 586ms\n",
            "532:\tlearn: 47.2376201\ttotal: 671ms\tremaining: 588ms\n",
            "533:\tlearn: 47.1582931\ttotal: 676ms\tremaining: 590ms\n",
            "534:\tlearn: 47.1425539\ttotal: 676ms\tremaining: 588ms\n",
            "535:\tlearn: 47.1013448\ttotal: 677ms\tremaining: 586ms\n",
            "536:\tlearn: 47.0840705\ttotal: 678ms\tremaining: 584ms\n",
            "537:\tlearn: 47.0691638\ttotal: 678ms\tremaining: 582ms\n",
            "538:\tlearn: 47.0375882\ttotal: 679ms\tremaining: 581ms\n",
            "539:\tlearn: 47.0214435\ttotal: 685ms\tremaining: 583ms\n",
            "540:\tlearn: 46.9542283\ttotal: 685ms\tremaining: 581ms\n",
            "541:\tlearn: 46.9262897\ttotal: 686ms\tremaining: 580ms\n",
            "542:\tlearn: 46.8988907\ttotal: 687ms\tremaining: 578ms\n",
            "543:\tlearn: 46.8672858\ttotal: 687ms\tremaining: 576ms\n",
            "544:\tlearn: 46.8387610\ttotal: 688ms\tremaining: 574ms\n",
            "545:\tlearn: 46.8007804\ttotal: 688ms\tremaining: 572ms\n",
            "546:\tlearn: 46.7783018\ttotal: 692ms\tremaining: 573ms\n",
            "547:\tlearn: 46.7406811\ttotal: 695ms\tremaining: 573ms\n",
            "548:\tlearn: 46.7039254\ttotal: 696ms\tremaining: 571ms\n",
            "549:\tlearn: 46.6779522\ttotal: 696ms\tremaining: 570ms\n",
            "550:\tlearn: 46.6188762\ttotal: 697ms\tremaining: 568ms\n",
            "551:\tlearn: 46.5255933\ttotal: 697ms\tremaining: 566ms\n",
            "552:\tlearn: 46.4685059\ttotal: 698ms\tremaining: 564ms\n",
            "553:\tlearn: 46.4356531\ttotal: 699ms\tremaining: 562ms\n",
            "554:\tlearn: 46.3335988\ttotal: 705ms\tremaining: 565ms\n",
            "555:\tlearn: 46.2525966\ttotal: 706ms\tremaining: 563ms\n",
            "556:\tlearn: 46.2423416\ttotal: 706ms\tremaining: 562ms\n",
            "557:\tlearn: 46.2234744\ttotal: 707ms\tremaining: 560ms\n",
            "558:\tlearn: 46.1936110\ttotal: 707ms\tremaining: 558ms\n",
            "559:\tlearn: 46.1742010\ttotal: 708ms\tremaining: 556ms\n",
            "560:\tlearn: 46.1444785\ttotal: 708ms\tremaining: 554ms\n",
            "561:\tlearn: 46.1295210\ttotal: 709ms\tremaining: 553ms\n",
            "562:\tlearn: 46.0446897\ttotal: 710ms\tremaining: 551ms\n",
            "563:\tlearn: 46.0269161\ttotal: 716ms\tremaining: 553ms\n",
            "564:\tlearn: 46.0043692\ttotal: 716ms\tremaining: 552ms\n",
            "565:\tlearn: 45.9872667\ttotal: 717ms\tremaining: 550ms\n",
            "566:\tlearn: 45.9593980\ttotal: 718ms\tremaining: 548ms\n",
            "567:\tlearn: 45.9435618\ttotal: 718ms\tremaining: 546ms\n",
            "568:\tlearn: 45.9224398\ttotal: 719ms\tremaining: 544ms\n",
            "569:\tlearn: 45.8980706\ttotal: 719ms\tremaining: 543ms\n",
            "570:\tlearn: 45.8316365\ttotal: 722ms\tremaining: 542ms\n",
            "571:\tlearn: 45.8071824\ttotal: 725ms\tremaining: 543ms\n",
            "572:\tlearn: 45.7493598\ttotal: 726ms\tremaining: 541ms\n",
            "573:\tlearn: 45.6549184\ttotal: 726ms\tremaining: 539ms\n",
            "574:\tlearn: 45.5639691\ttotal: 727ms\tremaining: 537ms\n",
            "575:\tlearn: 45.5408071\ttotal: 728ms\tremaining: 536ms\n",
            "576:\tlearn: 45.4718884\ttotal: 728ms\tremaining: 534ms\n",
            "577:\tlearn: 45.4484060\ttotal: 729ms\tremaining: 532ms\n",
            "578:\tlearn: 45.4339546\ttotal: 734ms\tremaining: 534ms\n",
            "579:\tlearn: 45.3778761\ttotal: 735ms\tremaining: 532ms\n",
            "580:\tlearn: 45.3561758\ttotal: 735ms\tremaining: 530ms\n",
            "581:\tlearn: 45.3233067\ttotal: 736ms\tremaining: 529ms\n",
            "582:\tlearn: 45.2998247\ttotal: 736ms\tremaining: 527ms\n",
            "583:\tlearn: 45.2690261\ttotal: 737ms\tremaining: 525ms\n",
            "584:\tlearn: 45.2478631\ttotal: 738ms\tremaining: 523ms\n",
            "585:\tlearn: 45.2369719\ttotal: 744ms\tremaining: 526ms\n",
            "586:\tlearn: 45.2096282\ttotal: 744ms\tremaining: 524ms\n",
            "587:\tlearn: 45.1240519\ttotal: 745ms\tremaining: 522ms\n",
            "588:\tlearn: 45.0730470\ttotal: 745ms\tremaining: 520ms\n",
            "589:\tlearn: 45.0564926\ttotal: 746ms\tremaining: 518ms\n",
            "590:\tlearn: 45.0425583\ttotal: 746ms\tremaining: 516ms\n",
            "591:\tlearn: 44.9915752\ttotal: 747ms\tremaining: 514ms\n",
            "592:\tlearn: 44.9787363\ttotal: 749ms\tremaining: 514ms\n",
            "593:\tlearn: 44.9434642\ttotal: 750ms\tremaining: 513ms\n",
            "594:\tlearn: 44.9284986\ttotal: 750ms\tremaining: 511ms\n",
            "595:\tlearn: 44.9166266\ttotal: 767ms\tremaining: 520ms\n",
            "596:\tlearn: 44.8446217\ttotal: 771ms\tremaining: 520ms\n",
            "597:\tlearn: 44.8071337\ttotal: 771ms\tremaining: 519ms\n",
            "598:\tlearn: 44.7342605\ttotal: 772ms\tremaining: 517ms\n",
            "599:\tlearn: 44.7061519\ttotal: 774ms\tremaining: 516ms\n",
            "600:\tlearn: 44.6989340\ttotal: 774ms\tremaining: 514ms\n",
            "601:\tlearn: 44.6817901\ttotal: 775ms\tremaining: 513ms\n",
            "602:\tlearn: 44.6403031\ttotal: 776ms\tremaining: 511ms\n",
            "603:\tlearn: 44.6141033\ttotal: 777ms\tremaining: 510ms\n",
            "604:\tlearn: 44.5444532\ttotal: 778ms\tremaining: 508ms\n",
            "605:\tlearn: 44.5156931\ttotal: 779ms\tremaining: 507ms\n",
            "606:\tlearn: 44.5035587\ttotal: 780ms\tremaining: 505ms\n",
            "607:\tlearn: 44.4379133\ttotal: 781ms\tremaining: 504ms\n",
            "608:\tlearn: 44.4177988\ttotal: 782ms\tremaining: 502ms\n",
            "609:\tlearn: 44.3978150\ttotal: 783ms\tremaining: 501ms\n",
            "610:\tlearn: 44.3853621\ttotal: 784ms\tremaining: 499ms\n",
            "611:\tlearn: 44.3461717\ttotal: 785ms\tremaining: 498ms\n",
            "612:\tlearn: 44.3218570\ttotal: 786ms\tremaining: 496ms\n",
            "613:\tlearn: 44.3023980\ttotal: 787ms\tremaining: 495ms\n",
            "614:\tlearn: 44.2980889\ttotal: 788ms\tremaining: 493ms\n",
            "615:\tlearn: 44.2789995\ttotal: 789ms\tremaining: 492ms\n",
            "616:\tlearn: 44.2542829\ttotal: 790ms\tremaining: 490ms\n",
            "617:\tlearn: 44.2418375\ttotal: 791ms\tremaining: 489ms\n",
            "618:\tlearn: 44.2234460\ttotal: 792ms\tremaining: 487ms\n",
            "619:\tlearn: 44.1612766\ttotal: 793ms\tremaining: 486ms\n",
            "620:\tlearn: 44.1510986\ttotal: 794ms\tremaining: 485ms\n",
            "621:\tlearn: 44.0887701\ttotal: 795ms\tremaining: 483ms\n",
            "622:\tlearn: 44.0794060\ttotal: 796ms\tremaining: 482ms\n",
            "623:\tlearn: 44.0554094\ttotal: 797ms\tremaining: 480ms\n",
            "624:\tlearn: 44.0253187\ttotal: 798ms\tremaining: 479ms\n",
            "625:\tlearn: 44.0069192\ttotal: 799ms\tremaining: 477ms\n",
            "626:\tlearn: 43.9901352\ttotal: 800ms\tremaining: 476ms\n",
            "627:\tlearn: 43.9592083\ttotal: 801ms\tremaining: 475ms\n",
            "628:\tlearn: 43.9417492\ttotal: 802ms\tremaining: 473ms\n",
            "629:\tlearn: 43.8716647\ttotal: 803ms\tremaining: 472ms\n",
            "630:\tlearn: 43.8027998\ttotal: 804ms\tremaining: 470ms\n",
            "631:\tlearn: 43.7752266\ttotal: 805ms\tremaining: 469ms\n",
            "632:\tlearn: 43.7585530\ttotal: 806ms\tremaining: 467ms\n",
            "633:\tlearn: 43.7308655\ttotal: 807ms\tremaining: 466ms\n",
            "634:\tlearn: 43.7122776\ttotal: 808ms\tremaining: 465ms\n",
            "635:\tlearn: 43.6942276\ttotal: 809ms\tremaining: 463ms\n",
            "636:\tlearn: 43.6638082\ttotal: 810ms\tremaining: 462ms\n",
            "637:\tlearn: 43.6487440\ttotal: 811ms\tremaining: 460ms\n",
            "638:\tlearn: 43.6182224\ttotal: 812ms\tremaining: 459ms\n",
            "639:\tlearn: 43.5943794\ttotal: 813ms\tremaining: 457ms\n",
            "640:\tlearn: 43.5777170\ttotal: 814ms\tremaining: 456ms\n",
            "641:\tlearn: 43.5660971\ttotal: 815ms\tremaining: 454ms\n",
            "642:\tlearn: 43.5433543\ttotal: 816ms\tremaining: 453ms\n",
            "643:\tlearn: 43.5238717\ttotal: 817ms\tremaining: 452ms\n",
            "644:\tlearn: 43.5077791\ttotal: 818ms\tremaining: 450ms\n",
            "645:\tlearn: 43.4700124\ttotal: 818ms\tremaining: 449ms\n",
            "646:\tlearn: 43.4531796\ttotal: 819ms\tremaining: 447ms\n",
            "647:\tlearn: 43.4221901\ttotal: 820ms\tremaining: 446ms\n",
            "648:\tlearn: 43.4104409\ttotal: 821ms\tremaining: 444ms\n",
            "649:\tlearn: 43.3979921\ttotal: 822ms\tremaining: 443ms\n",
            "650:\tlearn: 43.3852056\ttotal: 823ms\tremaining: 441ms\n",
            "651:\tlearn: 43.3364668\ttotal: 824ms\tremaining: 440ms\n",
            "652:\tlearn: 43.3184117\ttotal: 825ms\tremaining: 438ms\n",
            "653:\tlearn: 43.3007771\ttotal: 826ms\tremaining: 437ms\n",
            "654:\tlearn: 43.2443807\ttotal: 827ms\tremaining: 435ms\n",
            "655:\tlearn: 43.2323934\ttotal: 828ms\tremaining: 434ms\n",
            "656:\tlearn: 43.2144786\ttotal: 829ms\tremaining: 433ms\n",
            "657:\tlearn: 43.1794569\ttotal: 831ms\tremaining: 432ms\n",
            "658:\tlearn: 43.1566811\ttotal: 832ms\tremaining: 431ms\n",
            "659:\tlearn: 43.1385805\ttotal: 833ms\tremaining: 429ms\n",
            "660:\tlearn: 43.1220436\ttotal: 834ms\tremaining: 428ms\n",
            "661:\tlearn: 43.0989821\ttotal: 836ms\tremaining: 427ms\n",
            "662:\tlearn: 43.0792285\ttotal: 837ms\tremaining: 425ms\n",
            "663:\tlearn: 43.0558124\ttotal: 838ms\tremaining: 424ms\n",
            "664:\tlearn: 43.0279075\ttotal: 839ms\tremaining: 423ms\n",
            "665:\tlearn: 42.9820634\ttotal: 840ms\tremaining: 421ms\n",
            "666:\tlearn: 42.9678615\ttotal: 841ms\tremaining: 420ms\n",
            "667:\tlearn: 42.9601787\ttotal: 842ms\tremaining: 418ms\n",
            "668:\tlearn: 42.9365367\ttotal: 843ms\tremaining: 417ms\n",
            "669:\tlearn: 42.9235109\ttotal: 844ms\tremaining: 416ms\n",
            "670:\tlearn: 42.9163027\ttotal: 845ms\tremaining: 415ms\n",
            "671:\tlearn: 42.8930350\ttotal: 846ms\tremaining: 413ms\n",
            "672:\tlearn: 42.8817244\ttotal: 847ms\tremaining: 412ms\n",
            "673:\tlearn: 42.8661164\ttotal: 848ms\tremaining: 410ms\n",
            "674:\tlearn: 42.8257199\ttotal: 850ms\tremaining: 409ms\n",
            "675:\tlearn: 42.8047578\ttotal: 851ms\tremaining: 408ms\n",
            "676:\tlearn: 42.7932606\ttotal: 852ms\tremaining: 407ms\n",
            "677:\tlearn: 42.7703028\ttotal: 853ms\tremaining: 405ms\n",
            "678:\tlearn: 42.7556254\ttotal: 854ms\tremaining: 404ms\n",
            "679:\tlearn: 42.7362054\ttotal: 855ms\tremaining: 402ms\n",
            "680:\tlearn: 42.7144584\ttotal: 856ms\tremaining: 401ms\n",
            "681:\tlearn: 42.6560571\ttotal: 857ms\tremaining: 399ms\n",
            "682:\tlearn: 42.6423215\ttotal: 857ms\tremaining: 398ms\n",
            "683:\tlearn: 42.6288611\ttotal: 858ms\tremaining: 396ms\n",
            "684:\tlearn: 42.6156701\ttotal: 859ms\tremaining: 395ms\n",
            "685:\tlearn: 42.5859215\ttotal: 861ms\tremaining: 394ms\n",
            "686:\tlearn: 42.5731940\ttotal: 864ms\tremaining: 393ms\n",
            "687:\tlearn: 42.5510090\ttotal: 864ms\tremaining: 392ms\n",
            "688:\tlearn: 42.5059077\ttotal: 865ms\tremaining: 390ms\n",
            "689:\tlearn: 42.4980312\ttotal: 866ms\tremaining: 389ms\n",
            "690:\tlearn: 42.4489748\ttotal: 867ms\tremaining: 388ms\n",
            "691:\tlearn: 42.4382774\ttotal: 868ms\tremaining: 386ms\n",
            "692:\tlearn: 42.4106379\ttotal: 869ms\tremaining: 385ms\n",
            "693:\tlearn: 42.3975492\ttotal: 870ms\tremaining: 383ms\n",
            "694:\tlearn: 42.3429123\ttotal: 871ms\tremaining: 382ms\n",
            "695:\tlearn: 42.3022719\ttotal: 872ms\tremaining: 381ms\n",
            "696:\tlearn: 42.2745806\ttotal: 872ms\tremaining: 379ms\n",
            "697:\tlearn: 42.2676589\ttotal: 873ms\tremaining: 378ms\n",
            "698:\tlearn: 42.2556236\ttotal: 875ms\tremaining: 377ms\n",
            "699:\tlearn: 42.1810507\ttotal: 876ms\tremaining: 375ms\n",
            "700:\tlearn: 42.1735120\ttotal: 877ms\tremaining: 374ms\n",
            "701:\tlearn: 42.1502671\ttotal: 878ms\tremaining: 373ms\n",
            "702:\tlearn: 42.1339906\ttotal: 879ms\tremaining: 371ms\n",
            "703:\tlearn: 42.1128782\ttotal: 880ms\tremaining: 370ms\n",
            "704:\tlearn: 42.1037466\ttotal: 881ms\tremaining: 369ms\n",
            "705:\tlearn: 42.0821190\ttotal: 882ms\tremaining: 367ms\n",
            "706:\tlearn: 42.0730321\ttotal: 883ms\tremaining: 366ms\n",
            "707:\tlearn: 42.0358375\ttotal: 884ms\tremaining: 365ms\n",
            "708:\tlearn: 42.0162983\ttotal: 885ms\tremaining: 363ms\n",
            "709:\tlearn: 41.9709722\ttotal: 886ms\tremaining: 362ms\n",
            "710:\tlearn: 41.9297025\ttotal: 887ms\tremaining: 361ms\n",
            "711:\tlearn: 41.9223098\ttotal: 888ms\tremaining: 359ms\n",
            "712:\tlearn: 41.8712435\ttotal: 889ms\tremaining: 358ms\n",
            "713:\tlearn: 41.8280068\ttotal: 890ms\tremaining: 356ms\n",
            "714:\tlearn: 41.7865034\ttotal: 891ms\tremaining: 355ms\n",
            "715:\tlearn: 41.7704168\ttotal: 892ms\tremaining: 354ms\n",
            "716:\tlearn: 41.7311519\ttotal: 893ms\tremaining: 352ms\n",
            "717:\tlearn: 41.7178712\ttotal: 894ms\tremaining: 351ms\n",
            "718:\tlearn: 41.7047890\ttotal: 895ms\tremaining: 350ms\n",
            "719:\tlearn: 41.6777687\ttotal: 896ms\tremaining: 348ms\n",
            "720:\tlearn: 41.6573465\ttotal: 897ms\tremaining: 347ms\n",
            "721:\tlearn: 41.5917361\ttotal: 898ms\tremaining: 346ms\n",
            "722:\tlearn: 41.5645225\ttotal: 898ms\tremaining: 344ms\n",
            "723:\tlearn: 41.5527347\ttotal: 899ms\tremaining: 343ms\n",
            "724:\tlearn: 41.5403781\ttotal: 900ms\tremaining: 341ms\n",
            "725:\tlearn: 41.4855678\ttotal: 901ms\tremaining: 340ms\n",
            "726:\tlearn: 41.4665782\ttotal: 902ms\tremaining: 339ms\n",
            "727:\tlearn: 41.4555468\ttotal: 903ms\tremaining: 337ms\n",
            "728:\tlearn: 41.4409086\ttotal: 904ms\tremaining: 336ms\n",
            "729:\tlearn: 41.4027899\ttotal: 905ms\tremaining: 335ms\n",
            "730:\tlearn: 41.3892380\ttotal: 906ms\tremaining: 333ms\n",
            "731:\tlearn: 41.3730526\ttotal: 907ms\tremaining: 332ms\n",
            "732:\tlearn: 41.3435985\ttotal: 908ms\tremaining: 331ms\n",
            "733:\tlearn: 41.3332088\ttotal: 909ms\tremaining: 329ms\n",
            "734:\tlearn: 41.3093316\ttotal: 910ms\tremaining: 328ms\n",
            "735:\tlearn: 41.2894246\ttotal: 911ms\tremaining: 327ms\n",
            "736:\tlearn: 41.2611101\ttotal: 911ms\tremaining: 325ms\n",
            "737:\tlearn: 41.2424119\ttotal: 912ms\tremaining: 324ms\n",
            "738:\tlearn: 41.2319747\ttotal: 913ms\tremaining: 323ms\n",
            "739:\tlearn: 41.2232574\ttotal: 920ms\tremaining: 323ms\n",
            "740:\tlearn: 41.1606978\ttotal: 921ms\tremaining: 322ms\n",
            "741:\tlearn: 41.1477287\ttotal: 922ms\tremaining: 321ms\n",
            "742:\tlearn: 41.1293451\ttotal: 923ms\tremaining: 319ms\n",
            "743:\tlearn: 41.0885865\ttotal: 924ms\tremaining: 318ms\n",
            "744:\tlearn: 41.0753815\ttotal: 925ms\tremaining: 317ms\n",
            "745:\tlearn: 41.0525605\ttotal: 926ms\tremaining: 315ms\n",
            "746:\tlearn: 41.0292592\ttotal: 927ms\tremaining: 314ms\n",
            "747:\tlearn: 41.0184891\ttotal: 928ms\tremaining: 313ms\n",
            "748:\tlearn: 40.9562629\ttotal: 929ms\tremaining: 311ms\n",
            "749:\tlearn: 40.9371410\ttotal: 930ms\tremaining: 310ms\n",
            "750:\tlearn: 40.8894128\ttotal: 930ms\tremaining: 309ms\n",
            "751:\tlearn: 40.8837085\ttotal: 931ms\tremaining: 307ms\n",
            "752:\tlearn: 40.8594497\ttotal: 932ms\tremaining: 306ms\n",
            "753:\tlearn: 40.8338888\ttotal: 933ms\tremaining: 304ms\n",
            "754:\tlearn: 40.8213756\ttotal: 934ms\tremaining: 303ms\n",
            "755:\tlearn: 40.7831672\ttotal: 935ms\tremaining: 302ms\n",
            "756:\tlearn: 40.7655387\ttotal: 936ms\tremaining: 300ms\n",
            "757:\tlearn: 40.7448556\ttotal: 942ms\tremaining: 301ms\n",
            "758:\tlearn: 40.7269005\ttotal: 944ms\tremaining: 300ms\n",
            "759:\tlearn: 40.7208538\ttotal: 946ms\tremaining: 299ms\n",
            "760:\tlearn: 40.7040805\ttotal: 947ms\tremaining: 297ms\n",
            "761:\tlearn: 40.6733441\ttotal: 948ms\tremaining: 296ms\n",
            "762:\tlearn: 40.6524809\ttotal: 949ms\tremaining: 295ms\n",
            "763:\tlearn: 40.6353989\ttotal: 950ms\tremaining: 293ms\n",
            "764:\tlearn: 40.6017641\ttotal: 951ms\tremaining: 292ms\n",
            "765:\tlearn: 40.5858977\ttotal: 952ms\tremaining: 291ms\n",
            "766:\tlearn: 40.5676794\ttotal: 953ms\tremaining: 289ms\n",
            "767:\tlearn: 40.5461667\ttotal: 954ms\tremaining: 288ms\n",
            "768:\tlearn: 40.5293552\ttotal: 955ms\tremaining: 287ms\n",
            "769:\tlearn: 40.5213666\ttotal: 956ms\tremaining: 285ms\n",
            "770:\tlearn: 40.5099955\ttotal: 956ms\tremaining: 284ms\n",
            "771:\tlearn: 40.4986522\ttotal: 958ms\tremaining: 283ms\n",
            "772:\tlearn: 40.4838277\ttotal: 959ms\tremaining: 282ms\n",
            "773:\tlearn: 40.4387850\ttotal: 959ms\tremaining: 280ms\n",
            "774:\tlearn: 40.4035396\ttotal: 960ms\tremaining: 279ms\n",
            "775:\tlearn: 40.3598704\ttotal: 961ms\tremaining: 278ms\n",
            "776:\tlearn: 40.3309546\ttotal: 962ms\tremaining: 276ms\n",
            "777:\tlearn: 40.2964865\ttotal: 963ms\tremaining: 275ms\n",
            "778:\tlearn: 40.2787433\ttotal: 964ms\tremaining: 274ms\n",
            "779:\tlearn: 40.2635795\ttotal: 965ms\tremaining: 272ms\n",
            "780:\tlearn: 40.2447535\ttotal: 966ms\tremaining: 271ms\n",
            "781:\tlearn: 40.2345883\ttotal: 967ms\tremaining: 270ms\n",
            "782:\tlearn: 40.2199219\ttotal: 968ms\tremaining: 268ms\n",
            "783:\tlearn: 40.1911999\ttotal: 969ms\tremaining: 267ms\n",
            "784:\tlearn: 40.1652386\ttotal: 970ms\tremaining: 266ms\n",
            "785:\tlearn: 40.1592024\ttotal: 971ms\tremaining: 264ms\n",
            "786:\tlearn: 40.1449900\ttotal: 972ms\tremaining: 263ms\n",
            "787:\tlearn: 40.1416465\ttotal: 973ms\tremaining: 262ms\n",
            "788:\tlearn: 40.1277520\ttotal: 973ms\tremaining: 260ms\n",
            "789:\tlearn: 40.1140480\ttotal: 974ms\tremaining: 259ms\n",
            "790:\tlearn: 40.0961125\ttotal: 975ms\tremaining: 258ms\n",
            "791:\tlearn: 40.0817396\ttotal: 976ms\tremaining: 256ms\n",
            "792:\tlearn: 40.0684174\ttotal: 978ms\tremaining: 255ms\n",
            "793:\tlearn: 40.0572763\ttotal: 980ms\tremaining: 254ms\n",
            "794:\tlearn: 40.0235893\ttotal: 980ms\tremaining: 253ms\n",
            "795:\tlearn: 40.0139654\ttotal: 981ms\tremaining: 252ms\n",
            "796:\tlearn: 39.9763461\ttotal: 982ms\tremaining: 250ms\n",
            "797:\tlearn: 39.9664773\ttotal: 983ms\tremaining: 249ms\n",
            "798:\tlearn: 39.9594372\ttotal: 984ms\tremaining: 248ms\n",
            "799:\tlearn: 39.9497390\ttotal: 988ms\tremaining: 247ms\n",
            "800:\tlearn: 39.9363537\ttotal: 991ms\tremaining: 246ms\n",
            "801:\tlearn: 39.9237187\ttotal: 992ms\tremaining: 245ms\n",
            "802:\tlearn: 39.8834151\ttotal: 995ms\tremaining: 244ms\n",
            "803:\tlearn: 39.8717492\ttotal: 998ms\tremaining: 243ms\n",
            "804:\tlearn: 39.8211341\ttotal: 999ms\tremaining: 242ms\n",
            "805:\tlearn: 39.8101379\ttotal: 1s\tremaining: 241ms\n",
            "806:\tlearn: 39.7757877\ttotal: 1s\tremaining: 240ms\n",
            "807:\tlearn: 39.7631901\ttotal: 1s\tremaining: 238ms\n",
            "808:\tlearn: 39.7448398\ttotal: 1s\tremaining: 237ms\n",
            "809:\tlearn: 39.7313708\ttotal: 1s\tremaining: 236ms\n",
            "810:\tlearn: 39.7243506\ttotal: 1s\tremaining: 234ms\n",
            "811:\tlearn: 39.7097300\ttotal: 1.01s\tremaining: 233ms\n",
            "812:\tlearn: 39.6995499\ttotal: 1.01s\tremaining: 232ms\n",
            "813:\tlearn: 39.6948732\ttotal: 1.01s\tremaining: 230ms\n",
            "814:\tlearn: 39.6846517\ttotal: 1.01s\tremaining: 229ms\n",
            "815:\tlearn: 39.6543227\ttotal: 1.01s\tremaining: 228ms\n",
            "816:\tlearn: 39.6363936\ttotal: 1.01s\tremaining: 226ms\n",
            "817:\tlearn: 39.6319443\ttotal: 1.01s\tremaining: 225ms\n",
            "818:\tlearn: 39.6230762\ttotal: 1.01s\tremaining: 224ms\n",
            "819:\tlearn: 39.5857310\ttotal: 1.01s\tremaining: 223ms\n",
            "820:\tlearn: 39.5806464\ttotal: 1.01s\tremaining: 221ms\n",
            "821:\tlearn: 39.5764951\ttotal: 1.01s\tremaining: 220ms\n",
            "822:\tlearn: 39.5674971\ttotal: 1.02s\tremaining: 219ms\n",
            "823:\tlearn: 39.5313649\ttotal: 1.02s\tremaining: 217ms\n",
            "824:\tlearn: 39.5224921\ttotal: 1.02s\tremaining: 216ms\n",
            "825:\tlearn: 39.5109666\ttotal: 1.02s\tremaining: 215ms\n",
            "826:\tlearn: 39.4970839\ttotal: 1.02s\tremaining: 213ms\n",
            "827:\tlearn: 39.4714478\ttotal: 1.02s\tremaining: 212ms\n",
            "828:\tlearn: 39.4520177\ttotal: 1.02s\tremaining: 211ms\n",
            "829:\tlearn: 39.4012908\ttotal: 1.02s\tremaining: 210ms\n",
            "830:\tlearn: 39.3972075\ttotal: 1.02s\tremaining: 208ms\n",
            "831:\tlearn: 39.3806572\ttotal: 1.02s\tremaining: 207ms\n",
            "832:\tlearn: 39.3387832\ttotal: 1.02s\tremaining: 206ms\n",
            "833:\tlearn: 39.3046827\ttotal: 1.03s\tremaining: 204ms\n",
            "834:\tlearn: 39.2490334\ttotal: 1.03s\tremaining: 203ms\n",
            "835:\tlearn: 39.2376446\ttotal: 1.03s\tremaining: 202ms\n",
            "836:\tlearn: 39.2350618\ttotal: 1.03s\tremaining: 200ms\n",
            "837:\tlearn: 39.2156224\ttotal: 1.03s\tremaining: 199ms\n",
            "838:\tlearn: 39.1944575\ttotal: 1.03s\tremaining: 198ms\n",
            "839:\tlearn: 39.1679026\ttotal: 1.03s\tremaining: 197ms\n",
            "840:\tlearn: 39.1546709\ttotal: 1.03s\tremaining: 195ms\n",
            "841:\tlearn: 39.1434551\ttotal: 1.03s\tremaining: 194ms\n",
            "842:\tlearn: 39.1204183\ttotal: 1.03s\tremaining: 193ms\n",
            "843:\tlearn: 39.1084370\ttotal: 1.04s\tremaining: 192ms\n",
            "844:\tlearn: 39.0689750\ttotal: 1.04s\tremaining: 190ms\n",
            "845:\tlearn: 39.0570050\ttotal: 1.04s\tremaining: 189ms\n",
            "846:\tlearn: 39.0551162\ttotal: 1.04s\tremaining: 188ms\n",
            "847:\tlearn: 39.0422237\ttotal: 1.04s\tremaining: 186ms\n",
            "848:\tlearn: 39.0338961\ttotal: 1.04s\tremaining: 185ms\n",
            "849:\tlearn: 39.0001368\ttotal: 1.04s\tremaining: 184ms\n",
            "850:\tlearn: 38.9780145\ttotal: 1.04s\tremaining: 182ms\n",
            "851:\tlearn: 38.9463032\ttotal: 1.04s\tremaining: 181ms\n",
            "852:\tlearn: 38.9406916\ttotal: 1.04s\tremaining: 180ms\n",
            "853:\tlearn: 38.9344843\ttotal: 1.04s\tremaining: 179ms\n",
            "854:\tlearn: 38.9086722\ttotal: 1.04s\tremaining: 177ms\n",
            "855:\tlearn: 38.8833198\ttotal: 1.05s\tremaining: 176ms\n",
            "856:\tlearn: 38.8761170\ttotal: 1.05s\tremaining: 175ms\n",
            "857:\tlearn: 38.8603533\ttotal: 1.05s\tremaining: 174ms\n",
            "858:\tlearn: 38.8492134\ttotal: 1.05s\tremaining: 172ms\n",
            "859:\tlearn: 38.8134847\ttotal: 1.05s\tremaining: 171ms\n",
            "860:\tlearn: 38.8046294\ttotal: 1.05s\tremaining: 170ms\n",
            "861:\tlearn: 38.7749454\ttotal: 1.05s\tremaining: 169ms\n",
            "862:\tlearn: 38.7483114\ttotal: 1.05s\tremaining: 167ms\n",
            "863:\tlearn: 38.7311482\ttotal: 1.05s\tremaining: 166ms\n",
            "864:\tlearn: 38.6777872\ttotal: 1.06s\tremaining: 165ms\n",
            "865:\tlearn: 38.6666907\ttotal: 1.06s\tremaining: 164ms\n",
            "866:\tlearn: 38.6172210\ttotal: 1.06s\tremaining: 162ms\n",
            "867:\tlearn: 38.5937364\ttotal: 1.06s\tremaining: 161ms\n",
            "868:\tlearn: 38.5854187\ttotal: 1.06s\tremaining: 160ms\n",
            "869:\tlearn: 38.5804012\ttotal: 1.06s\tremaining: 159ms\n",
            "870:\tlearn: 38.5733400\ttotal: 1.06s\tremaining: 157ms\n",
            "871:\tlearn: 38.5424476\ttotal: 1.06s\tremaining: 156ms\n",
            "872:\tlearn: 38.5140971\ttotal: 1.06s\tremaining: 155ms\n",
            "873:\tlearn: 38.5051185\ttotal: 1.07s\tremaining: 154ms\n",
            "874:\tlearn: 38.4980937\ttotal: 1.07s\tremaining: 152ms\n",
            "875:\tlearn: 38.4710740\ttotal: 1.07s\tremaining: 151ms\n",
            "876:\tlearn: 38.4695727\ttotal: 1.07s\tremaining: 150ms\n",
            "877:\tlearn: 38.4624703\ttotal: 1.07s\tremaining: 149ms\n",
            "878:\tlearn: 38.4423769\ttotal: 1.07s\tremaining: 147ms\n",
            "879:\tlearn: 38.4404221\ttotal: 1.07s\tremaining: 146ms\n",
            "880:\tlearn: 38.3982767\ttotal: 1.07s\tremaining: 145ms\n",
            "881:\tlearn: 38.3936007\ttotal: 1.07s\tremaining: 144ms\n",
            "882:\tlearn: 38.3709014\ttotal: 1.07s\tremaining: 142ms\n",
            "883:\tlearn: 38.3505138\ttotal: 1.07s\tremaining: 141ms\n",
            "884:\tlearn: 38.3423309\ttotal: 1.08s\tremaining: 140ms\n",
            "885:\tlearn: 38.3323942\ttotal: 1.08s\tremaining: 139ms\n",
            "886:\tlearn: 38.3310517\ttotal: 1.08s\tremaining: 138ms\n",
            "887:\tlearn: 38.3166408\ttotal: 1.08s\tremaining: 136ms\n",
            "888:\tlearn: 38.3076060\ttotal: 1.08s\tremaining: 135ms\n",
            "889:\tlearn: 38.2596928\ttotal: 1.08s\tremaining: 134ms\n",
            "890:\tlearn: 38.2585127\ttotal: 1.09s\tremaining: 133ms\n",
            "891:\tlearn: 38.2451739\ttotal: 1.09s\tremaining: 132ms\n",
            "892:\tlearn: 38.2266057\ttotal: 1.09s\tremaining: 131ms\n",
            "893:\tlearn: 38.2096787\ttotal: 1.09s\tremaining: 129ms\n",
            "894:\tlearn: 38.1840331\ttotal: 1.09s\tremaining: 128ms\n",
            "895:\tlearn: 38.1615647\ttotal: 1.1s\tremaining: 127ms\n",
            "896:\tlearn: 38.1530332\ttotal: 1.1s\tremaining: 126ms\n",
            "897:\tlearn: 38.1310066\ttotal: 1.1s\tremaining: 125ms\n",
            "898:\tlearn: 38.1112756\ttotal: 1.1s\tremaining: 124ms\n",
            "899:\tlearn: 38.1101493\ttotal: 1.1s\tremaining: 122ms\n",
            "900:\tlearn: 38.0999528\ttotal: 1.1s\tremaining: 121ms\n",
            "901:\tlearn: 38.0922872\ttotal: 1.1s\tremaining: 120ms\n",
            "902:\tlearn: 38.0793109\ttotal: 1.11s\tremaining: 119ms\n",
            "903:\tlearn: 38.0652883\ttotal: 1.11s\tremaining: 118ms\n",
            "904:\tlearn: 38.0320721\ttotal: 1.11s\tremaining: 117ms\n",
            "905:\tlearn: 38.0072754\ttotal: 1.11s\tremaining: 116ms\n",
            "906:\tlearn: 37.9815328\ttotal: 1.11s\tremaining: 114ms\n",
            "907:\tlearn: 37.9679490\ttotal: 1.12s\tremaining: 113ms\n",
            "908:\tlearn: 37.9618086\ttotal: 1.12s\tremaining: 112ms\n",
            "909:\tlearn: 37.9538333\ttotal: 1.12s\tremaining: 111ms\n",
            "910:\tlearn: 37.9458824\ttotal: 1.12s\tremaining: 109ms\n",
            "911:\tlearn: 37.9358572\ttotal: 1.12s\tremaining: 108ms\n",
            "912:\tlearn: 37.9096448\ttotal: 1.12s\tremaining: 107ms\n",
            "913:\tlearn: 37.8889858\ttotal: 1.12s\tremaining: 105ms\n",
            "914:\tlearn: 37.8700768\ttotal: 1.12s\tremaining: 104ms\n",
            "915:\tlearn: 37.8671733\ttotal: 1.12s\tremaining: 103ms\n",
            "916:\tlearn: 37.8624223\ttotal: 1.12s\tremaining: 101ms\n",
            "917:\tlearn: 37.8346204\ttotal: 1.12s\tremaining: 100ms\n",
            "918:\tlearn: 37.8334850\ttotal: 1.12s\tremaining: 98.8ms\n",
            "919:\tlearn: 37.8245782\ttotal: 1.12s\tremaining: 97.5ms\n",
            "920:\tlearn: 37.8019350\ttotal: 1.12s\tremaining: 96.2ms\n",
            "921:\tlearn: 37.7765577\ttotal: 1.12s\tremaining: 94.9ms\n",
            "922:\tlearn: 37.7273456\ttotal: 1.12s\tremaining: 93.6ms\n",
            "923:\tlearn: 37.6799915\ttotal: 1.12s\tremaining: 92.3ms\n",
            "924:\tlearn: 37.6758494\ttotal: 1.12s\tremaining: 91ms\n",
            "925:\tlearn: 37.6549414\ttotal: 1.12s\tremaining: 89.7ms\n",
            "926:\tlearn: 37.6535863\ttotal: 1.12s\tremaining: 88.4ms\n",
            "927:\tlearn: 37.6192705\ttotal: 1.12s\tremaining: 87.2ms\n",
            "928:\tlearn: 37.5850718\ttotal: 1.12s\tremaining: 85.9ms\n",
            "929:\tlearn: 37.5799230\ttotal: 1.12s\tremaining: 84.6ms\n",
            "930:\tlearn: 37.5753206\ttotal: 1.12s\tremaining: 83.3ms\n",
            "931:\tlearn: 37.5681672\ttotal: 1.12s\tremaining: 82.1ms\n",
            "932:\tlearn: 37.5549915\ttotal: 1.13s\tremaining: 80.8ms\n",
            "933:\tlearn: 37.5384812\ttotal: 1.13s\tremaining: 79.5ms\n",
            "934:\tlearn: 37.5185973\ttotal: 1.13s\tremaining: 78.3ms\n",
            "935:\tlearn: 37.5160169\ttotal: 1.13s\tremaining: 77ms\n",
            "936:\tlearn: 37.5060796\ttotal: 1.13s\tremaining: 75.7ms\n",
            "937:\tlearn: 37.4980618\ttotal: 1.13s\tremaining: 74.5ms\n",
            "938:\tlearn: 37.4734874\ttotal: 1.13s\tremaining: 73.2ms\n",
            "939:\tlearn: 37.4519613\ttotal: 1.13s\tremaining: 72ms\n",
            "940:\tlearn: 37.4433654\ttotal: 1.13s\tremaining: 70.7ms\n",
            "941:\tlearn: 37.4225270\ttotal: 1.13s\tremaining: 69.5ms\n",
            "942:\tlearn: 37.4031955\ttotal: 1.13s\tremaining: 68.2ms\n",
            "943:\tlearn: 37.3888003\ttotal: 1.13s\tremaining: 67ms\n",
            "944:\tlearn: 37.3763004\ttotal: 1.13s\tremaining: 65.7ms\n",
            "945:\tlearn: 37.3553616\ttotal: 1.13s\tremaining: 64.5ms\n",
            "946:\tlearn: 37.3396447\ttotal: 1.13s\tremaining: 63.2ms\n",
            "947:\tlearn: 37.3386528\ttotal: 1.13s\tremaining: 62ms\n",
            "948:\tlearn: 37.3376896\ttotal: 1.13s\tremaining: 60.8ms\n",
            "949:\tlearn: 37.3177575\ttotal: 1.13s\tremaining: 59.5ms\n",
            "950:\tlearn: 37.2719085\ttotal: 1.13s\tremaining: 58.3ms\n",
            "951:\tlearn: 37.2458262\ttotal: 1.13s\tremaining: 57ms\n",
            "952:\tlearn: 37.2377302\ttotal: 1.13s\tremaining: 55.8ms\n",
            "953:\tlearn: 37.2330762\ttotal: 1.13s\tremaining: 54.6ms\n",
            "954:\tlearn: 37.2278382\ttotal: 1.13s\tremaining: 53.4ms\n",
            "955:\tlearn: 37.2175982\ttotal: 1.13s\tremaining: 52.1ms\n",
            "956:\tlearn: 37.1739457\ttotal: 1.13s\tremaining: 50.9ms\n",
            "957:\tlearn: 37.1709366\ttotal: 1.13s\tremaining: 49.7ms\n",
            "958:\tlearn: 37.1274397\ttotal: 1.13s\tremaining: 48.5ms\n",
            "959:\tlearn: 37.1223810\ttotal: 1.13s\tremaining: 47.3ms\n",
            "960:\tlearn: 37.0999635\ttotal: 1.13s\tremaining: 46ms\n",
            "961:\tlearn: 37.0891745\ttotal: 1.13s\tremaining: 44.8ms\n",
            "962:\tlearn: 37.0466966\ttotal: 1.14s\tremaining: 43.6ms\n",
            "963:\tlearn: 37.0432082\ttotal: 1.14s\tremaining: 42.4ms\n",
            "964:\tlearn: 37.0245010\ttotal: 1.14s\tremaining: 41.2ms\n",
            "965:\tlearn: 37.0080698\ttotal: 1.14s\tremaining: 40ms\n",
            "966:\tlearn: 36.9982842\ttotal: 1.14s\tremaining: 38.8ms\n",
            "967:\tlearn: 36.9713469\ttotal: 1.14s\tremaining: 37.6ms\n",
            "968:\tlearn: 36.9540909\ttotal: 1.14s\tremaining: 36.4ms\n",
            "969:\tlearn: 36.9132581\ttotal: 1.14s\tremaining: 35.2ms\n",
            "970:\tlearn: 36.8866186\ttotal: 1.14s\tremaining: 34ms\n",
            "971:\tlearn: 36.8743504\ttotal: 1.14s\tremaining: 32.8ms\n",
            "972:\tlearn: 36.8524385\ttotal: 1.14s\tremaining: 31.6ms\n",
            "973:\tlearn: 36.8292565\ttotal: 1.14s\tremaining: 30.4ms\n",
            "974:\tlearn: 36.8263900\ttotal: 1.14s\tremaining: 29.2ms\n",
            "975:\tlearn: 36.8181054\ttotal: 1.14s\tremaining: 28ms\n",
            "976:\tlearn: 36.8090639\ttotal: 1.14s\tremaining: 26.8ms\n",
            "977:\tlearn: 36.8046581\ttotal: 1.14s\tremaining: 25.6ms\n",
            "978:\tlearn: 36.8007283\ttotal: 1.14s\tremaining: 24.5ms\n",
            "979:\tlearn: 36.7611765\ttotal: 1.14s\tremaining: 23.3ms\n",
            "980:\tlearn: 36.7552283\ttotal: 1.14s\tremaining: 22.1ms\n",
            "981:\tlearn: 36.7517759\ttotal: 1.14s\tremaining: 20.9ms\n",
            "982:\tlearn: 36.7494851\ttotal: 1.14s\tremaining: 19.7ms\n",
            "983:\tlearn: 36.7419757\ttotal: 1.14s\tremaining: 18.6ms\n",
            "984:\tlearn: 36.7213194\ttotal: 1.14s\tremaining: 17.4ms\n",
            "985:\tlearn: 36.7131819\ttotal: 1.14s\tremaining: 16.2ms\n",
            "986:\tlearn: 36.6925792\ttotal: 1.14s\tremaining: 15.1ms\n",
            "987:\tlearn: 36.6723877\ttotal: 1.14s\tremaining: 13.9ms\n",
            "988:\tlearn: 36.6618244\ttotal: 1.14s\tremaining: 12.7ms\n",
            "989:\tlearn: 36.6499397\ttotal: 1.14s\tremaining: 11.6ms\n",
            "990:\tlearn: 36.6441296\ttotal: 1.14s\tremaining: 10.4ms\n",
            "991:\tlearn: 36.6196677\ttotal: 1.14s\tremaining: 9.23ms\n",
            "992:\tlearn: 36.6103309\ttotal: 1.15s\tremaining: 8.07ms\n",
            "993:\tlearn: 36.5923362\ttotal: 1.15s\tremaining: 6.91ms\n",
            "994:\tlearn: 36.5700303\ttotal: 1.15s\tremaining: 5.76ms\n",
            "995:\tlearn: 36.5470660\ttotal: 1.15s\tremaining: 4.6ms\n",
            "996:\tlearn: 36.5410007\ttotal: 1.15s\tremaining: 3.45ms\n",
            "997:\tlearn: 36.5345002\ttotal: 1.15s\tremaining: 2.3ms\n",
            "998:\tlearn: 36.5308970\ttotal: 1.15s\tremaining: 1.15ms\n",
            "999:\tlearn: 36.5283083\ttotal: 1.15s\tremaining: 0us\n"
          ]
        },
        {
          "output_type": "execute_result",
          "data": {
            "text/plain": [
              "<catboost.core.CatBoostRegressor at 0x78591964a680>"
            ]
          },
          "metadata": {},
          "execution_count": 28
        }
      ]
    },
    {
      "cell_type": "markdown",
      "source": [
        "Predicting the Test Set Results"
      ],
      "metadata": {
        "id": "QYzeHtzxpGG5"
      }
    },
    {
      "cell_type": "code",
      "source": [
        "y_pred_cb = regressor_cb.predict(X_test)\n",
        "np.set_printoptions(precision=2)\n",
        "print(np.concatenate((y_pred_cb.reshape(len(y_pred_cb),1), y_test.reshape(len(y_test),1)),1))"
      ],
      "metadata": {
        "colab": {
          "base_uri": "https://localhost:8080/"
        },
        "id": "JxvhGATkpGR1",
        "outputId": "b7867081-6df5-43b5-f805-e3ed29781a8f"
      },
      "execution_count": 29,
      "outputs": [
        {
          "output_type": "stream",
          "name": "stdout",
          "text": [
            "[[ 237.6   269.  ]\n",
            " [ 704.06 1049.  ]\n",
            " [ 570.48  429.  ]\n",
            " [ 783.7   799.  ]\n",
            " [ 532.01  449.  ]\n",
            " [1012.26  749.  ]\n",
            " [ 265.79  299.  ]\n",
            " [ 514.55  449.  ]\n",
            " [ 152.27  169.  ]\n",
            " [ 725.95  499.  ]\n",
            " [ 479.03  399.  ]\n",
            " [ 841.85  999.  ]\n",
            " [ 161.48  149.  ]\n",
            " [ 138.62  109.  ]\n",
            " [ 322.89  329.  ]\n",
            " [ 788.65 1099.  ]\n",
            " [1063.68 1099.  ]\n",
            " [ 184.91  189.  ]\n",
            " [ 271.57  279.  ]\n",
            " [ 532.01  469.  ]\n",
            " [ 161.48  139.  ]\n",
            " [ 483.85  329.  ]\n",
            " [ 133.91  149.  ]\n",
            " [ 382.88  329.  ]\n",
            " [ 322.89  369.  ]\n",
            " [ 715.93  699.  ]\n",
            " [ 409.93  309.  ]\n",
            " [ 366.01  329.  ]\n",
            " [ 137.72  149.  ]\n",
            " [ 766.84  599.  ]\n",
            " [ 147.97  149.  ]\n",
            " [ 366.36  329.  ]\n",
            " [ 322.89  399.  ]\n",
            " [ 289.83  249.  ]\n",
            " [ 923.15  969.  ]\n",
            " [ 190.69  229.  ]\n",
            " [ 161.48  139.  ]\n",
            " [ 267.06  299.  ]\n",
            " [ 279.05  339.  ]\n",
            " [ 574.34  659.  ]\n",
            " [ 237.79  249.  ]\n",
            " [ 244.15  279.  ]\n",
            " [ 163.13  169.  ]\n",
            " [1089.08  999.  ]\n",
            " [1204.21 1199.  ]\n",
            " [ 532.01  449.  ]\n",
            " [ 437.29  449.  ]\n",
            " [ 532.01  459.  ]\n",
            " [ 381.68  499.  ]\n",
            " [ 458.48  349.  ]\n",
            " [ 182.55  199.  ]\n",
            " [ 215.75  249.  ]\n",
            " [ 715.93  699.  ]\n",
            " [ 279.05  299.  ]\n",
            " [ 794.09  799.  ]\n",
            " [ 653.07  649.  ]\n",
            " [ 218.17  149.  ]\n",
            " [ 138.62   99.  ]\n",
            " [ 167.96  169.  ]\n",
            " [ 431.03  329.  ]\n",
            " [ 133.91  139.  ]\n",
            " [ 705.34  699.  ]\n",
            " [  92.12   99.  ]\n",
            " [ 218.22  179.  ]\n",
            " [ 669.42  799.  ]\n",
            " [  93.84   99.  ]\n",
            " [ 259.97  279.  ]\n",
            " [ 224.38  199.  ]\n",
            " [ 710.07  729.  ]\n",
            " [ 778.61  799.  ]\n",
            " [ 381.7   499.  ]\n",
            " [ 276.52  249.  ]\n",
            " [ 237.6   219.  ]\n",
            " [ 276.52  249.  ]\n",
            " [ 244.15  249.  ]\n",
            " [ 534.95  499.  ]\n",
            " [ 230.31  179.  ]\n",
            " [ 230.31  219.  ]\n",
            " [ 914.29 1199.  ]\n",
            " [ 165.28  149.  ]\n",
            " [ 653.07  399.  ]]\n"
          ]
        }
      ]
    },
    {
      "cell_type": "markdown",
      "source": [
        "Evaluating the Model Performance"
      ],
      "metadata": {
        "id": "ileaFomqrYlT"
      }
    },
    {
      "cell_type": "code",
      "source": [
        "r2_score(y_test, y_pred_cb)"
      ],
      "metadata": {
        "colab": {
          "base_uri": "https://localhost:8080/"
        },
        "id": "434wCzSMreIv",
        "outputId": "8b283a24-f6fd-4aee-d2e7-96a17ecc0baf"
      },
      "execution_count": 30,
      "outputs": [
        {
          "output_type": "execute_result",
          "data": {
            "text/plain": [
              "0.8878245092938506"
            ]
          },
          "metadata": {},
          "execution_count": 30
        }
      ]
    },
    {
      "cell_type": "markdown",
      "source": [
        "# Selection of the best Model"
      ],
      "metadata": {
        "id": "DCpVEzEyt6ja"
      }
    },
    {
      "cell_type": "markdown",
      "source": [
        "For comparison of our different models, we will use r2 Score\n",
        "as our parameter:-\n",
        "\n",
        "\n",
        "1.   Multiple Linear Regression - 0.824\n",
        "1.   Support Vector Regression - 0.872\n",
        "1.   Decision Tree Regression - 0.765\n",
        "2.   Random Forest Regression - 0.830\n",
        "5.   XGBoost - 0.865\n",
        "5.   CatBoost - 0.887\n",
        "\n"
      ],
      "metadata": {
        "id": "fJrLkwQwuAkh"
      }
    },
    {
      "cell_type": "markdown",
      "source": [
        "So, clearly **CatBoost** is our best model with an amazing r2 score of 0.887."
      ],
      "metadata": {
        "id": "DjwMhUXevFVC"
      }
    },
    {
      "cell_type": "markdown",
      "source": [
        "## BONUS TASK - Exploratory Data Analysis(EDA)"
      ],
      "metadata": {
        "id": "93GlpTDovWjK"
      }
    },
    {
      "cell_type": "code",
      "source": [
        "display(dataset)"
      ],
      "metadata": {
        "colab": {
          "base_uri": "https://localhost:8080/",
          "height": 468
        },
        "id": "lun90exKw0MC",
        "outputId": "aee95505-6218-4353-c8de-0a8ed5b93fc1"
      },
      "execution_count": 38,
      "outputs": [
        {
          "output_type": "display_data",
          "data": {
            "text/plain": [
              "                 Model    Brand  Storage(GB)  RAM(GB)  Screen Size (inches)  \\\n",
              "0        iPhone 13 Pro    Apple          128        6                  6.10   \n",
              "1     Galaxy S21 Ultra  Samsung          256       12                  6.80   \n",
              "2                9 Pro  OnePlus          128        8                  6.70   \n",
              "3    Redmi Note 10 Pro   Xiaomi          128        6                  6.67   \n",
              "4              Pixel 6   Google          128        8                  6.40   \n",
              "..                 ...      ...          ...      ...                   ...   \n",
              "397   Galaxy Note20 5G  Samsung          128        8                  6.70   \n",
              "398      Mi 10 Lite 5G   Xiaomi          128        6                  6.57   \n",
              "399  iPhone 12 Pro Max    Apple          128        6                  6.70   \n",
              "400              Reno3     Oppo          128        8                  6.40   \n",
              "401    Galaxy S10 Lite  Samsung          128        6                  6.70   \n",
              "\n",
              "     Battery Capacity (mAh)  Price (in dollars)  \n",
              "0                      3095               999.0  \n",
              "1                      5000              1199.0  \n",
              "2                      4500               899.0  \n",
              "3                      5020               279.0  \n",
              "4                      4614               799.0  \n",
              "..                      ...                 ...  \n",
              "397                    4300              1049.0  \n",
              "398                    4160               349.0  \n",
              "399                    3687              1099.0  \n",
              "400                    4025               429.0  \n",
              "401                    4500               649.0  \n",
              "\n",
              "[402 rows x 7 columns]"
            ],
            "text/html": [
              "\n",
              "\n",
              "  <div id=\"df-0f47bbd1-6b5e-46ed-8d78-92e5d0e353aa\">\n",
              "    <div class=\"colab-df-container\">\n",
              "      <div>\n",
              "<style scoped>\n",
              "    .dataframe tbody tr th:only-of-type {\n",
              "        vertical-align: middle;\n",
              "    }\n",
              "\n",
              "    .dataframe tbody tr th {\n",
              "        vertical-align: top;\n",
              "    }\n",
              "\n",
              "    .dataframe thead th {\n",
              "        text-align: right;\n",
              "    }\n",
              "</style>\n",
              "<table border=\"1\" class=\"dataframe\">\n",
              "  <thead>\n",
              "    <tr style=\"text-align: right;\">\n",
              "      <th></th>\n",
              "      <th>Model</th>\n",
              "      <th>Brand</th>\n",
              "      <th>Storage(GB)</th>\n",
              "      <th>RAM(GB)</th>\n",
              "      <th>Screen Size (inches)</th>\n",
              "      <th>Battery Capacity (mAh)</th>\n",
              "      <th>Price (in dollars)</th>\n",
              "    </tr>\n",
              "  </thead>\n",
              "  <tbody>\n",
              "    <tr>\n",
              "      <th>0</th>\n",
              "      <td>iPhone 13 Pro</td>\n",
              "      <td>Apple</td>\n",
              "      <td>128</td>\n",
              "      <td>6</td>\n",
              "      <td>6.10</td>\n",
              "      <td>3095</td>\n",
              "      <td>999.0</td>\n",
              "    </tr>\n",
              "    <tr>\n",
              "      <th>1</th>\n",
              "      <td>Galaxy S21 Ultra</td>\n",
              "      <td>Samsung</td>\n",
              "      <td>256</td>\n",
              "      <td>12</td>\n",
              "      <td>6.80</td>\n",
              "      <td>5000</td>\n",
              "      <td>1199.0</td>\n",
              "    </tr>\n",
              "    <tr>\n",
              "      <th>2</th>\n",
              "      <td>9 Pro</td>\n",
              "      <td>OnePlus</td>\n",
              "      <td>128</td>\n",
              "      <td>8</td>\n",
              "      <td>6.70</td>\n",
              "      <td>4500</td>\n",
              "      <td>899.0</td>\n",
              "    </tr>\n",
              "    <tr>\n",
              "      <th>3</th>\n",
              "      <td>Redmi Note 10 Pro</td>\n",
              "      <td>Xiaomi</td>\n",
              "      <td>128</td>\n",
              "      <td>6</td>\n",
              "      <td>6.67</td>\n",
              "      <td>5020</td>\n",
              "      <td>279.0</td>\n",
              "    </tr>\n",
              "    <tr>\n",
              "      <th>4</th>\n",
              "      <td>Pixel 6</td>\n",
              "      <td>Google</td>\n",
              "      <td>128</td>\n",
              "      <td>8</td>\n",
              "      <td>6.40</td>\n",
              "      <td>4614</td>\n",
              "      <td>799.0</td>\n",
              "    </tr>\n",
              "    <tr>\n",
              "      <th>...</th>\n",
              "      <td>...</td>\n",
              "      <td>...</td>\n",
              "      <td>...</td>\n",
              "      <td>...</td>\n",
              "      <td>...</td>\n",
              "      <td>...</td>\n",
              "      <td>...</td>\n",
              "    </tr>\n",
              "    <tr>\n",
              "      <th>397</th>\n",
              "      <td>Galaxy Note20 5G</td>\n",
              "      <td>Samsung</td>\n",
              "      <td>128</td>\n",
              "      <td>8</td>\n",
              "      <td>6.70</td>\n",
              "      <td>4300</td>\n",
              "      <td>1049.0</td>\n",
              "    </tr>\n",
              "    <tr>\n",
              "      <th>398</th>\n",
              "      <td>Mi 10 Lite 5G</td>\n",
              "      <td>Xiaomi</td>\n",
              "      <td>128</td>\n",
              "      <td>6</td>\n",
              "      <td>6.57</td>\n",
              "      <td>4160</td>\n",
              "      <td>349.0</td>\n",
              "    </tr>\n",
              "    <tr>\n",
              "      <th>399</th>\n",
              "      <td>iPhone 12 Pro Max</td>\n",
              "      <td>Apple</td>\n",
              "      <td>128</td>\n",
              "      <td>6</td>\n",
              "      <td>6.70</td>\n",
              "      <td>3687</td>\n",
              "      <td>1099.0</td>\n",
              "    </tr>\n",
              "    <tr>\n",
              "      <th>400</th>\n",
              "      <td>Reno3</td>\n",
              "      <td>Oppo</td>\n",
              "      <td>128</td>\n",
              "      <td>8</td>\n",
              "      <td>6.40</td>\n",
              "      <td>4025</td>\n",
              "      <td>429.0</td>\n",
              "    </tr>\n",
              "    <tr>\n",
              "      <th>401</th>\n",
              "      <td>Galaxy S10 Lite</td>\n",
              "      <td>Samsung</td>\n",
              "      <td>128</td>\n",
              "      <td>6</td>\n",
              "      <td>6.70</td>\n",
              "      <td>4500</td>\n",
              "      <td>649.0</td>\n",
              "    </tr>\n",
              "  </tbody>\n",
              "</table>\n",
              "<p>402 rows × 7 columns</p>\n",
              "</div>\n",
              "      <button class=\"colab-df-convert\" onclick=\"convertToInteractive('df-0f47bbd1-6b5e-46ed-8d78-92e5d0e353aa')\"\n",
              "              title=\"Convert this dataframe to an interactive table.\"\n",
              "              style=\"display:none;\">\n",
              "\n",
              "  <svg xmlns=\"http://www.w3.org/2000/svg\" height=\"24px\"viewBox=\"0 0 24 24\"\n",
              "       width=\"24px\">\n",
              "    <path d=\"M0 0h24v24H0V0z\" fill=\"none\"/>\n",
              "    <path d=\"M18.56 5.44l.94 2.06.94-2.06 2.06-.94-2.06-.94-.94-2.06-.94 2.06-2.06.94zm-11 1L8.5 8.5l.94-2.06 2.06-.94-2.06-.94L8.5 2.5l-.94 2.06-2.06.94zm10 10l.94 2.06.94-2.06 2.06-.94-2.06-.94-.94-2.06-.94 2.06-2.06.94z\"/><path d=\"M17.41 7.96l-1.37-1.37c-.4-.4-.92-.59-1.43-.59-.52 0-1.04.2-1.43.59L10.3 9.45l-7.72 7.72c-.78.78-.78 2.05 0 2.83L4 21.41c.39.39.9.59 1.41.59.51 0 1.02-.2 1.41-.59l7.78-7.78 2.81-2.81c.8-.78.8-2.07 0-2.86zM5.41 20L4 18.59l7.72-7.72 1.47 1.35L5.41 20z\"/>\n",
              "  </svg>\n",
              "      </button>\n",
              "\n",
              "\n",
              "\n",
              "    <div id=\"df-a2ed91e9-16cf-45c1-9765-9bb9e708c0d1\">\n",
              "      <button class=\"colab-df-quickchart\" onclick=\"quickchart('df-a2ed91e9-16cf-45c1-9765-9bb9e708c0d1')\"\n",
              "              title=\"Suggest charts.\"\n",
              "              style=\"display:none;\">\n",
              "\n",
              "<svg xmlns=\"http://www.w3.org/2000/svg\" height=\"24px\"viewBox=\"0 0 24 24\"\n",
              "     width=\"24px\">\n",
              "    <g>\n",
              "        <path d=\"M19 3H5c-1.1 0-2 .9-2 2v14c0 1.1.9 2 2 2h14c1.1 0 2-.9 2-2V5c0-1.1-.9-2-2-2zM9 17H7v-7h2v7zm4 0h-2V7h2v10zm4 0h-2v-4h2v4z\"/>\n",
              "    </g>\n",
              "</svg>\n",
              "      </button>\n",
              "    </div>\n",
              "\n",
              "<style>\n",
              "  .colab-df-quickchart {\n",
              "    background-color: #E8F0FE;\n",
              "    border: none;\n",
              "    border-radius: 50%;\n",
              "    cursor: pointer;\n",
              "    display: none;\n",
              "    fill: #1967D2;\n",
              "    height: 32px;\n",
              "    padding: 0 0 0 0;\n",
              "    width: 32px;\n",
              "  }\n",
              "\n",
              "  .colab-df-quickchart:hover {\n",
              "    background-color: #E2EBFA;\n",
              "    box-shadow: 0px 1px 2px rgba(60, 64, 67, 0.3), 0px 1px 3px 1px rgba(60, 64, 67, 0.15);\n",
              "    fill: #174EA6;\n",
              "  }\n",
              "\n",
              "  [theme=dark] .colab-df-quickchart {\n",
              "    background-color: #3B4455;\n",
              "    fill: #D2E3FC;\n",
              "  }\n",
              "\n",
              "  [theme=dark] .colab-df-quickchart:hover {\n",
              "    background-color: #434B5C;\n",
              "    box-shadow: 0px 1px 3px 1px rgba(0, 0, 0, 0.15);\n",
              "    filter: drop-shadow(0px 1px 2px rgba(0, 0, 0, 0.3));\n",
              "    fill: #FFFFFF;\n",
              "  }\n",
              "</style>\n",
              "\n",
              "    <script>\n",
              "      async function quickchart(key) {\n",
              "        const containerElement = document.querySelector('#' + key);\n",
              "        const charts = await google.colab.kernel.invokeFunction(\n",
              "            'suggestCharts', [key], {});\n",
              "      }\n",
              "    </script>\n",
              "\n",
              "      <script>\n",
              "\n",
              "function displayQuickchartButton(domScope) {\n",
              "  let quickchartButtonEl =\n",
              "    domScope.querySelector('#df-a2ed91e9-16cf-45c1-9765-9bb9e708c0d1 button.colab-df-quickchart');\n",
              "  quickchartButtonEl.style.display =\n",
              "    google.colab.kernel.accessAllowed ? 'block' : 'none';\n",
              "}\n",
              "\n",
              "        displayQuickchartButton(document);\n",
              "      </script>\n",
              "      <style>\n",
              "    .colab-df-container {\n",
              "      display:flex;\n",
              "      flex-wrap:wrap;\n",
              "      gap: 12px;\n",
              "    }\n",
              "\n",
              "    .colab-df-convert {\n",
              "      background-color: #E8F0FE;\n",
              "      border: none;\n",
              "      border-radius: 50%;\n",
              "      cursor: pointer;\n",
              "      display: none;\n",
              "      fill: #1967D2;\n",
              "      height: 32px;\n",
              "      padding: 0 0 0 0;\n",
              "      width: 32px;\n",
              "    }\n",
              "\n",
              "    .colab-df-convert:hover {\n",
              "      background-color: #E2EBFA;\n",
              "      box-shadow: 0px 1px 2px rgba(60, 64, 67, 0.3), 0px 1px 3px 1px rgba(60, 64, 67, 0.15);\n",
              "      fill: #174EA6;\n",
              "    }\n",
              "\n",
              "    [theme=dark] .colab-df-convert {\n",
              "      background-color: #3B4455;\n",
              "      fill: #D2E3FC;\n",
              "    }\n",
              "\n",
              "    [theme=dark] .colab-df-convert:hover {\n",
              "      background-color: #434B5C;\n",
              "      box-shadow: 0px 1px 3px 1px rgba(0, 0, 0, 0.15);\n",
              "      filter: drop-shadow(0px 1px 2px rgba(0, 0, 0, 0.3));\n",
              "      fill: #FFFFFF;\n",
              "    }\n",
              "  </style>\n",
              "\n",
              "      <script>\n",
              "        const buttonEl =\n",
              "          document.querySelector('#df-0f47bbd1-6b5e-46ed-8d78-92e5d0e353aa button.colab-df-convert');\n",
              "        buttonEl.style.display =\n",
              "          google.colab.kernel.accessAllowed ? 'block' : 'none';\n",
              "\n",
              "        async function convertToInteractive(key) {\n",
              "          const element = document.querySelector('#df-0f47bbd1-6b5e-46ed-8d78-92e5d0e353aa');\n",
              "          const dataTable =\n",
              "            await google.colab.kernel.invokeFunction('convertToInteractive',\n",
              "                                                     [key], {});\n",
              "          if (!dataTable) return;\n",
              "\n",
              "          const docLinkHtml = 'Like what you see? Visit the ' +\n",
              "            '<a target=\"_blank\" href=https://colab.research.google.com/notebooks/data_table.ipynb>data table notebook</a>'\n",
              "            + ' to learn more about interactive tables.';\n",
              "          element.innerHTML = '';\n",
              "          dataTable['output_type'] = 'display_data';\n",
              "          await google.colab.output.renderOutput(dataTable, element);\n",
              "          const docLink = document.createElement('div');\n",
              "          docLink.innerHTML = docLinkHtml;\n",
              "          element.appendChild(docLink);\n",
              "        }\n",
              "      </script>\n",
              "    </div>\n",
              "  </div>\n"
            ]
          },
          "metadata": {}
        }
      ]
    },
    {
      "cell_type": "markdown",
      "source": [
        "###Plotting Bar Graph between Price and Brand"
      ],
      "metadata": {
        "id": "FXyityNjvoD2"
      }
    },
    {
      "cell_type": "code",
      "source": [
        "price = dataset['Price (in dollars)']\n",
        "brand = dataset['Brand']\n",
        "plt.figure(figsize=(12, 6))\n",
        "plt.bar(brand,price)\n",
        "plt.xlabel('Brand')\n",
        "plt.ylabel('Price')\n",
        "plt.title('Price vs Brand')\n",
        "plt.show()"
      ],
      "metadata": {
        "colab": {
          "base_uri": "https://localhost:8080/",
          "height": 564
        },
        "id": "XfCVI0dZwQP8",
        "outputId": "d8adbd43-96c9-4051-9173-38059413aa02"
      },
      "execution_count": 44,
      "outputs": [
        {
          "output_type": "display_data",
          "data": {
            "text/plain": [
              "<Figure size 1200x600 with 1 Axes>"
            ],
            "image/png": "[encoded data removed]"
          },
          "metadata": {}
        }
      ]
    },
    {
      "cell_type": "markdown",
      "source": [
        "###Plotting Bar Graph between Price and Storage"
      ],
      "metadata": {
        "id": "8FXJ6ScE0Vlt"
      }
    },
    {
      "cell_type": "code",
      "source": [
        "price = dataset['Price (in dollars)']\n",
        "storage = dataset['Storage(GB)']\n",
        "plt.figure(figsize=(12, 4))\n",
        "plt.bar(storage,price)\n",
        "plt.xlabel('Storage(GB)')\n",
        "plt.ylabel('Price')\n",
        "plt.title('Price vs Storage')\n",
        "plt.show()"
      ],
      "metadata": {
        "colab": {
          "base_uri": "https://localhost:8080/",
          "height": 410
        },
        "id": "CXwkHsk70WAQ",
        "outputId": "82d0b9ff-91a0-4393-ad06-f14014aa1d02"
      },
      "execution_count": 56,
      "outputs": [
        {
          "output_type": "display_data",
          "data": {
            "text/plain": [
              "<Figure size 1200x400 with 1 Axes>"
            ],
            "image/png": "[encoded data removed]"
          },
          "metadata": {}
        }
      ]
    },
    {
      "cell_type": "markdown",
      "source": [
        "###Plotting Bar Graph between Price and RAM"
      ],
      "metadata": {
        "id": "QjLqqGTU0JpI"
      }
    },
    {
      "cell_type": "code",
      "source": [
        "price = dataset['Price (in dollars)']\n",
        "ram = dataset['RAM(GB)']\n",
        "plt.figure(figsize=(12, 4))\n",
        "plt.bar(ram,price)\n",
        "plt.xlabel('RAM(GB)')\n",
        "plt.ylabel('Price')\n",
        "plt.title('Price vs RAM')\n",
        "plt.show()"
      ],
      "metadata": {
        "colab": {
          "base_uri": "https://localhost:8080/",
          "height": 410
        },
        "id": "8-6QGlmnwQvt",
        "outputId": "080ec467-f6fd-4732-e591-861075ecfaf6"
      },
      "execution_count": 53,
      "outputs": [
        {
          "output_type": "display_data",
          "data": {
            "text/plain": [
              "<Figure size 1200x400 with 1 Axes>"
            ],
            "image/png": "[encoded data removed]"
          },
          "metadata": {}
        }
      ]
    },
    {
      "cell_type": "markdown",
      "source": [
        "###Plotting Bar Graph between Price and Screen Size"
      ],
      "metadata": {
        "id": "mbfWpdzd0Mpk"
      }
    },
    {
      "cell_type": "code",
      "source": [
        "price = dataset['Price (in dollars)']\n",
        "screen_size = dataset['Screen Size (inches)']\n",
        "plt.figure(figsize=(12, 4))\n",
        "plt.bar(screen_size,price)\n",
        "plt.xlabel('Screen Size (inches)')\n",
        "plt.ylabel('Price')\n",
        "plt.title('Price vs Screen Size')\n",
        "plt.show()"
      ],
      "metadata": {
        "colab": {
          "base_uri": "https://localhost:8080/",
          "height": 410
        },
        "id": "3oLd5Hs1wQ3k",
        "outputId": "20a6a799-2995-422a-d5cf-9df05c9669be"
      },
      "execution_count": 52,
      "outputs": [
        {
          "output_type": "display_data",
          "data": {
            "text/plain": [
              "<Figure size 1200x400 with 1 Axes>"
            ],
            "image/png": "[encoded data removed]"
          },
          "metadata": {}
        }
      ]
    },
    {
      "cell_type": "markdown",
      "source": [
        "###Plotting Bar Graph between Price and Battery Capacity"
      ],
      "metadata": {
        "id": "_1IN2SIR0OXN"
      }
    },
    {
      "cell_type": "code",
      "source": [
        "price = dataset['Price (in dollars)']\n",
        "battery = dataset['Battery Capacity (mAh)']\n",
        "plt.figure(figsize=(12, 4))\n",
        "plt.bar(battery,price)\n",
        "plt.xlabel('Battery Capacity (mAh)')\n",
        "plt.ylabel('Price')\n",
        "plt.title('Price vs Battery Capacity')\n",
        "plt.show()"
      ],
      "metadata": {
        "colab": {
          "base_uri": "https://localhost:8080/",
          "height": 410
        },
        "id": "wCMt2slxwQ6H",
        "outputId": "81707f06-84d3-4a5a-c255-92337cdba40d"
      },
      "execution_count": 54,
      "outputs": [
        {
          "output_type": "display_data",
          "data": {
            "text/plain": [
              "<Figure size 1200x400 with 1 Axes>"
            ],
            "image/png": "[encoded data removed]"
          },
          "metadata": {}
        }
      ]
    },
    {
      "cell_type": "markdown",
      "source": [
        "###Plotting Histogram between No. of Mobiles and Price\n",
        "\n"
      ],
      "metadata": {
        "id": "hO8-xoC8woee"
      }
    },
    {
      "cell_type": "code",
      "source": [
        "import seaborn\n",
        "seaborn.displot(dataset['Price (in dollars)'])"
      ],
      "metadata": {
        "colab": {
          "base_uri": "https://localhost:8080/",
          "height": 524
        },
        "id": "-urcI9vBwo03",
        "outputId": "b5ef66a1-9240-4f19-b546-93c9e0ca6f36"
      },
      "execution_count": 55,
      "outputs": [
        {
          "output_type": "execute_result",
          "data": {
            "text/plain": [
              "<seaborn.axisgrid.FacetGrid at 0x7858ed332980>"
            ]
          },
          "metadata": {},
          "execution_count": 55
        },
        {
          "output_type": "display_data",
          "data": {
            "text/plain": [
              "<Figure size 500x500 with 1 Axes>"
            ],
            "image/png": "[encoded data removed]"
          },
          "metadata": {}
        }
      ]
    },
    {
      "cell_type": "markdown",
      "source": [
        "## Conclusions :-"
      ],
      "metadata": {
        "id": "Y0dfCqkd09IO"
      }
    },
    {
      "cell_type": "markdown",
      "source": [
        "* The price of mobile phones depends very much on their\n",
        "  brand,we can observe that mobiles of Huawei, Apple and Samsung are much costlier than Realme,Motorola.\n",
        "\n",
        "* More the Storage, more costlier the mobile phone is.\n",
        "\n",
        "* More the RAM, more costlier the mobile phone is but 8GB\n",
        "  RAM mobiles are costlier than 12GB RAM, may be due to the reason that 12GB RAM is not commonly offered by the premium brands.\n",
        "\n",
        "* Nothing clear conclusion can be made w.r.t Battery\n",
        "  Capacity.\n",
        "\n",
        "* Cheaper mobile phones are clearly in more in number as\n",
        "  most people want a affordable mobile phone for the day-to-day use."
      ],
      "metadata": {
        "id": "sQ1pKJGk1CcO"
      }
    }
  ]
}