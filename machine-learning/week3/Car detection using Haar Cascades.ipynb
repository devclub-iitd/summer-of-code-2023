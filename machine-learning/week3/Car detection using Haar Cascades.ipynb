{
 "cells": [
  {
   "cell_type": "code",
   "execution_count": 1,
   "id": "3b2db876",
   "metadata": {},
   "outputs": [
    {
     "name": "stderr",
     "output_type": "stream",
     "text": [
      "<>:17: SyntaxWarning: \"is\" with a literal. Did you mean \"==\"?\n",
      "<>:17: SyntaxWarning: \"is\" with a literal. Did you mean \"==\"?\n",
      "C:\\Users\\adity\\AppData\\Local\\Temp\\ipykernel_37336\\590239235.py:17: SyntaxWarning: \"is\" with a literal. Did you mean \"==\"?\n",
      "  if cars is ():\n"
     ]
    }
   ],
   "source": [
    "import numpy as np\n",
    "import cv2\n",
    "\n",
    "# We point OpenCV's CascadeClassifier function to where our \n",
    "# classifier (XML file format) is stored\n",
    "car_classifier = cv2.CascadeClassifier('Haarcascades/haarcascade_car.xml')\n",
    "\n",
    "# Load our image then convert it to grayscale\n",
    "image = cv2.imread('lambo1.jpg')\n",
    "gray = cv2.cvtColor(image, cv2.COLOR_BGR2GRAY)\n",
    "\n",
    "# Our classifier returns the ROI of the detected car as a tuple\n",
    "# It stores the top left coordinate and the bottom right coordiantes\n",
    "cars = car_classifier.detectMultiScale(gray, 1.4, 2)\n",
    "\n",
    "# When no cars detected, car_classifier returns and empty tuple\n",
    "if cars is ():\n",
    "    print(\"No cars found\")\n",
    "\n",
    "# We iterate through our faces array and draw a rectangle\n",
    "# over each car in cars\n",
    "for (x,y,w,h) in cars:\n",
    "    cv2.rectangle(image, (x,y), (x+w,y+h), (0,255,0), 2)\n",
    "    cv2.imshow('Car Detection', image)\n",
    "    cv2.waitKey(0)\n",
    "    \n",
    "cv2.destroyAllWindows()"
   ]
  },
  {
   "cell_type": "code",
   "execution_count": null,
   "id": "00a3561f",
   "metadata": {},
   "outputs": [],
   "source": []
  }
 ],
 "metadata": {
  "kernelspec": {
   "display_name": "Python 3 (ipykernel)",
   "language": "python",
   "name": "python3"
  },
  "language_info": {
   "codemirror_mode": {
    "name": "ipython",
    "version": 3
   },
   "file_extension": ".py",
   "mimetype": "text/x-python",
   "name": "python",
   "nbconvert_exporter": "python",
   "pygments_lexer": "ipython3",
   "version": "3.11.4"
  }
 },
 "nbformat": 4,
 "nbformat_minor": 5
}
