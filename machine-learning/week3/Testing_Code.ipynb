{
 "cells": [
  {
   "cell_type": "markdown",
   "id": "65fa36ac",
   "metadata": {},
   "source": [
    "# Predicting Rotation Angle of Images using a Trained Model\n",
    "\n",
    "This documentation provides an example of how to predict the rotation angle of an image using a trained model in TensorFlow and Keras. The model architecture used in this example consists of convolutional and fully connected layers.\n"
   ]
  },
  {
   "cell_type": "code",
   "execution_count": 45,
   "id": "a24d3833",
   "metadata": {},
   "outputs": [],
   "source": [
    "from tensorflow.keras.models import Sequential\n",
    "from tensorflow.keras.layers import Conv2D, MaxPooling2D, Flatten, Dense\n",
    "from tensorflow.keras.preprocessing.image import load_img, img_to_array, smart_resize\n",
    "import numpy as np"
   ]
  },
  {
   "cell_type": "code",
   "execution_count": 46,
   "id": "77f0d7ba",
   "metadata": {},
   "outputs": [],
   "source": [
    "# Define the desired image size\n",
    "image_width, image_height = 180, 240"
   ]
  },
  {
   "cell_type": "code",
   "execution_count": 57,
   "id": "494e0271",
   "metadata": {},
   "outputs": [],
   "source": [
    "# Create a new instance of the model\n",
    "new_model = Sequential()\n",
    "new_model.add(Conv2D(32, (3, 3), activation='relu', input_shape=(image_width, image_height, 3)))\n",
    "new_model.add(MaxPooling2D((2, 2)))\n",
    "new_model.add(Conv2D(64, (3, 3), activation='relu'))\n",
    "new_model.add(MaxPooling2D((2, 2)))\n",
    "new_model.add(Flatten())\n",
    "new_model.add(Dense(128, activation='relu'))\n",
    "new_model.add(Dense(37, activation='softmax'))\n",
    "\n",
    "# Load the saved weights\n",
    "new_model.load_weights('model_weights.h5')"
   ]
  },
  {
   "cell_type": "code",
   "execution_count": 70,
   "id": "ff097b0f",
   "metadata": {},
   "outputs": [],
   "source": [
    "# Load the random test image\n",
    "test_image_path = './download.png'\n",
    "test_image = load_img(test_image_path)\n",
    "test_image = smart_resize(test_image, (image_width, image_height))\n",
    "test_image = img_to_array(test_image) / 255.0\n",
    "test_image = np.expand_dims(test_image, axis=0)\n"
   ]
  },
  {
   "cell_type": "code",
   "execution_count": 71,
   "id": "76993fa5",
   "metadata": {},
   "outputs": [
    {
     "name": "stdout",
     "output_type": "stream",
     "text": [
      "1/1 [==============================] - 0s 53ms/step\n"
     ]
    }
   ],
   "source": [
    "# Make predictions using the trained model\n",
    "predictions = new_model.predict(test_image)\n",
    "\n",
    "# Get the predicted rotation angle\n",
    "predicted_angle = (np.argmax(predictions)*5)-90"
   ]
  },
  {
   "cell_type": "code",
   "execution_count": 72,
   "id": "df0fa8ca",
   "metadata": {},
   "outputs": [
    {
     "name": "stdout",
     "output_type": "stream",
     "text": [
      "Predicted Rotation Angle: 90\n"
     ]
    }
   ],
   "source": [
    "print(\"Predicted Rotation Angle:\", predicted_angle)\n"
   ]
  },
  {
   "cell_type": "code",
   "execution_count": null,
   "id": "11335da9",
   "metadata": {},
   "outputs": [],
   "source": []
  }
 ],
 "metadata": {
  "kernelspec": {
   "display_name": "Python 3 (ipykernel)",
   "language": "python",
   "name": "python3"
  },
  "language_info": {
   "codemirror_mode": {
    "name": "ipython",
    "version": 3
   },
   "file_extension": ".py",
   "mimetype": "text/x-python",
   "name": "python",
   "nbconvert_exporter": "python",
   "pygments_lexer": "ipython3",
   "version": "3.11.3"
  }
 },
 "nbformat": 4,
 "nbformat_minor": 5
}
