{
 "cells": [
  {
   "cell_type": "markdown",
   "id": "0dbd5de4",
   "metadata": {},
   "source": [
    "# Auto-Alignment Tool Documentation\n",
    "\n",
    "## Introduction\n",
    "The Auto-Alignment Tool is a machine learning-based application designed to automatically align and adjust images. It utilizes a neural network trained on a database of apparel images to perform accurate alignments. This documentation provides an overview of the tool and its different components.\n",
    "\n",
    "## Components\n",
    "\n",
    "The Auto-Alignment Tool consists of the following main components:\n",
    "\n",
    "1. Database Creation: \n",
    "   - In this step, an image database is created for training the neural network. The database contains a collection of apparel images.\n",
    "   - To generate a large dataset, artificial data augmentation techniques are employed. This involves applying transformations such as rotation, scaling, and translation to the original images to create variations.\n",
    "\n",
    "2. Neural Network Training:\n",
    "   - Once the database is prepared, a neural network is trained using the images from the database.\n",
    "   - The training process involves optimizing the network's parameters to minimize the difference between the predicted alignment and the ground truth alignment of the images.\n",
    "   - Training the neural network typically requires a significant amount of computational resources and can take several hours.\n",
    "\n",
    "3. Flask API Development:\n",
    "   - After the neural network is trained, a Flask API is created to expose the alignment functionality.\n",
    "   - The Flask API allows users to send requests to the server, providing images that need alignment.\n",
    "   - The API processes the input images using the trained neural network and returns the aligned images as a response.\n",
    "\n",
    "4. Frontend Integration:\n",
    "   - The final step involves integrating the Flask API with a frontend interface.\n",
    "   - The frontend allows users to interact with the Auto-Alignment Tool, providing input images and receiving the aligned images.\n",
    "   - The aligned images can be displayed to the users for further analysis or use in other applications.\n",
    "   \n",
    "## Note\n",
    "\n",
    "- Run flask API by ```python app.py```\n",
    "- Run frontend react by ```cd client && npm install && npm run start```\n"
   ]
  },
  {
   "cell_type": "code",
   "execution_count": null,
   "id": "3f5ebbf7",
   "metadata": {},
   "outputs": [],
   "source": []
  }
 ],
 "metadata": {
  "kernelspec": {
   "display_name": "Python 3 (ipykernel)",
   "language": "python",
   "name": "python3"
  },
  "language_info": {
   "codemirror_mode": {
    "name": "ipython",
    "version": 3
   },
   "file_extension": ".py",
   "mimetype": "text/x-python",
   "name": "python",
   "nbconvert_exporter": "python",
   "pygments_lexer": "ipython3",
   "version": "3.11.3"
  }
 },
 "nbformat": 4,
 "nbformat_minor": 5
}
